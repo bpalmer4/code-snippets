{
 "cells": [
  {
   "cell_type": "markdown",
   "id": "6e1fa455",
   "metadata": {},
   "source": [
    "# Introduction to sympy\n",
    "\n",
    "A Python library for symbolic computations"
   ]
  },
  {
   "cell_type": "markdown",
   "id": "aa606714",
   "metadata": {
    "toc": true
   },
   "source": [
    "<h1>Table of Contents<span class=\"tocSkip\"></span></h1>\n",
    "<div class=\"toc\"><ul class=\"toc-item\"><li><span><a href=\"#Python-set-up\" data-toc-modified-id=\"Python-set-up-1\"><span class=\"toc-item-num\">1&nbsp;&nbsp;</span>Python set-up</a></span></li><li><span><a href=\"#Numbers\" data-toc-modified-id=\"Numbers-2\"><span class=\"toc-item-num\">2&nbsp;&nbsp;</span>Numbers</a></span><ul class=\"toc-item\"><li><span><a href=\"#Integers\" data-toc-modified-id=\"Integers-2.1\"><span class=\"toc-item-num\">2.1&nbsp;&nbsp;</span>Integers</a></span></li><li><span><a href=\"#Floats-or-Reals\" data-toc-modified-id=\"Floats-or-Reals-2.2\"><span class=\"toc-item-num\">2.2&nbsp;&nbsp;</span>Floats or Reals</a></span></li><li><span><a href=\"#Rationals-or-Fractions\" data-toc-modified-id=\"Rationals-or-Fractions-2.3\"><span class=\"toc-item-num\">2.3&nbsp;&nbsp;</span>Rationals or Fractions</a></span></li><li><span><a href=\"#Surds\" data-toc-modified-id=\"Surds-2.4\"><span class=\"toc-item-num\">2.4&nbsp;&nbsp;</span>Surds</a></span></li><li><span><a href=\"#Useful-constants\" data-toc-modified-id=\"Useful-constants-2.5\"><span class=\"toc-item-num\">2.5&nbsp;&nbsp;</span>Useful constants</a></span></li><li><span><a href=\"#Complex-numbers\" data-toc-modified-id=\"Complex-numbers-2.6\"><span class=\"toc-item-num\">2.6&nbsp;&nbsp;</span>Complex numbers</a></span></li><li><span><a href=\"#Miscellaneous\" data-toc-modified-id=\"Miscellaneous-2.7\"><span class=\"toc-item-num\">2.7&nbsp;&nbsp;</span>Miscellaneous</a></span></li></ul></li><li><span><a href=\"#Symbols\" data-toc-modified-id=\"Symbols-3\"><span class=\"toc-item-num\">3&nbsp;&nbsp;</span>Symbols</a></span><ul class=\"toc-item\"><li><span><a href=\"#Import-symbols-from-sympy.abc\" data-toc-modified-id=\"Import-symbols-from-sympy.abc-3.1\"><span class=\"toc-item-num\">3.1&nbsp;&nbsp;</span>Import symbols from sympy.abc</a></span></li><li><span><a href=\"#Define--one-symbol-at-a-time\" data-toc-modified-id=\"Define--one-symbol-at-a-time-3.2\"><span class=\"toc-item-num\">3.2&nbsp;&nbsp;</span>Define  one symbol at a time</a></span></li><li><span><a href=\"#Define-multiple-symbols-in-one-line-of-code\" data-toc-modified-id=\"Define-multiple-symbols-in-one-line-of-code-3.3\"><span class=\"toc-item-num\">3.3&nbsp;&nbsp;</span>Define multiple symbols in one line of code</a></span></li><li><span><a href=\"#Set-the-attributes-of-a-symbol\" data-toc-modified-id=\"Set-the-attributes-of-a-symbol-3.4\"><span class=\"toc-item-num\">3.4&nbsp;&nbsp;</span>Set the attributes of a symbol</a></span></li><li><span><a href=\"#Check-the-assumptions/properties-of-a-symbol\" data-toc-modified-id=\"Check-the-assumptions/properties-of-a-symbol-3.5\"><span class=\"toc-item-num\">3.5&nbsp;&nbsp;</span>Check the assumptions/properties of a symbol</a></span></li><li><span><a href=\"#Symbolic-functions\" data-toc-modified-id=\"Symbolic-functions-3.6\"><span class=\"toc-item-num\">3.6&nbsp;&nbsp;</span>Symbolic functions</a></span></li></ul></li><li><span><a href=\"#Functions\" data-toc-modified-id=\"Functions-4\"><span class=\"toc-item-num\">4&nbsp;&nbsp;</span>Functions</a></span><ul class=\"toc-item\"><li><span><a href=\"#In-line-arithmetic\" data-toc-modified-id=\"In-line-arithmetic-4.1\"><span class=\"toc-item-num\">4.1&nbsp;&nbsp;</span>In-line arithmetic</a></span></li><li><span><a href=\"#Trig-functions\" data-toc-modified-id=\"Trig-functions-4.2\"><span class=\"toc-item-num\">4.2&nbsp;&nbsp;</span>Trig functions</a></span></li><li><span><a href=\"#Exponential-and-logarithmic-functions\" data-toc-modified-id=\"Exponential-and-logarithmic-functions-4.3\"><span class=\"toc-item-num\">4.3&nbsp;&nbsp;</span>Exponential and logarithmic functions</a></span></li><li><span><a href=\"#Other-useful-functions\" data-toc-modified-id=\"Other-useful-functions-4.4\"><span class=\"toc-item-num\">4.4&nbsp;&nbsp;</span>Other useful functions</a></span></li></ul></li><li><span><a href=\"#Expressions\" data-toc-modified-id=\"Expressions-5\"><span class=\"toc-item-num\">5&nbsp;&nbsp;</span>Expressions</a></span><ul class=\"toc-item\"><li><span><a href=\"#Creating-an-expression\" data-toc-modified-id=\"Creating-an-expression-5.1\"><span class=\"toc-item-num\">5.1&nbsp;&nbsp;</span>Creating an expression</a></span></li><li><span><a href=\"#Creating-expressions-from-strings\" data-toc-modified-id=\"Creating-expressions-from-strings-5.2\"><span class=\"toc-item-num\">5.2&nbsp;&nbsp;</span>Creating expressions from strings</a></span></li><li><span><a href=\"#Substituting-values-into-an-expression\" data-toc-modified-id=\"Substituting-values-into-an-expression-5.3\"><span class=\"toc-item-num\">5.3&nbsp;&nbsp;</span>Substituting values into an expression</a></span></li><li><span><a href=\"#Simplifying-expressions\" data-toc-modified-id=\"Simplifying-expressions-5.4\"><span class=\"toc-item-num\">5.4&nbsp;&nbsp;</span>Simplifying expressions</a></span><ul class=\"toc-item\"><li><span><a href=\"#Finding-factors\" data-toc-modified-id=\"Finding-factors-5.4.1\"><span class=\"toc-item-num\">5.4.1&nbsp;&nbsp;</span>Finding factors</a></span></li><li><span><a href=\"#Expanding-out\" data-toc-modified-id=\"Expanding-out-5.4.2\"><span class=\"toc-item-num\">5.4.2&nbsp;&nbsp;</span>Expanding out</a></span></li><li><span><a href=\"#Collecting-terms\" data-toc-modified-id=\"Collecting-terms-5.4.3\"><span class=\"toc-item-num\">5.4.3&nbsp;&nbsp;</span>Collecting terms</a></span></li><li><span><a href=\"#Canceling-common-factors,-expressing-as-$\\frac{p}{q}$\" data-toc-modified-id=\"Canceling-common-factors,-expressing-as-$\\frac{p}{q}$-5.4.4\"><span class=\"toc-item-num\">5.4.4&nbsp;&nbsp;</span>Canceling common factors, expressing as $\\frac{p}{q}$</a></span></li><li><span><a href=\"#Trig-simplification\" data-toc-modified-id=\"Trig-simplification-5.4.5\"><span class=\"toc-item-num\">5.4.5&nbsp;&nbsp;</span>Trig simplification</a></span></li><li><span><a href=\"#Trig-expansions\" data-toc-modified-id=\"Trig-expansions-5.4.6\"><span class=\"toc-item-num\">5.4.6&nbsp;&nbsp;</span>Trig expansions</a></span></li><li><span><a href=\"#Power-simplifications\" data-toc-modified-id=\"Power-simplifications-5.4.7\"><span class=\"toc-item-num\">5.4.7&nbsp;&nbsp;</span>Power simplifications</a></span></li><li><span><a href=\"#Log-simplifications\" data-toc-modified-id=\"Log-simplifications-5.4.8\"><span class=\"toc-item-num\">5.4.8&nbsp;&nbsp;</span>Log simplifications</a></span></li><li><span><a href=\"#Rewriting-functions\" data-toc-modified-id=\"Rewriting-functions-5.4.9\"><span class=\"toc-item-num\">5.4.9&nbsp;&nbsp;</span>Rewriting functions</a></span></li></ul></li><li><span><a href=\"#Solving-expressions\" data-toc-modified-id=\"Solving-expressions-5.5\"><span class=\"toc-item-num\">5.5&nbsp;&nbsp;</span>Solving expressions</a></span><ul class=\"toc-item\"><li><span><a href=\"#Example-quadratic-solution\" data-toc-modified-id=\"Example-quadratic-solution-5.5.1\"><span class=\"toc-item-num\">5.5.1&nbsp;&nbsp;</span>Example quadratic solution</a></span></li><li><span><a href=\"#Generalised-quadratic-solution\" data-toc-modified-id=\"Generalised-quadratic-solution-5.5.2\"><span class=\"toc-item-num\">5.5.2&nbsp;&nbsp;</span>Generalised quadratic solution</a></span></li><li><span><a href=\"#Quadratic-with-a-complex-solution\" data-toc-modified-id=\"Quadratic-with-a-complex-solution-5.5.3\"><span class=\"toc-item-num\">5.5.3&nbsp;&nbsp;</span>Quadratic with a complex solution</a></span></li><li><span><a href=\"#Manipulating-expressions-to-re-arrange-terms\" data-toc-modified-id=\"Manipulating-expressions-to-re-arrange-terms-5.5.4\"><span class=\"toc-item-num\">5.5.4&nbsp;&nbsp;</span>Manipulating expressions to re-arrange terms</a></span></li></ul></li><li><span><a href=\"#Plotting-expressions\" data-toc-modified-id=\"Plotting-expressions-5.6\"><span class=\"toc-item-num\">5.6&nbsp;&nbsp;</span>Plotting expressions</a></span></li></ul></li><li><span><a href=\"#Equations\" data-toc-modified-id=\"Equations-6\"><span class=\"toc-item-num\">6&nbsp;&nbsp;</span>Equations</a></span><ul class=\"toc-item\"><li><span><a href=\"#Creating-equations\" data-toc-modified-id=\"Creating-equations-6.1\"><span class=\"toc-item-num\">6.1&nbsp;&nbsp;</span>Creating equations</a></span></li><li><span><a href=\"#Solving-equations\" data-toc-modified-id=\"Solving-equations-6.2\"><span class=\"toc-item-num\">6.2&nbsp;&nbsp;</span>Solving equations</a></span><ul class=\"toc-item\"><li><span><a href=\"#Rearranging-terms\" data-toc-modified-id=\"Rearranging-terms-6.2.1\"><span class=\"toc-item-num\">6.2.1&nbsp;&nbsp;</span>Rearranging terms</a></span></li><li><span><a href=\"#Exponential-example\" data-toc-modified-id=\"Exponential-example-6.2.2\"><span class=\"toc-item-num\">6.2.2&nbsp;&nbsp;</span>Exponential example</a></span></li><li><span><a href=\"#Quadratic-example\" data-toc-modified-id=\"Quadratic-example-6.2.3\"><span class=\"toc-item-num\">6.2.3&nbsp;&nbsp;</span>Quadratic example</a></span></li><li><span><a href=\"#A-trigonometric-example\" data-toc-modified-id=\"A-trigonometric-example-6.2.4\"><span class=\"toc-item-num\">6.2.4&nbsp;&nbsp;</span>A trigonometric example</a></span></li></ul></li><li><span><a href=\"#Solving-systems-of-equations\" data-toc-modified-id=\"Solving-systems-of-equations-6.3\"><span class=\"toc-item-num\">6.3&nbsp;&nbsp;</span>Solving systems of equations</a></span><ul class=\"toc-item\"><li><span><a href=\"#Two-linear-equations\" data-toc-modified-id=\"Two-linear-equations-6.3.1\"><span class=\"toc-item-num\">6.3.1&nbsp;&nbsp;</span>Two linear equations</a></span></li><li><span><a href=\"#A-linear-and-cubic-system-with-three-point-solutions\" data-toc-modified-id=\"A-linear-and-cubic-system-with-three-point-solutions-6.3.2\"><span class=\"toc-item-num\">6.3.2&nbsp;&nbsp;</span>A linear and cubic system with three point-solutions</a></span></li><li><span><a href=\"#A-system-of-equations-with-no-solutions\" data-toc-modified-id=\"A-system-of-equations-with-no-solutions-6.3.3\"><span class=\"toc-item-num\">6.3.3&nbsp;&nbsp;</span>A system of equations with no solutions</a></span></li></ul></li></ul></li><li><span><a href=\"#Limits\" data-toc-modified-id=\"Limits-7\"><span class=\"toc-item-num\">7&nbsp;&nbsp;</span>Limits</a></span><ul class=\"toc-item\"><li><span><a href=\"#Simple-example\" data-toc-modified-id=\"Simple-example-7.1\"><span class=\"toc-item-num\">7.1&nbsp;&nbsp;</span>Simple example</a></span></li><li><span><a href=\"#Limits,-where-the-direction-in-which-we-approach-the-limit-is-important\" data-toc-modified-id=\"Limits,-where-the-direction-in-which-we-approach-the-limit-is-important-7.2\"><span class=\"toc-item-num\">7.2&nbsp;&nbsp;</span>Limits, where the direction in which we approach the limit is important</a></span></li></ul></li><li><span><a href=\"#Derivatives\" data-toc-modified-id=\"Derivatives-8\"><span class=\"toc-item-num\">8&nbsp;&nbsp;</span>Derivatives</a></span><ul class=\"toc-item\"><li><span><a href=\"#First,-second-and-subsequent-derivatives\" data-toc-modified-id=\"First,-second-and-subsequent-derivatives-8.1\"><span class=\"toc-item-num\">8.1&nbsp;&nbsp;</span>First, second and subsequent derivatives</a></span></li><li><span><a href=\"#Partial-derivatives\" data-toc-modified-id=\"Partial-derivatives-8.2\"><span class=\"toc-item-num\">8.2&nbsp;&nbsp;</span>Partial derivatives</a></span></li></ul></li><li><span><a href=\"#Integrals\" data-toc-modified-id=\"Integrals-9\"><span class=\"toc-item-num\">9&nbsp;&nbsp;</span>Integrals</a></span><ul class=\"toc-item\"><li><span><a href=\"#Definite-Integrals\" data-toc-modified-id=\"Definite-Integrals-9.1\"><span class=\"toc-item-num\">9.1&nbsp;&nbsp;</span>Definite Integrals</a></span></li><li><span><a href=\"#Indefinite-integrals\" data-toc-modified-id=\"Indefinite-integrals-9.2\"><span class=\"toc-item-num\">9.2&nbsp;&nbsp;</span>Indefinite integrals</a></span></li><li><span><a href=\"#sympy-cannot-evaluate-some-integrals\" data-toc-modified-id=\"sympy-cannot-evaluate-some-integrals-9.3\"><span class=\"toc-item-num\">9.3&nbsp;&nbsp;</span>sympy cannot evaluate some integrals</a></span></li></ul></li><li><span><a href=\"#The-End\" data-toc-modified-id=\"The-End-10\"><span class=\"toc-item-num\">10&nbsp;&nbsp;</span>The End</a></span></li></ul></div>"
   ]
  },
  {
   "cell_type": "markdown",
   "id": "fdec8562",
   "metadata": {},
   "source": [
    "## Python set-up\n",
    "\n",
    "Install with pip or conda (as appropriate to your system)"
   ]
  },
  {
   "cell_type": "code",
   "execution_count": 1,
   "id": "02367c29",
   "metadata": {},
   "outputs": [],
   "source": [
    "import sympy as sp"
   ]
  },
  {
   "cell_type": "code",
   "execution_count": 2,
   "id": "d9110a22",
   "metadata": {},
   "outputs": [
    {
     "name": "stdout",
     "output_type": "stream",
     "text": [
      "Sympy version: 1.9\n"
     ]
    }
   ],
   "source": [
    "print('Sympy version:', sp.__version__)"
   ]
  },
  {
   "cell_type": "code",
   "execution_count": 3,
   "id": "ba877858",
   "metadata": {},
   "outputs": [],
   "source": [
    "# This makes the notebook easier to read ...\n",
    "sp.init_printing(use_unicode=True)"
   ]
  },
  {
   "cell_type": "markdown",
   "id": "6c138908",
   "metadata": {},
   "source": [
    "## Numbers"
   ]
  },
  {
   "cell_type": "markdown",
   "id": "a213d78a",
   "metadata": {},
   "source": [
    "### Integers"
   ]
  },
  {
   "cell_type": "code",
   "execution_count": 4,
   "id": "49d0042d",
   "metadata": {},
   "outputs": [
    {
     "name": "stdout",
     "output_type": "stream",
     "text": [
      "5 <class 'sympy.core.numbers.Integer'>\n"
     ]
    }
   ],
   "source": [
    "y = sp.Integer(5) # this is a sympy integer\n",
    "print(y, type(y)) "
   ]
  },
  {
   "cell_type": "markdown",
   "id": "766ca599",
   "metadata": {},
   "source": [
    "### Floats or Reals"
   ]
  },
  {
   "cell_type": "code",
   "execution_count": 5,
   "id": "f312a5a6",
   "metadata": {},
   "outputs": [
    {
     "name": "stdout",
     "output_type": "stream",
     "text": [
      "0.500000000000000 <class 'sympy.core.numbers.Float'>\n"
     ]
    }
   ],
   "source": [
    "y = sp.Float(1 / 2)\n",
    "print(y, type(y)) # this is a sympy float"
   ]
  },
  {
   "cell_type": "markdown",
   "id": "db13fcd9",
   "metadata": {},
   "source": [
    "### Rationals or Fractions\n",
    "\n",
    "Hint: using Rationals in calculus should be preferred over using floats, as it will yield easire to understand symbolic answers."
   ]
  },
  {
   "cell_type": "code",
   "execution_count": 6,
   "id": "cf96e906",
   "metadata": {},
   "outputs": [
    {
     "data": {
      "image/png": "[encoded data removed]",
      "text/latex": [
       "$\\displaystyle \\frac{1}{3}$"
      ],
      "text/plain": [
       "1/3"
      ]
     },
     "metadata": {},
     "output_type": "display_data"
    },
    {
     "data": {
      "text/plain": [
       "sympy.core.numbers.Rational"
      ]
     },
     "metadata": {},
     "output_type": "display_data"
    }
   ],
   "source": [
    "y = sp.Rational(1, 3) # this is a sympy Rational\n",
    "display(y, type(y))"
   ]
  },
  {
   "cell_type": "code",
   "execution_count": 7,
   "id": "f999fc06",
   "metadata": {},
   "outputs": [
    {
     "data": {
      "image/png": "[encoded data removed]",
      "text/latex": [
       "$\\displaystyle 0.3333333333333333333333$"
      ],
      "text/plain": [
       "0.3333333333333333333333"
      ]
     },
     "execution_count": 7,
     "metadata": {},
     "output_type": "execute_result"
    }
   ],
   "source": [
    "# get the numeric value for an expression to n decimal places\n",
    "y.n(22)"
   ]
  },
  {
   "cell_type": "code",
   "execution_count": 8,
   "id": "5b708fec",
   "metadata": {},
   "outputs": [
    {
     "data": {
      "image/png": "[encoded data removed]",
      "text/latex": [
       "$\\displaystyle \\frac{13}{12}$"
      ],
      "text/plain": [
       "13\n",
       "──\n",
       "12"
      ]
     },
     "execution_count": 8,
     "metadata": {},
     "output_type": "execute_result"
    }
   ],
   "source": [
    "# we can do the usual maths with Rationals\n",
    "sp.Rational(3, 4) + sp.Rational(1, 3)"
   ]
  },
  {
   "cell_type": "code",
   "execution_count": 9,
   "id": "0b11f634",
   "metadata": {},
   "outputs": [
    {
     "data": {
      "image/png": "[encoded data removed]",
      "text/latex": [
       "$\\displaystyle \\frac{1}{4}$"
      ],
      "text/plain": [
       "1/4"
      ]
     },
     "execution_count": 9,
     "metadata": {},
     "output_type": "execute_result"
    }
   ],
   "source": [
    "# Note: if we divide sympy Integers, we also get a Rational\n",
    "sp.Integer(1) / sp.Integer(4)"
   ]
  },
  {
   "cell_type": "code",
   "execution_count": 10,
   "id": "146e50b7",
   "metadata": {},
   "outputs": [
    {
     "data": {
      "image/png": "[encoded data removed]",
      "text/latex": [
       "$\\displaystyle \\frac{5}{2}$"
      ],
      "text/plain": [
       "5/2"
      ]
     },
     "execution_count": 10,
     "metadata": {},
     "output_type": "execute_result"
    }
   ],
   "source": [
    "# We get a sympy Rational even when one of the numerator or denominator is a python integer.\n",
    "sp.Integer(5) / 2"
   ]
  },
  {
   "cell_type": "markdown",
   "id": "e6cec1be",
   "metadata": {},
   "source": [
    "### Surds"
   ]
  },
  {
   "cell_type": "code",
   "execution_count": 11,
   "id": "e5def4c7",
   "metadata": {},
   "outputs": [
    {
     "data": {
      "image/png": "[encoded data removed]",
      "text/latex": [
       "$\\displaystyle 2 \\sqrt{2}$"
      ],
      "text/plain": [
       "2⋅√2"
      ]
     },
     "execution_count": 11,
     "metadata": {},
     "output_type": "execute_result"
    }
   ],
   "source": [
    "sp.sqrt(8) \n",
    "# Note, surds are automatically simplified if possible"
   ]
  },
  {
   "cell_type": "code",
   "execution_count": 12,
   "id": "5e247a2c",
   "metadata": {},
   "outputs": [
    {
     "data": {
      "image/png": "[encoded data removed]",
      "text/latex": [
       "$\\displaystyle \\sqrt{8}$"
      ],
      "text/plain": [
       "√8"
      ]
     },
     "execution_count": 12,
     "metadata": {},
     "output_type": "execute_result"
    }
   ],
   "source": [
    "# if you don't want the simplification\n",
    "sp.sqrt(8, evaluate=False) "
   ]
  },
  {
   "cell_type": "code",
   "execution_count": 13,
   "id": "e7460a34",
   "metadata": {},
   "outputs": [
    {
     "data": {
      "image/png": "[encoded data removed]",
      "text/latex": [
       "$\\displaystyle \\sqrt{8}$"
      ],
      "text/plain": [
       "√8"
      ]
     },
     "execution_count": 13,
     "metadata": {},
     "output_type": "execute_result"
    }
   ],
   "source": [
    "# or you can use this context manager to avoid evaluation\n",
    "with sp.evaluate(False):\n",
    "    y = sp.sqrt(8)\n",
    "y"
   ]
  },
  {
   "cell_type": "code",
   "execution_count": 14,
   "id": "f8d9c326",
   "metadata": {},
   "outputs": [
    {
     "data": {
      "image/png": "[encoded data removed]",
      "text/latex": [
       "$\\displaystyle 2.82842712474619$"
      ],
      "text/plain": [
       "2.82842712474619"
      ]
     },
     "execution_count": 14,
     "metadata": {},
     "output_type": "execute_result"
    }
   ],
   "source": [
    "sp.N(_) # numberic value for the last calculation"
   ]
  },
  {
   "cell_type": "code",
   "execution_count": 15,
   "id": "9e83e685",
   "metadata": {},
   "outputs": [
    {
     "data": {
      "image/png": "[encoded data removed]",
      "text/latex": [
       "$\\displaystyle \\sqrt[3]{3}$"
      ],
      "text/plain": [
       "3 ___\n",
       "╲╱ 3 "
      ]
     },
     "execution_count": 15,
     "metadata": {},
     "output_type": "execute_result"
    }
   ],
   "source": [
    "sp.cbrt(3) # cube roots"
   ]
  },
  {
   "cell_type": "code",
   "execution_count": 16,
   "id": "582efeae",
   "metadata": {},
   "outputs": [
    {
     "data": {
      "image/png": "[encoded data removed]",
      "text/latex": [
       "$\\displaystyle \\sqrt[3]{2}$"
      ],
      "text/plain": [
       "3 ___\n",
       "╲╱ 2 "
      ]
     },
     "execution_count": 16,
     "metadata": {},
     "output_type": "execute_result"
    }
   ],
   "source": [
    "sp.real_root(4, 6) # nth real root"
   ]
  },
  {
   "cell_type": "code",
   "execution_count": 17,
   "id": "4d45081c",
   "metadata": {},
   "outputs": [
    {
     "data": {
      "image/png": "[encoded data removed]",
      "text/latex": [
       "$\\displaystyle - \\frac{\\sqrt{2} i}{2}$"
      ],
      "text/plain": [
       "-√2⋅ⅈ \n",
       "──────\n",
       "  2   "
      ]
     },
     "execution_count": 17,
     "metadata": {},
     "output_type": "execute_result"
    }
   ],
   "source": [
    "sp.Integer(-2) ** sp.Rational(-1, 2)"
   ]
  },
  {
   "cell_type": "markdown",
   "id": "355cfedb",
   "metadata": {},
   "source": [
    "### Useful constants\n",
    "\n",
    "Remember, these constants are symbols, not their approximate values"
   ]
  },
  {
   "cell_type": "code",
   "execution_count": 18,
   "id": "f37ef42e",
   "metadata": {},
   "outputs": [
    {
     "data": {
      "image/png": "[encoded data removed]",
      "text/latex": [
       "$\\displaystyle \\pi$"
      ],
      "text/plain": [
       "π"
      ]
     },
     "execution_count": 18,
     "metadata": {},
     "output_type": "execute_result"
    }
   ],
   "source": [
    "sp.pi # use sp.pi for 𝜋"
   ]
  },
  {
   "cell_type": "code",
   "execution_count": 19,
   "id": "fd936376",
   "metadata": {},
   "outputs": [
    {
     "data": {
      "image/png": "[encoded data removed]",
      "text/latex": [
       "$\\displaystyle e$"
      ],
      "text/plain": [
       "ℯ"
      ]
     },
     "execution_count": 19,
     "metadata": {},
     "output_type": "execute_result"
    }
   ],
   "source": [
    "sp.E # capital E for the base of the natural logarithm (Euler's number)"
   ]
  },
  {
   "cell_type": "code",
   "execution_count": 20,
   "id": "7ae2e894",
   "metadata": {},
   "outputs": [
    {
     "data": {
      "image/png": "[encoded data removed]",
      "text/latex": [
       "$\\displaystyle i$"
      ],
      "text/plain": [
       "ⅈ"
      ]
     },
     "execution_count": 20,
     "metadata": {},
     "output_type": "execute_result"
    }
   ],
   "source": [
    "sp.I # capital I for the square root of -1"
   ]
  },
  {
   "cell_type": "code",
   "execution_count": 21,
   "id": "1f673442",
   "metadata": {},
   "outputs": [
    {
     "data": {
      "image/png": "[encoded data removed]",
      "text/latex": [
       "$\\displaystyle -1$"
      ],
      "text/plain": [
       "-1"
      ]
     },
     "execution_count": 21,
     "metadata": {},
     "output_type": "execute_result"
    }
   ],
   "source": [
    "sp.I ** 2"
   ]
  },
  {
   "cell_type": "code",
   "execution_count": 22,
   "id": "f0d50157",
   "metadata": {},
   "outputs": [
    {
     "data": {
      "image/png": "[encoded data removed]",
      "text/latex": [
       "$\\displaystyle \\infty$"
      ],
      "text/plain": [
       "∞"
      ]
     },
     "execution_count": 22,
     "metadata": {},
     "output_type": "execute_result"
    }
   ],
   "source": [
    "sp.oo # oo (two lower-case letters o) for infinity"
   ]
  },
  {
   "cell_type": "code",
   "execution_count": 23,
   "id": "dfa01dac",
   "metadata": {},
   "outputs": [
    {
     "data": {
      "image/png": "[encoded data removed]",
      "text/latex": [
       "$\\displaystyle -\\infty$"
      ],
      "text/plain": [
       "-∞"
      ]
     },
     "execution_count": 23,
     "metadata": {},
     "output_type": "execute_result"
    }
   ],
   "source": [
    "-sp.oo # negative infinity"
   ]
  },
  {
   "cell_type": "code",
   "execution_count": 24,
   "id": "4433304d",
   "metadata": {},
   "outputs": [
    {
     "data": {
      "image/png": "[encoded data removed]",
      "text/latex": [
       "$\\displaystyle \\text{NaN}$"
      ],
      "text/plain": [
       "nan"
      ]
     },
     "execution_count": 24,
     "metadata": {},
     "output_type": "execute_result"
    }
   ],
   "source": [
    "# Be careful when doing arithmatic with infinite numbers\n",
    "sp.oo - sp.oo"
   ]
  },
  {
   "cell_type": "code",
   "execution_count": 25,
   "id": "d83abdb0",
   "metadata": {},
   "outputs": [
    {
     "data": {
      "image/png": "[encoded data removed]",
      "text/latex": [
       "$\\displaystyle \\infty$"
      ],
      "text/plain": [
       "∞"
      ]
     },
     "execution_count": 25,
     "metadata": {},
     "output_type": "execute_result"
    }
   ],
   "source": [
    "# Be careful when doing arithmatic with infinite numbers\n",
    "sp.oo / 0"
   ]
  },
  {
   "cell_type": "code",
   "execution_count": 26,
   "id": "c3fc5900",
   "metadata": {},
   "outputs": [
    {
     "data": {
      "image/png": "[encoded data removed]",
      "text/latex": [
       "$\\displaystyle \\text{NaN}$"
      ],
      "text/plain": [
       "nan"
      ]
     },
     "execution_count": 26,
     "metadata": {},
     "output_type": "execute_result"
    }
   ],
   "source": [
    "sp.nan # This is the \"not a number\" construct for sympy"
   ]
  },
  {
   "cell_type": "markdown",
   "id": "048decd4",
   "metadata": {},
   "source": [
    "### Complex numbers"
   ]
  },
  {
   "cell_type": "code",
   "execution_count": 27,
   "id": "5aafcbec",
   "metadata": {},
   "outputs": [
    {
     "data": {
      "image/png": "[encoded data removed]",
      "text/latex": [
       "$\\displaystyle 3 + 4 i$"
      ],
      "text/plain": [
       "3 + 4⋅ⅈ"
      ]
     },
     "execution_count": 27,
     "metadata": {},
     "output_type": "execute_result"
    }
   ],
   "source": [
    "z = 3 + 4 * sp.I # complex numbers\n",
    "z"
   ]
  },
  {
   "cell_type": "code",
   "execution_count": 28,
   "id": "d2a333cf",
   "metadata": {},
   "outputs": [
    {
     "data": {
      "image/png": "[encoded data removed]",
      "text/latex": [
       "$\\displaystyle \\left( 3, \\  4\\right)$"
      ],
      "text/plain": [
       "(3, 4)"
      ]
     },
     "execution_count": 28,
     "metadata": {},
     "output_type": "execute_result"
    }
   ],
   "source": [
    "sp.re(z), sp.im(z) # get the real and imaginary parts of z"
   ]
  },
  {
   "cell_type": "code",
   "execution_count": 29,
   "id": "9604a4ea",
   "metadata": {},
   "outputs": [
    {
     "data": {
      "image/png": "[encoded data removed]",
      "text/latex": [
       "$\\displaystyle 5$"
      ],
      "text/plain": [
       "5"
      ]
     },
     "execution_count": 29,
     "metadata": {},
     "output_type": "execute_result"
    }
   ],
   "source": [
    "sp.Abs(z) # the Absolute value of a complex number\n",
    "          # It's distance from the origin on the Argand plane"
   ]
  },
  {
   "cell_type": "markdown",
   "id": "95cbcfc9",
   "metadata": {},
   "source": [
    "### Miscellaneous "
   ]
  },
  {
   "cell_type": "code",
   "execution_count": 30,
   "id": "edee88b8",
   "metadata": {},
   "outputs": [
    {
     "data": {
      "image/png": "[encoded data removed]",
      "text/latex": [
       "$\\displaystyle 11$"
      ],
      "text/plain": [
       "11"
      ]
     },
     "execution_count": 30,
     "metadata": {},
     "output_type": "execute_result"
    }
   ],
   "source": [
    "sp.prime(5) # get the nth prime number"
   ]
  },
  {
   "cell_type": "code",
   "execution_count": 31,
   "id": "cd6317f4",
   "metadata": {},
   "outputs": [
    {
     "data": {
      "image/png": "[encoded data removed]",
      "text/latex": [
       "$\\displaystyle 3.1416$"
      ],
      "text/plain": [
       "3.1416"
      ]
     },
     "execution_count": 31,
     "metadata": {},
     "output_type": "execute_result"
    }
   ],
   "source": [
    "sp.pi.evalf(5) # evaluate to a python floating with n decimal places"
   ]
  },
  {
   "cell_type": "markdown",
   "id": "3c17f27b",
   "metadata": {},
   "source": [
    "## Symbols\n",
    "\n",
    "You must define symbols before using them with sympy. \n",
    "\n",
    "To avoid confusion, match the name of the symbol to the python variable name.\n",
    "\n",
    "There are a number of ways to create a sympy symbol ..."
   ]
  },
  {
   "cell_type": "markdown",
   "id": "13b661f3",
   "metadata": {},
   "source": [
    "### Import symbols from sympy.abc"
   ]
  },
  {
   "cell_type": "code",
   "execution_count": 32,
   "id": "4e381dd1",
   "metadata": {},
   "outputs": [
    {
     "data": {
      "image/png": "[encoded data removed]",
      "text/latex": [
       "$\\displaystyle \\alpha$"
      ],
      "text/plain": [
       "α"
      ]
     },
     "execution_count": 32,
     "metadata": {},
     "output_type": "execute_result"
    }
   ],
   "source": [
    "# The quick and easy way to get English and Greek letter names\n",
    "from sympy.abc import a, b, c, x, n, alpha, beta, gamma, delta\n",
    "alpha"
   ]
  },
  {
   "cell_type": "code",
   "execution_count": 33,
   "id": "7dc989f3",
   "metadata": {},
   "outputs": [
    {
     "data": {
      "image/png": "[encoded data removed]",
      "text/latex": [
       "$\\displaystyle \\delta$"
      ],
      "text/plain": [
       "δ"
      ]
     },
     "execution_count": 33,
     "metadata": {},
     "output_type": "execute_result"
    }
   ],
   "source": [
    "delta"
   ]
  },
  {
   "cell_type": "markdown",
   "id": "37849006",
   "metadata": {},
   "source": [
    "### Define  one symbol at a time"
   ]
  },
  {
   "cell_type": "code",
   "execution_count": 34,
   "id": "58896f99",
   "metadata": {},
   "outputs": [],
   "source": [
    "a = sp.Symbol('a') # defining a symbol, one at a time"
   ]
  },
  {
   "cell_type": "markdown",
   "id": "0ba37e50",
   "metadata": {},
   "source": [
    "### Define multiple symbols in one line of code"
   ]
  },
  {
   "cell_type": "code",
   "execution_count": 35,
   "id": "5dff8c56",
   "metadata": {},
   "outputs": [],
   "source": [
    "x, y, z = sp.symbols('x y z') # define multiple symbols at a time"
   ]
  },
  {
   "cell_type": "markdown",
   "id": "16f799c8",
   "metadata": {},
   "source": [
    "### Set the attributes of a symbol"
   ]
  },
  {
   "cell_type": "code",
   "execution_count": 36,
   "id": "734b5f8f",
   "metadata": {},
   "outputs": [],
   "source": [
    "# you can set attributes for a symbol\n",
    "i, j, k = sp.symbols('i, j, k', integer=True, positive=True)"
   ]
  },
  {
   "cell_type": "markdown",
   "id": "246ba333",
   "metadata": {},
   "source": [
    "### Check the assumptions/properties of a symbol"
   ]
  },
  {
   "cell_type": "code",
   "execution_count": 37,
   "id": "48e3c8f2",
   "metadata": {},
   "outputs": [
    {
     "data": {
      "text/plain": [
       "{'integer': True,\n",
       " 'finite': True,\n",
       " 'complex': True,\n",
       " 'algebraic': True,\n",
       " 'rational': True,\n",
       " 'hermitian': True,\n",
       " 'irrational': False,\n",
       " 'imaginary': False,\n",
       " 'infinite': False,\n",
       " 'extended_real': True,\n",
       " 'commutative': True,\n",
       " 'real': True,\n",
       " 'transcendental': False,\n",
       " 'noninteger': False,\n",
       " 'positive': True,\n",
       " 'nonzero': True,\n",
       " 'extended_nonpositive': False,\n",
       " 'extended_nonnegative': True,\n",
       " 'nonnegative': True,\n",
       " 'negative': False,\n",
       " 'nonpositive': False,\n",
       " 'extended_nonzero': True,\n",
       " 'extended_positive': True,\n",
       " 'zero': False,\n",
       " 'extended_negative': False}"
      ]
     },
     "execution_count": 37,
     "metadata": {},
     "output_type": "execute_result"
    }
   ],
   "source": [
    "i.assumptions0"
   ]
  },
  {
   "cell_type": "markdown",
   "id": "96aca863",
   "metadata": {},
   "source": [
    "### Symbolic functions"
   ]
  },
  {
   "cell_type": "code",
   "execution_count": 38,
   "id": "cd6d423c",
   "metadata": {},
   "outputs": [
    {
     "data": {
      "text/plain": [
       "f"
      ]
     },
     "execution_count": 38,
     "metadata": {},
     "output_type": "execute_result"
    }
   ],
   "source": [
    "# We can also declare that symbols are functions\n",
    "x = sp.Symbol('x')\n",
    "f = sp.Function('f')\n",
    "f"
   ]
  },
  {
   "cell_type": "code",
   "execution_count": 39,
   "id": "5c23d742",
   "metadata": {
    "scrolled": true
   },
   "outputs": [
    {
     "data": {
      "image/png": "[encoded data removed]",
      "text/latex": [
       "$\\displaystyle g{\\left(x \\right)}$"
      ],
      "text/plain": [
       "g(x)"
      ]
     },
     "execution_count": 39,
     "metadata": {},
     "output_type": "execute_result"
    }
   ],
   "source": [
    "# Including as functions that take arguments\n",
    "g = sp.Function('g')(x)\n",
    "g"
   ]
  },
  {
   "cell_type": "code",
   "execution_count": 40,
   "id": "5941d3f8",
   "metadata": {},
   "outputs": [
    {
     "data": {
      "image/png": "[encoded data removed]",
      "text/latex": [
       "$\\displaystyle h{\\left(x,y \\right)}$"
      ],
      "text/plain": [
       "h(x, y)"
      ]
     },
     "execution_count": 40,
     "metadata": {},
     "output_type": "execute_result"
    }
   ],
   "source": [
    "x, y = sp.symbols('x y')\n",
    "h = sp.Function('h')(x, y)\n",
    "h"
   ]
  },
  {
   "cell_type": "code",
   "execution_count": 41,
   "id": "e03747f3",
   "metadata": {},
   "outputs": [
    {
     "data": {
      "text/plain": [
       "{'function': True, 'commutative': True}"
      ]
     },
     "execution_count": 41,
     "metadata": {},
     "output_type": "execute_result"
    }
   ],
   "source": [
    "# And we can do multiple functions at once\n",
    "f, g = sp.symbols('f g', function=True)\n",
    "f.assumptions0"
   ]
  },
  {
   "cell_type": "markdown",
   "id": "72340b76",
   "metadata": {},
   "source": [
    "## Functions"
   ]
  },
  {
   "cell_type": "markdown",
   "id": "4aa9c6f0",
   "metadata": {},
   "source": [
    "### In-line arithmetic\n",
    "\n",
    "sympy recognizes the usual python in-line operators, and applies the proper order of operations"
   ]
  },
  {
   "cell_type": "code",
   "execution_count": 42,
   "id": "9579ab15",
   "metadata": {},
   "outputs": [
    {
     "data": {
      "image/png": "[encoded data removed]",
      "text/latex": [
       "$\\displaystyle 2 x - \\frac{5}{x^{2}}$"
      ],
      "text/plain": [
       "      5 \n",
       "2⋅x - ──\n",
       "       2\n",
       "      x "
      ]
     },
     "execution_count": 42,
     "metadata": {},
     "output_type": "execute_result"
    }
   ],
   "source": [
    "x = sp.Symbol('x')\n",
    "x + x - 5 * x / x ** 3\n",
    "# Note: some simplification ocurred"
   ]
  },
  {
   "cell_type": "code",
   "execution_count": 43,
   "id": "f53f579d",
   "metadata": {},
   "outputs": [
    {
     "data": {
      "image/png": "[encoded data removed]",
      "text/latex": [
       "$\\displaystyle 1 + e^{i \\pi}$"
      ],
      "text/plain": [
       "     ⅈ⋅π\n",
       "1 + ℯ   "
      ]
     },
     "execution_count": 43,
     "metadata": {},
     "output_type": "execute_result"
    }
   ],
   "source": [
    "with sp.evaluate(False):\n",
    "    y = sp.E ** (sp.I * sp.pi) + 1\n",
    "y"
   ]
  },
  {
   "cell_type": "code",
   "execution_count": 44,
   "id": "7f05c6fc",
   "metadata": {},
   "outputs": [
    {
     "data": {
      "image/png": "[encoded data removed]",
      "text/latex": [
       "$\\displaystyle 0$"
      ],
      "text/plain": [
       "0"
      ]
     },
     "execution_count": 44,
     "metadata": {},
     "output_type": "execute_result"
    }
   ],
   "source": [
    "# The .doit() method evaluates an expression ...\n",
    "y.doit() # Thank you Euler"
   ]
  },
  {
   "cell_type": "markdown",
   "id": "d424298b",
   "metadata": {},
   "source": [
    "### Trig functions"
   ]
  },
  {
   "cell_type": "code",
   "execution_count": 45,
   "id": "e3b3037b",
   "metadata": {},
   "outputs": [
    {
     "data": {
      "image/png": "[encoded data removed]",
      "text/latex": [
       "$\\displaystyle \\sin{\\left(\\theta \\right)}$"
      ],
      "text/plain": [
       "sin(θ)"
      ]
     },
     "execution_count": 45,
     "metadata": {},
     "output_type": "execute_result"
    }
   ],
   "source": [
    "from sympy.abc import theta\n",
    "sp.sin(theta) # also cos, tan, "
   ]
  },
  {
   "cell_type": "code",
   "execution_count": 46,
   "id": "84eb91e0",
   "metadata": {},
   "outputs": [
    {
     "data": {
      "image/png": "[encoded data removed]",
      "text/latex": [
       "$\\displaystyle \\frac{\\pi}{2}$"
      ],
      "text/plain": [
       "π\n",
       "─\n",
       "2"
      ]
     },
     "execution_count": 46,
     "metadata": {},
     "output_type": "execute_result"
    }
   ],
   "source": [
    "sp.asin(1) # also acos, atan"
   ]
  },
  {
   "cell_type": "code",
   "execution_count": 47,
   "id": "98ad66cd",
   "metadata": {},
   "outputs": [
    {
     "data": {
      "image/png": "[encoded data removed]",
      "text/latex": [
       "$\\displaystyle \\sec{\\left(\\theta \\right)}$"
      ],
      "text/plain": [
       "sec(θ)"
      ]
     },
     "execution_count": 47,
     "metadata": {},
     "output_type": "execute_result"
    }
   ],
   "source": [
    "# secant example (which is the reciprocol of cos(𝜃))\n",
    "sp.sec(theta) # also csc and cot for cosecant and cotangent"
   ]
  },
  {
   "cell_type": "markdown",
   "id": "8e152fb1",
   "metadata": {},
   "source": [
    "### Exponential and logarithmic functions"
   ]
  },
  {
   "cell_type": "code",
   "execution_count": 48,
   "id": "034843c8",
   "metadata": {},
   "outputs": [
    {
     "data": {
      "image/png": "[encoded data removed]",
      "text/latex": [
       "$\\displaystyle e^{x}$"
      ],
      "text/plain": [
       " x\n",
       "ℯ "
      ]
     },
     "execution_count": 48,
     "metadata": {},
     "output_type": "execute_result"
    }
   ],
   "source": [
    "sp.exp(x)"
   ]
  },
  {
   "cell_type": "code",
   "execution_count": 49,
   "id": "cfdc1303",
   "metadata": {},
   "outputs": [
    {
     "data": {
      "image/png": "[encoded data removed]",
      "text/latex": [
       "$\\displaystyle e^{x}$"
      ],
      "text/plain": [
       " x\n",
       "ℯ "
      ]
     },
     "execution_count": 49,
     "metadata": {},
     "output_type": "execute_result"
    }
   ],
   "source": [
    "# Which is the same as ...\n",
    "sp.E ** x"
   ]
  },
  {
   "cell_type": "code",
   "execution_count": 50,
   "id": "0b9a504c",
   "metadata": {},
   "outputs": [
    {
     "data": {
      "text/plain": [
       "True"
      ]
     },
     "execution_count": 50,
     "metadata": {},
     "output_type": "execute_result"
    }
   ],
   "source": [
    "sp.E ** x == sp.exp(x)"
   ]
  },
  {
   "cell_type": "code",
   "execution_count": 51,
   "id": "bb37a2bc",
   "metadata": {},
   "outputs": [
    {
     "data": {
      "image/png": "[encoded data removed]",
      "text/latex": [
       "$\\displaystyle \\log{\\left(x \\right)}$"
      ],
      "text/plain": [
       "log(x)"
      ]
     },
     "execution_count": 51,
     "metadata": {},
     "output_type": "execute_result"
    }
   ],
   "source": [
    "sp.log(x) # log to the base of e"
   ]
  },
  {
   "cell_type": "code",
   "execution_count": 52,
   "id": "20c45921",
   "metadata": {},
   "outputs": [
    {
     "data": {
      "image/png": "[encoded data removed]",
      "text/latex": [
       "$\\displaystyle \\frac{\\log{\\left(x \\right)}}{\\log{\\left(10 \\right)}}$"
      ],
      "text/plain": [
       " log(x)\n",
       "───────\n",
       "log(10)"
      ]
     },
     "execution_count": 52,
     "metadata": {},
     "output_type": "execute_result"
    }
   ],
   "source": [
    "sp.log(x, 10) # log to the base of 10"
   ]
  },
  {
   "cell_type": "markdown",
   "id": "717f2ade",
   "metadata": {},
   "source": [
    "### Other useful functions"
   ]
  },
  {
   "cell_type": "code",
   "execution_count": 53,
   "id": "4f1a93c3",
   "metadata": {},
   "outputs": [
    {
     "data": {
      "image/png": "[encoded data removed]",
      "text/latex": [
       "$\\displaystyle \\left|{x}\\right|$"
      ],
      "text/plain": [
       "│x│"
      ]
     },
     "execution_count": 53,
     "metadata": {},
     "output_type": "execute_result"
    }
   ],
   "source": [
    "# Absolute value\n",
    "x = sp.Symbol('x')\n",
    "sp.Abs(x)"
   ]
  },
  {
   "cell_type": "markdown",
   "id": "0a449f26",
   "metadata": {},
   "source": [
    "## Expressions"
   ]
  },
  {
   "cell_type": "markdown",
   "id": "49ef0926",
   "metadata": {},
   "source": [
    "### Creating an expression"
   ]
  },
  {
   "cell_type": "code",
   "execution_count": 54,
   "id": "bc77f356",
   "metadata": {},
   "outputs": [
    {
     "data": {
      "image/png": "[encoded data removed]",
      "text/latex": [
       "$\\displaystyle x^{2} + 2 x$"
      ],
      "text/plain": [
       " 2      \n",
       "x  + 2⋅x"
      ]
     },
     "execution_count": 54,
     "metadata": {},
     "output_type": "execute_result"
    }
   ],
   "source": [
    "# We start by defining the symbols used in the expression\n",
    "x = sp.Symbol('x')\n",
    "\n",
    "# Then we use those symbols to create an expression.\n",
    "y = x + x + x * x # Note: This assigns a sympy expression \n",
    "                  #       to the python variable y.\n",
    "                  #       This does not create an equation.\n",
    "\n",
    "# sympy will collect simple polynomial terms automatically\n",
    "y"
   ]
  },
  {
   "cell_type": "markdown",
   "id": "dd61d38a",
   "metadata": {},
   "source": [
    "### Creating expressions from strings\n",
    "\n",
    "Note: the string should be a valid python string"
   ]
  },
  {
   "cell_type": "code",
   "execution_count": 55,
   "id": "17ef103a",
   "metadata": {},
   "outputs": [
    {
     "data": {
      "image/png": "[encoded data removed]",
      "text/latex": [
       "$\\displaystyle m^{2} + 2 m - 8$"
      ],
      "text/plain": [
       " 2          \n",
       "m  + 2⋅m - 8"
      ]
     },
     "execution_count": 55,
     "metadata": {},
     "output_type": "execute_result"
    }
   ],
   "source": [
    "y = sp.simplify('m ** 2 + 2 * m - 8') \n",
    "y"
   ]
  },
  {
   "cell_type": "markdown",
   "id": "a186af2a",
   "metadata": {},
   "source": [
    "### Substituting values into an expression"
   ]
  },
  {
   "cell_type": "code",
   "execution_count": 56,
   "id": "44046e5e",
   "metadata": {},
   "outputs": [
    {
     "data": {
      "image/png": "[encoded data removed]",
      "text/latex": [
       "$\\displaystyle x^{2} + y$"
      ],
      "text/plain": [
       " 2    \n",
       "x  + y"
      ]
     },
     "execution_count": 56,
     "metadata": {},
     "output_type": "execute_result"
    }
   ],
   "source": [
    "x, y = sp.symbols('x y')\n",
    "f = x ** 2 + y\n",
    "f"
   ]
  },
  {
   "cell_type": "code",
   "execution_count": 57,
   "id": "69e55c4d",
   "metadata": {},
   "outputs": [
    {
     "data": {
      "image/png": "[encoded data removed]",
      "text/latex": [
       "$\\displaystyle y + 16$"
      ],
      "text/plain": [
       "y + 16"
      ]
     },
     "execution_count": 57,
     "metadata": {},
     "output_type": "execute_result"
    }
   ],
   "source": [
    "f.subs(x, 4)"
   ]
  },
  {
   "cell_type": "code",
   "execution_count": 58,
   "id": "ade478dd",
   "metadata": {},
   "outputs": [
    {
     "data": {
      "image/png": "[encoded data removed]",
      "text/latex": [
       "$\\displaystyle 0$"
      ],
      "text/plain": [
       "0"
      ]
     },
     "execution_count": 58,
     "metadata": {},
     "output_type": "execute_result"
    }
   ],
   "source": [
    "y = sp.simplify('m ** 2 + 2 * m - 8') \n",
    "# Note: we have not defined 'm' in our\n",
    "# python environment. So we need to use \n",
    "# quotes to do the substiution.\n",
    "y.subs('m', 2)"
   ]
  },
  {
   "cell_type": "markdown",
   "id": "041b3771",
   "metadata": {},
   "source": [
    "### Simplifying expressions\n",
    "\n",
    "Note: Often the .simplify() method is all you need. However, simplifying with the .simplify() method is not well defined. You may need to call a specific simplification method that is well defined to achieve a desired result. \n",
    "\n",
    "Note: beyond some minimal simplification, sympy does not automatically simplify your expressions. \n",
    "\n",
    "Note: this is not a complete list of simplification functions"
   ]
  },
  {
   "cell_type": "code",
   "execution_count": 59,
   "id": "58afd01c",
   "metadata": {},
   "outputs": [
    {
     "data": {
      "image/png": "[encoded data removed]",
      "text/latex": [
       "$\\displaystyle \\frac{2 x}{x - 1} - \\frac{x^{2} - 1}{\\left(x - 1\\right)^{2}}$"
      ],
      "text/plain": [
       "          2     \n",
       " 2⋅x     x  - 1 \n",
       "───── - ────────\n",
       "x - 1          2\n",
       "        (x - 1) "
      ]
     },
     "execution_count": 59,
     "metadata": {},
     "output_type": "execute_result"
    }
   ],
   "source": [
    "# Often the .simplify() method is all you need ...\n",
    "x = sp.Symbol('x')\n",
    "y = ((2 * x) / (x - 1)) - ((x ** 2 - 1) / (x - 1) ** 2)\n",
    "y"
   ]
  },
  {
   "cell_type": "code",
   "execution_count": 60,
   "id": "f22cc7ff",
   "metadata": {},
   "outputs": [
    {
     "data": {
      "image/png": "[encoded data removed]",
      "text/latex": [
       "$\\displaystyle 1$"
      ],
      "text/plain": [
       "1"
      ]
     },
     "execution_count": 60,
     "metadata": {},
     "output_type": "execute_result"
    }
   ],
   "source": [
    "# This expression can be simplified to the number 1\n",
    "y.simplify()"
   ]
  },
  {
   "cell_type": "code",
   "execution_count": 61,
   "id": "79b94e6a",
   "metadata": {},
   "outputs": [
    {
     "data": {
      "image/png": "[encoded data removed]",
      "text/latex": [
       "$\\displaystyle \\frac{2 \\frac{1}{x + 3}}{1 + \\frac{3}{x}}$"
      ],
      "text/plain": [
       "⎛  2  ⎞\n",
       "⎜─────⎟\n",
       "⎝x + 3⎠\n",
       "───────\n",
       "     3 \n",
       " 1 + ─ \n",
       "     x "
      ]
     },
     "execution_count": 61,
     "metadata": {},
     "output_type": "execute_result"
    }
   ],
   "source": [
    "# Another example ...\n",
    "x = sp.Symbol('x')\n",
    "with sp.evaluate(False): \n",
    "    # this context manager prevents any\n",
    "    # automatic simplification, resulting\n",
    "    # in a very ugly expression\n",
    "    y = (2 / (x + 3)) / (1 + (3 / x))\n",
    "y"
   ]
  },
  {
   "cell_type": "code",
   "execution_count": 62,
   "id": "1a744bb2",
   "metadata": {},
   "outputs": [
    {
     "data": {
      "image/png": "[encoded data removed]",
      "text/latex": [
       "$\\displaystyle \\frac{2 x}{\\left(x + 3\\right)^{2}}$"
      ],
      "text/plain": [
       "  2⋅x   \n",
       "────────\n",
       "       2\n",
       "(x + 3) "
      ]
     },
     "execution_count": 62,
     "metadata": {},
     "output_type": "execute_result"
    }
   ],
   "source": [
    "y.simplify()"
   ]
  },
  {
   "cell_type": "markdown",
   "id": "cea826df",
   "metadata": {},
   "source": [
    "#### Finding factors"
   ]
  },
  {
   "cell_type": "code",
   "execution_count": 63,
   "id": "b25589e3",
   "metadata": {},
   "outputs": [
    {
     "data": {
      "image/png": "[encoded data removed]",
      "text/latex": [
       "$\\displaystyle x^{2} - 1$"
      ],
      "text/plain": [
       " 2    \n",
       "x  - 1"
      ]
     },
     "execution_count": 63,
     "metadata": {},
     "output_type": "execute_result"
    }
   ],
   "source": [
    "x = sp.Symbol('x')\n",
    "y = x ** 2 - 1\n",
    "y"
   ]
  },
  {
   "cell_type": "code",
   "execution_count": 64,
   "id": "9f49a236",
   "metadata": {},
   "outputs": [
    {
     "data": {
      "image/png": "[encoded data removed]",
      "text/latex": [
       "$\\displaystyle \\left(x - 1\\right) \\left(x + 1\\right)$"
      ],
      "text/plain": [
       "(x - 1)⋅(x + 1)"
      ]
     },
     "execution_count": 64,
     "metadata": {},
     "output_type": "execute_result"
    }
   ],
   "source": [
    "y.factor()"
   ]
  },
  {
   "cell_type": "markdown",
   "id": "e7d0f901",
   "metadata": {},
   "source": [
    "#### Expanding out"
   ]
  },
  {
   "cell_type": "code",
   "execution_count": 65,
   "id": "0150ac56",
   "metadata": {},
   "outputs": [
    {
     "data": {
      "image/png": "[encoded data removed]",
      "text/latex": [
       "$\\displaystyle \\left(x - 1\\right) \\left(x + 1\\right)$"
      ],
      "text/plain": [
       "(x - 1)⋅(x + 1)"
      ]
     },
     "execution_count": 65,
     "metadata": {},
     "output_type": "execute_result"
    }
   ],
   "source": [
    "x = sp.Symbol('x')\n",
    "y = (x + 1) * (x - 1)\n",
    "y"
   ]
  },
  {
   "cell_type": "code",
   "execution_count": 66,
   "id": "c3b5ae2e",
   "metadata": {},
   "outputs": [
    {
     "data": {
      "image/png": "[encoded data removed]",
      "text/latex": [
       "$\\displaystyle x^{2} - 1$"
      ],
      "text/plain": [
       " 2    \n",
       "x  - 1"
      ]
     },
     "execution_count": 66,
     "metadata": {},
     "output_type": "execute_result"
    }
   ],
   "source": [
    "y.expand() # for polynomials, this is the opposite to .factor()"
   ]
  },
  {
   "cell_type": "markdown",
   "id": "a16424f9",
   "metadata": {},
   "source": [
    "#### Collecting terms"
   ]
  },
  {
   "cell_type": "code",
   "execution_count": 67,
   "id": "360b2c1c",
   "metadata": {},
   "outputs": [
    {
     "data": {
      "image/png": "[encoded data removed]",
      "text/latex": [
       "$\\displaystyle 2 x^{3} + x^{2} z + 3 x^{2} + x y$"
      ],
      "text/plain": [
       "   3    2        2      \n",
       "2⋅x  + x ⋅z + 3⋅x  + x⋅y"
      ]
     },
     "execution_count": 67,
     "metadata": {},
     "output_type": "execute_result"
    }
   ],
   "source": [
    "x, y, z = sp.symbols('x y z')\n",
    "expr = x * y + 3 * x ** 2 + 2 * x ** 3 + z * x ** 2\n",
    "expr"
   ]
  },
  {
   "cell_type": "code",
   "execution_count": 68,
   "id": "522978b5",
   "metadata": {},
   "outputs": [
    {
     "data": {
      "image/png": "[encoded data removed]",
      "text/latex": [
       "$\\displaystyle 2 x^{3} + x^{2} \\left(z + 3\\right) + x y$"
      ],
      "text/plain": [
       "   3    2              \n",
       "2⋅x  + x ⋅(z + 3) + x⋅y"
      ]
     },
     "execution_count": 68,
     "metadata": {},
     "output_type": "execute_result"
    }
   ],
   "source": [
    "expr.collect(x)"
   ]
  },
  {
   "cell_type": "markdown",
   "id": "539a8235",
   "metadata": {},
   "source": [
    "#### Canceling common factors, expressing as $\\frac{p}{q}$"
   ]
  },
  {
   "cell_type": "code",
   "execution_count": 69,
   "id": "3889694c",
   "metadata": {},
   "outputs": [
    {
     "data": {
      "image/png": "[encoded data removed]",
      "text/latex": [
       "$\\displaystyle \\frac{x^{2} - 1}{x - 1}$"
      ],
      "text/plain": [
       " 2    \n",
       "x  - 1\n",
       "──────\n",
       "x - 1 "
      ]
     },
     "execution_count": 69,
     "metadata": {},
     "output_type": "execute_result"
    }
   ],
   "source": [
    "x = sp.Symbol('x')\n",
    "y = (x**2 - 1) / (x - 1)\n",
    "y"
   ]
  },
  {
   "cell_type": "code",
   "execution_count": 70,
   "id": "039ff317",
   "metadata": {},
   "outputs": [
    {
     "data": {
      "image/png": "[encoded data removed]",
      "text/latex": [
       "$\\displaystyle x + 1$"
      ],
      "text/plain": [
       "x + 1"
      ]
     },
     "execution_count": 70,
     "metadata": {},
     "output_type": "execute_result"
    }
   ],
   "source": [
    "y.cancel()"
   ]
  },
  {
   "cell_type": "markdown",
   "id": "603cbf0d",
   "metadata": {},
   "source": [
    "#### Trig simplification"
   ]
  },
  {
   "cell_type": "code",
   "execution_count": 71,
   "id": "b6125769",
   "metadata": {},
   "outputs": [
    {
     "data": {
      "image/png": "[encoded data removed]",
      "text/latex": [
       "$\\displaystyle \\frac{\\tan^{2}{\\left(x \\right)}}{\\sec^{2}{\\left(x \\right)}}$"
      ],
      "text/plain": [
       "   2   \n",
       "tan (x)\n",
       "───────\n",
       "   2   \n",
       "sec (x)"
      ]
     },
     "execution_count": 71,
     "metadata": {},
     "output_type": "execute_result"
    }
   ],
   "source": [
    "x = sp.Symbol('x')\n",
    "y = (sp.tan(x) ** 2) / ( sp.sec(x) ** 2 )\n",
    "y"
   ]
  },
  {
   "cell_type": "code",
   "execution_count": 72,
   "id": "624f5130",
   "metadata": {},
   "outputs": [
    {
     "data": {
      "image/png": "[encoded data removed]",
      "text/latex": [
       "$\\displaystyle \\sin^{2}{\\left(x \\right)}$"
      ],
      "text/plain": [
       "   2   \n",
       "sin (x)"
      ]
     },
     "execution_count": 72,
     "metadata": {},
     "output_type": "execute_result"
    }
   ],
   "source": [
    "y.trigsimp()"
   ]
  },
  {
   "cell_type": "markdown",
   "id": "c3b29899",
   "metadata": {},
   "source": [
    "#### Trig expansions"
   ]
  },
  {
   "cell_type": "code",
   "execution_count": 73,
   "id": "8601bbc6",
   "metadata": {},
   "outputs": [
    {
     "data": {
      "image/png": "[encoded data removed]",
      "text/latex": [
       "$\\displaystyle \\sin{\\left(x + y \\right)}$"
      ],
      "text/plain": [
       "sin(x + y)"
      ]
     },
     "execution_count": 73,
     "metadata": {},
     "output_type": "execute_result"
    }
   ],
   "source": [
    "x, y = sp.symbols('x y')\n",
    "f = sp.sin(x + y)\n",
    "f"
   ]
  },
  {
   "cell_type": "code",
   "execution_count": 74,
   "id": "7ebbf615",
   "metadata": {},
   "outputs": [
    {
     "data": {
      "image/png": "[encoded data removed]",
      "text/latex": [
       "$\\displaystyle \\sin{\\left(x \\right)} \\cos{\\left(y \\right)} + \\sin{\\left(y \\right)} \\cos{\\left(x \\right)}$"
      ],
      "text/plain": [
       "sin(x)⋅cos(y) + sin(y)⋅cos(x)"
      ]
     },
     "execution_count": 74,
     "metadata": {},
     "output_type": "execute_result"
    }
   ],
   "source": [
    "sp.expand_trig(f)"
   ]
  },
  {
   "cell_type": "markdown",
   "id": "8b0e81a5",
   "metadata": {},
   "source": [
    "#### Power simplifications"
   ]
  },
  {
   "cell_type": "code",
   "execution_count": 75,
   "id": "1f9b7076",
   "metadata": {},
   "outputs": [
    {
     "data": {
      "image/png": "[encoded data removed]",
      "text/latex": [
       "$\\displaystyle x^{a} x^{b}$"
      ],
      "text/plain": [
       " a  b\n",
       "x ⋅x "
      ]
     },
     "execution_count": 75,
     "metadata": {},
     "output_type": "execute_result"
    }
   ],
   "source": [
    "x, a, b = sp.symbols('x a b')\n",
    "y = x ** a * x ** b\n",
    "y"
   ]
  },
  {
   "cell_type": "code",
   "execution_count": 76,
   "id": "8d942d6a",
   "metadata": {},
   "outputs": [
    {
     "data": {
      "image/png": "[encoded data removed]",
      "text/latex": [
       "$\\displaystyle x^{a + b}$"
      ],
      "text/plain": [
       " a + b\n",
       "x     "
      ]
     },
     "execution_count": 76,
     "metadata": {},
     "output_type": "execute_result"
    }
   ],
   "source": [
    "y.powsimp()"
   ]
  },
  {
   "cell_type": "markdown",
   "id": "4c26750f",
   "metadata": {},
   "source": [
    "#### Log simplifications"
   ]
  },
  {
   "cell_type": "code",
   "execution_count": 77,
   "id": "6732fcc7",
   "metadata": {},
   "outputs": [
    {
     "data": {
      "image/png": "[encoded data removed]",
      "text/latex": [
       "$\\displaystyle \\log{\\left(a b \\right)}$"
      ],
      "text/plain": [
       "log(a⋅b)"
      ]
     },
     "execution_count": 77,
     "metadata": {},
     "output_type": "execute_result"
    }
   ],
   "source": [
    "# Note: positive constraint in the next line ...\n",
    "a, b = sp.symbols('a b', positive=True)\n",
    "y = sp.log(a * b)\n",
    "y"
   ]
  },
  {
   "cell_type": "code",
   "execution_count": 78,
   "id": "4c14ae86",
   "metadata": {},
   "outputs": [
    {
     "data": {
      "image/png": "[encoded data removed]",
      "text/latex": [
       "$\\displaystyle \\log{\\left(a \\right)} + \\log{\\left(b \\right)}$"
      ],
      "text/plain": [
       "log(a) + log(b)"
      ]
     },
     "execution_count": 78,
     "metadata": {},
     "output_type": "execute_result"
    }
   ],
   "source": [
    "sp.expand_log(y)"
   ]
  },
  {
   "cell_type": "code",
   "execution_count": 79,
   "id": "9dc6702b",
   "metadata": {},
   "outputs": [
    {
     "data": {
      "image/png": "[encoded data removed]",
      "text/latex": [
       "$\\displaystyle \\log{\\left(\\frac{a}{b} \\right)}$"
      ],
      "text/plain": [
       "   ⎛a⎞\n",
       "log⎜─⎟\n",
       "   ⎝b⎠"
      ]
     },
     "execution_count": 79,
     "metadata": {},
     "output_type": "execute_result"
    }
   ],
   "source": [
    "y = sp.log(a / b)\n",
    "y"
   ]
  },
  {
   "cell_type": "code",
   "execution_count": 80,
   "id": "ef7849f2",
   "metadata": {},
   "outputs": [
    {
     "data": {
      "image/png": "[encoded data removed]",
      "text/latex": [
       "$\\displaystyle \\log{\\left(a \\right)} - \\log{\\left(b \\right)}$"
      ],
      "text/plain": [
       "log(a) - log(b)"
      ]
     },
     "execution_count": 80,
     "metadata": {},
     "output_type": "execute_result"
    }
   ],
   "source": [
    "sp.expand_log(y)"
   ]
  },
  {
   "cell_type": "markdown",
   "id": "6dbc4cba",
   "metadata": {},
   "source": [
    "#### Rewriting functions"
   ]
  },
  {
   "cell_type": "code",
   "execution_count": 81,
   "id": "817bf651",
   "metadata": {},
   "outputs": [
    {
     "data": {
      "image/png": "[encoded data removed]",
      "text/latex": [
       "$\\displaystyle \\tan{\\left(x \\right)}$"
      ],
      "text/plain": [
       "tan(x)"
      ]
     },
     "execution_count": 81,
     "metadata": {},
     "output_type": "execute_result"
    }
   ],
   "source": [
    "# rewite an expression in terms of a particular function\n",
    "x = sp.Symbol('x')\n",
    "y = sp.tan(x)\n",
    "y"
   ]
  },
  {
   "cell_type": "code",
   "execution_count": 82,
   "id": "651b179c",
   "metadata": {},
   "outputs": [
    {
     "data": {
      "image/png": "[encoded data removed]",
      "text/latex": [
       "$\\displaystyle \\frac{2 \\sin^{2}{\\left(x \\right)}}{\\sin{\\left(2 x \\right)}}$"
      ],
      "text/plain": [
       "     2   \n",
       "2⋅sin (x)\n",
       "─────────\n",
       " sin(2⋅x)"
      ]
     },
     "execution_count": 82,
     "metadata": {},
     "output_type": "execute_result"
    }
   ],
   "source": [
    "# express our tan(x) function in terms of sin\n",
    "y.rewrite(sp.sin)"
   ]
  },
  {
   "cell_type": "code",
   "execution_count": 83,
   "id": "738b2f79",
   "metadata": {},
   "outputs": [
    {
     "data": {
      "image/png": "[encoded data removed]",
      "text/latex": [
       "$\\displaystyle \\frac{i \\left(- e^{i x} + e^{- i x}\\right)}{e^{i x} + e^{- i x}}$"
      ],
      "text/plain": [
       "  ⎛   ⅈ⋅x    -ⅈ⋅x⎞\n",
       "ⅈ⋅⎝- ℯ    + ℯ    ⎠\n",
       "──────────────────\n",
       "    ⅈ⋅x    -ⅈ⋅x   \n",
       "   ℯ    + ℯ       "
      ]
     },
     "execution_count": 83,
     "metadata": {},
     "output_type": "execute_result"
    }
   ],
   "source": [
    "# express our tan(x) function in terms of the exponetial function\n",
    "y.rewrite(sp.exp)"
   ]
  },
  {
   "cell_type": "markdown",
   "id": "e892f5e9",
   "metadata": {},
   "source": [
    "### Solving expressions\n",
    "\n",
    "Solving these expressions assumes they are equations that are equal to zero. "
   ]
  },
  {
   "cell_type": "markdown",
   "id": "64dfc549",
   "metadata": {},
   "source": [
    "#### Example quadratic solution"
   ]
  },
  {
   "cell_type": "code",
   "execution_count": 84,
   "id": "400d5493",
   "metadata": {},
   "outputs": [
    {
     "data": {
      "image/png": "[encoded data removed]",
      "text/latex": [
       "$\\displaystyle \\left[ -1, \\  1\\right]$"
      ],
      "text/plain": [
       "[-1, 1]"
      ]
     },
     "execution_count": 84,
     "metadata": {},
     "output_type": "execute_result"
    }
   ],
   "source": [
    "# solve a quadratic equation\n",
    "x = sp.Symbol('x')\n",
    "sp.solve(x ** 2 - 1, x) # solve expression in nrespect of x\n",
    "                        # yields two possible solutions"
   ]
  },
  {
   "cell_type": "markdown",
   "id": "a65d3fe3",
   "metadata": {},
   "source": [
    "#### Generalised quadratic solution"
   ]
  },
  {
   "cell_type": "code",
   "execution_count": 85,
   "id": "541e4042",
   "metadata": {},
   "outputs": [
    {
     "data": {
      "image/png": "[encoded data removed]",
      "text/latex": [
       "$\\displaystyle \\left[ \\frac{- b + \\sqrt{- 4 a c + b^{2}}}{2 a}, \\  - \\frac{b + \\sqrt{- 4 a c + b^{2}}}{2 a}\\right]$"
      ],
      "text/plain": [
       "⎡        _____________   ⎛       _____________⎞ ⎤\n",
       "⎢       ╱           2    ⎜      ╱           2 ⎟ ⎥\n",
       "⎢-b + ╲╱  -4⋅a⋅c + b    -⎝b + ╲╱  -4⋅a⋅c + b  ⎠ ⎥\n",
       "⎢─────────────────────, ────────────────────────⎥\n",
       "⎣         2⋅a                     2⋅a           ⎦"
      ]
     },
     "execution_count": 85,
     "metadata": {},
     "output_type": "execute_result"
    }
   ],
   "source": [
    "# More generally ...\n",
    "a, b, c, x = sp.symbols('a b c x')\n",
    "y = a * x ** 2 + b * x + c # standard quadratic equation\n",
    "sp.solve(y, x) # yields a list of two possible solutions"
   ]
  },
  {
   "cell_type": "markdown",
   "id": "67beafd0",
   "metadata": {},
   "source": [
    "#### Quadratic with a complex solution"
   ]
  },
  {
   "cell_type": "code",
   "execution_count": 86,
   "id": "b743db4b",
   "metadata": {},
   "outputs": [
    {
     "data": {
      "image/png": "[encoded data removed]",
      "text/latex": [
       "$\\displaystyle \\left[ -1 - 3 i, \\  -1 + 3 i\\right]$"
      ],
      "text/plain": [
       "[-1 - 3⋅ⅈ, -1 + 3⋅ⅈ]"
      ]
     },
     "execution_count": 86,
     "metadata": {},
     "output_type": "execute_result"
    }
   ],
   "source": [
    "# and if the only solutions are complex ...\n",
    "sp.solve(x ** 2 + 2 * x + 10, x) \n",
    "# yields a list of two possible solutions"
   ]
  },
  {
   "cell_type": "markdown",
   "id": "bf94ffed",
   "metadata": {},
   "source": [
    "#### Manipulating expressions to re-arrange terms"
   ]
  },
  {
   "cell_type": "code",
   "execution_count": 87,
   "id": "cd7920d8",
   "metadata": {},
   "outputs": [
    {
     "data": {
      "image/png": "[encoded data removed]",
      "text/latex": [
       "$\\displaystyle \\left[ \\frac{x^{2} + 3}{2 x}\\right]$"
      ],
      "text/plain": [
       "⎡ 2    ⎤\n",
       "⎢x  + 3⎥\n",
       "⎢──────⎥\n",
       "⎣ 2⋅x  ⎦"
      ]
     },
     "execution_count": 87,
     "metadata": {},
     "output_type": "execute_result"
    }
   ],
   "source": [
    "# rearrange terms ...\n",
    "x, y = sp.symbols('x y')\n",
    "f = x ** 2 - 2 * x * y + 3\n",
    "sp.solve(f, y) # solve for y = ...; yeilds one possible solution"
   ]
  },
  {
   "cell_type": "markdown",
   "id": "c6037dfc",
   "metadata": {},
   "source": [
    "### Plotting expressions"
   ]
  },
  {
   "cell_type": "code",
   "execution_count": 88,
   "id": "4627e324",
   "metadata": {},
   "outputs": [
    {
     "data": {
      "image/png": "[encoded data removed]",
      "text/latex": [
       "$\\displaystyle \\sin^{2}{\\left(x \\right)} + \\cos{\\left(x \\right)}$"
      ],
      "text/plain": [
       "   2            \n",
       "sin (x) + cos(x)"
      ]
     },
     "execution_count": 88,
     "metadata": {},
     "output_type": "execute_result"
    }
   ],
   "source": [
    "x = sp.Symbol('x')\n",
    "expr = sp.sin(x) ** 2 + sp.cos(x)\n",
    "expr"
   ]
  },
  {
   "cell_type": "code",
   "execution_count": 89,
   "id": "ea9de663",
   "metadata": {},
   "outputs": [
    {
     "data": {
      "image/png": "[encoded data removed]",
      "text/plain": [
       "<Figure size 432x288 with 1 Axes>"
      ]
     },
     "metadata": {
      "needs_background": "light"
     },
     "output_type": "display_data"
    },
    {
     "name": "stdout",
     "output_type": "stream",
     "text": [
      "<class 'sympy.core.symbol.Symbol'>\n"
     ]
    }
   ],
   "source": [
    "plot = sp.plot(expr, show=True)\n",
    "print(type(k))"
   ]
  },
  {
   "cell_type": "code",
   "execution_count": 90,
   "id": "1580297a",
   "metadata": {},
   "outputs": [
    {
     "data": {
      "image/png": "[encoded data removed]",
      "text/plain": [
       "<Figure size 432x288 with 1 Axes>"
      ]
     },
     "metadata": {
      "needs_background": "light"
     },
     "output_type": "display_data"
    },
    {
     "data": {
      "text/plain": [
       "<sympy.plotting.plot.Plot at 0x113806a30>"
      ]
     },
     "execution_count": 90,
     "metadata": {},
     "output_type": "execute_result"
    }
   ],
   "source": [
    "# plot multiple lines at once\n",
    "sp.plot(sp.sin(x), sp.cos(x), legend=True, show=True)"
   ]
  },
  {
   "cell_type": "code",
   "execution_count": 91,
   "id": "bf6fd75d",
   "metadata": {},
   "outputs": [
    {
     "data": {
      "image/png": "[encoded data removed]",
      "text/plain": [
       "<Figure size 432x288 with 1 Axes>"
      ]
     },
     "metadata": {
      "needs_background": "light"
     },
     "output_type": "display_data"
    }
   ],
   "source": [
    "from sympy.plotting import plot3d\n",
    "x, y = sp.symbols('x y')\n",
    "plot = plot3d(x**2 + y**2, show=True)"
   ]
  },
  {
   "cell_type": "markdown",
   "id": "3b63670a",
   "metadata": {},
   "source": [
    "## Equations"
   ]
  },
  {
   "cell_type": "markdown",
   "id": "2e3651b2",
   "metadata": {},
   "source": [
    "### Creating equations"
   ]
  },
  {
   "cell_type": "code",
   "execution_count": 92,
   "id": "4c6762ef",
   "metadata": {},
   "outputs": [
    {
     "data": {
      "image/png": "[encoded data removed]",
      "text/latex": [
       "$\\displaystyle y = 3 x + 2$"
      ],
      "text/plain": [
       "y = 3⋅x + 2"
      ]
     },
     "execution_count": 92,
     "metadata": {},
     "output_type": "execute_result"
    }
   ],
   "source": [
    "# Note: we use sp.Eq(left_expr, right_expr) \n",
    "# to create an equation in sympy\n",
    "x, y = sp.symbols('x y')\n",
    "sp.Eq(y, 3 * x + 2)"
   ]
  },
  {
   "cell_type": "markdown",
   "id": "4c173fa6",
   "metadata": {},
   "source": [
    "### Solving equations"
   ]
  },
  {
   "cell_type": "markdown",
   "id": "b2644a7b",
   "metadata": {},
   "source": [
    "#### Rearranging terms"
   ]
  },
  {
   "cell_type": "code",
   "execution_count": 93,
   "id": "c976cf61",
   "metadata": {},
   "outputs": [
    {
     "data": {
      "image/png": "[encoded data removed]",
      "text/latex": [
       "$\\displaystyle x^{2} + 2 x y - 1 = 0$"
      ],
      "text/plain": [
       " 2                \n",
       "x  + 2⋅x⋅y - 1 = 0"
      ]
     },
     "execution_count": 93,
     "metadata": {},
     "output_type": "execute_result"
    }
   ],
   "source": [
    "x, y = sp.symbols('x y')\n",
    "eqn = sp.Eq(x ** 2 + 2 * x * y - 1, 0)\n",
    "eqn # this is our equation"
   ]
  },
  {
   "cell_type": "code",
   "execution_count": 94,
   "id": "99092414",
   "metadata": {},
   "outputs": [
    {
     "data": {
      "image/png": "[encoded data removed]",
      "text/latex": [
       "$\\displaystyle \\left[ \\frac{1 - x^{2}}{2 x}\\right]$"
      ],
      "text/plain": [
       "⎡     2⎤\n",
       "⎢1 - x ⎥\n",
       "⎢──────⎥\n",
       "⎣ 2⋅x  ⎦"
      ]
     },
     "execution_count": 94,
     "metadata": {},
     "output_type": "execute_result"
    }
   ],
   "source": [
    "solution = sp.solve(eqn, y)\n",
    "solution # yields a list of solutions, \n",
    "# in this case a list of 1 ..."
   ]
  },
  {
   "cell_type": "code",
   "execution_count": 95,
   "id": "5e044048",
   "metadata": {},
   "outputs": [
    {
     "data": {
      "image/png": "[encoded data removed]",
      "text/latex": [
       "$\\displaystyle y = \\frac{1 - x^{2}}{2 x}$"
      ],
      "text/plain": [
       "         2\n",
       "    1 - x \n",
       "y = ──────\n",
       "     2⋅x  "
      ]
     },
     "execution_count": 95,
     "metadata": {},
     "output_type": "execute_result"
    }
   ],
   "source": [
    "# Which we can turn back into an equation\n",
    "sp.Eq(y, solution[0])"
   ]
  },
  {
   "cell_type": "markdown",
   "id": "d8f4f018",
   "metadata": {},
   "source": [
    "#### Exponential example"
   ]
  },
  {
   "cell_type": "code",
   "execution_count": 96,
   "id": "0add0239",
   "metadata": {},
   "outputs": [
    {
     "data": {
      "image/png": "[encoded data removed]",
      "text/latex": [
       "$\\displaystyle a^{b} = e^{x}$"
      ],
      "text/plain": [
       " b    x\n",
       "a  = ℯ "
      ]
     },
     "execution_count": 96,
     "metadata": {},
     "output_type": "execute_result"
    }
   ],
   "source": [
    "a, b, x = sp.symbols('a b x')\n",
    "eq = sp.Eq(a ** b, sp.E ** x)\n",
    "eq # our equation"
   ]
  },
  {
   "cell_type": "code",
   "execution_count": 97,
   "id": "1f224ad7",
   "metadata": {},
   "outputs": [
    {
     "data": {
      "image/png": "[encoded data removed]",
      "text/latex": [
       "$\\displaystyle x = \\log{\\left(a^{b} \\right)}$"
      ],
      "text/plain": [
       "       ⎛ b⎞\n",
       "x = log⎝a ⎠"
      ]
     },
     "execution_count": 97,
     "metadata": {},
     "output_type": "execute_result"
    }
   ],
   "source": [
    "sp.Eq(x, sp.solve(eq, x)[0])"
   ]
  },
  {
   "cell_type": "markdown",
   "id": "5e82f5b5",
   "metadata": {},
   "source": [
    "#### Quadratic example"
   ]
  },
  {
   "cell_type": "code",
   "execution_count": 98,
   "id": "4d5dec12",
   "metadata": {},
   "outputs": [
    {
     "data": {
      "image/png": "[encoded data removed]",
      "text/latex": [
       "$\\displaystyle \\left[ 0, \\  2\\right]$"
      ],
      "text/plain": [
       "[0, 2]"
      ]
     },
     "execution_count": 98,
     "metadata": {},
     "output_type": "execute_result"
    }
   ],
   "source": [
    "y = sp.Symbol('y')\n",
    "eq = sp.Eq(x ** 2 - 2 * x, 0)\n",
    "sp.solve(eq)"
   ]
  },
  {
   "cell_type": "code",
   "execution_count": 99,
   "id": "b55656f5",
   "metadata": {},
   "outputs": [
    {
     "data": {
      "image/png": "[encoded data removed]",
      "text/latex": [
       "$\\displaystyle \\left[ \\left\\{ y : x \\left(x - 2\\right)\\right\\}\\right]$"
      ],
      "text/plain": [
       "[{y: x⋅(x - 2)}]"
      ]
     },
     "execution_count": 99,
     "metadata": {},
     "output_type": "execute_result"
    }
   ],
   "source": [
    "y = sp.Symbol('y')\n",
    "eq = sp.Eq(x ** 2 - 2 * x, y)\n",
    "sp.solve(eq)"
   ]
  },
  {
   "cell_type": "code",
   "execution_count": 100,
   "id": "94464d8d",
   "metadata": {},
   "outputs": [
    {
     "data": {
      "image/png": "[encoded data removed]",
      "text/latex": [
       "$\\displaystyle \\left[ 1 - \\sqrt{y + 1}, \\  \\sqrt{y + 1} + 1\\right]$"
      ],
      "text/plain": [
       "⎡      _______    _______    ⎤\n",
       "⎣1 - ╲╱ y + 1 , ╲╱ y + 1  + 1⎦"
      ]
     },
     "execution_count": 100,
     "metadata": {},
     "output_type": "execute_result"
    }
   ],
   "source": [
    "y = sp.Symbol('y')\n",
    "eq = sp.Eq(x ** 2 - 2 * x, y)\n",
    "sp.solve(eq, x) # solve for x"
   ]
  },
  {
   "cell_type": "markdown",
   "id": "5c2978d0",
   "metadata": {},
   "source": [
    "#### A trigonometric example "
   ]
  },
  {
   "cell_type": "code",
   "execution_count": 101,
   "id": "31bf50e7",
   "metadata": {},
   "outputs": [
    {
     "data": {
      "image/png": "[encoded data removed]",
      "text/latex": [
       "$\\displaystyle \\left[ - 2 \\operatorname{atan}{\\left(\\sqrt{2 - \\sqrt{5}} \\right)}, \\  2 \\operatorname{atan}{\\left(\\sqrt{2 - \\sqrt{5}} \\right)}, \\  - 2 \\operatorname{atan}{\\left(\\sqrt{2 + \\sqrt{5}} \\right)}, \\  2 \\operatorname{atan}{\\left(\\sqrt{2 + \\sqrt{5}} \\right)}\\right]$"
      ],
      "text/plain": [
       "⎡       ⎛  ________⎞        ⎛  ________⎞         ⎛  ________⎞        ⎛  ________⎞⎤\n",
       "⎣-2⋅atan⎝╲╱ 2 - √5 ⎠, 2⋅atan⎝╲╱ 2 - √5 ⎠, -2⋅atan⎝╲╱ 2 + √5 ⎠, 2⋅atan⎝╲╱ 2 + √5 ⎠⎦"
      ]
     },
     "execution_count": 101,
     "metadata": {},
     "output_type": "execute_result"
    }
   ],
   "source": [
    "x = sp.Symbol('x')\n",
    "eq = sp.Eq(sp.sin(x) ** 2 + sp.cos(x), 0)\n",
    "sp.solve(eq)"
   ]
  },
  {
   "cell_type": "code",
   "execution_count": 102,
   "id": "4268232d",
   "metadata": {},
   "outputs": [
    {
     "data": {
      "image/png": "[encoded data removed]",
      "text/latex": [
       "$\\displaystyle \\left\\{2 n \\pi + \\operatorname{atan}{\\left(\\frac{\\sqrt{2} \\sqrt{-1 + \\sqrt{5}}}{1 - \\sqrt{5}} \\right)} + \\pi\\; \\middle|\\; n \\in \\mathbb{Z}\\right\\} \\cup \\left\\{- i \\left(2 n i \\pi + \\log{\\left(\\frac{1}{2} + \\frac{\\sqrt{5}}{2} + \\frac{\\sqrt{2} \\sqrt{1 + \\sqrt{5}}}{2} \\right)}\\right)\\; \\middle|\\; n \\in \\mathbb{Z}\\right\\} \\cup \\left\\{- i \\left(2 n i \\pi + \\log{\\left(- \\frac{\\sqrt{2} \\sqrt{1 + \\sqrt{5}}}{2} + \\frac{1}{2} + \\frac{\\sqrt{5}}{2} \\right)}\\right)\\; \\middle|\\; n \\in \\mathbb{Z}\\right\\} \\cup \\left\\{2 n \\pi - \\operatorname{atan}{\\left(\\frac{\\sqrt{2} \\sqrt{-1 + \\sqrt{5}}}{1 - \\sqrt{5}} \\right)} + \\pi\\; \\middle|\\; n \\in \\mathbb{Z}\\right\\}$"
      ],
      "text/plain": [
       "⎧            ⎛     _________⎞     │      ⎫   ⎧   ⎛             ⎛              ________⎞⎞ │      ⎫   ⎧   \n",
       "⎪            ⎜√2⋅╲╱ -1 + √5 ⎟     │      ⎪   ⎪   ⎜             ⎜1   √5   √2⋅╲╱ 1 + √5 ⎟⎟ │      ⎪   ⎪   \n",
       "⎨2⋅n⋅π + atan⎜──────────────⎟ + π │ n ∊ ℤ⎬ ∪ ⎨-ⅈ⋅⎜2⋅n⋅ⅈ⋅π + log⎜─ + ── + ─────────────⎟⎟ │ n ∊ ℤ⎬ ∪ ⎨-ⅈ⋅\n",
       "⎪            ⎝    1 - √5    ⎠     │      ⎪   ⎪   ⎝             ⎝2   2          2      ⎠⎠ │      ⎪   ⎪   \n",
       "⎩                                 │      ⎭   ⎩                                           │      ⎭   ⎩   \n",
       "\n",
       "⎛             ⎛       ________         ⎞⎞ │      ⎫   ⎧            ⎛     _________⎞     │      ⎫\n",
       "⎜             ⎜  √2⋅╲╱ 1 + √5    1   √5⎟⎟ │      ⎪   ⎪            ⎜√2⋅╲╱ -1 + √5 ⎟     │      ⎪\n",
       "⎜2⋅n⋅ⅈ⋅π + log⎜- ───────────── + ─ + ──⎟⎟ │ n ∊ ℤ⎬ ∪ ⎨2⋅n⋅π - atan⎜──────────────⎟ + π │ n ∊ ℤ⎬\n",
       "⎝             ⎝        2         2   2 ⎠⎠ │      ⎪   ⎪            ⎝    1 - √5    ⎠     │      ⎪\n",
       "                                          │      ⎭   ⎩                                 │      ⎭"
      ]
     },
     "execution_count": 102,
     "metadata": {},
     "output_type": "execute_result"
    }
   ],
   "source": [
    "# solveset allows us to capture tbe set of infinite solutions\n",
    "sp.solveset(eq)"
   ]
  },
  {
   "cell_type": "markdown",
   "id": "dd5c45be",
   "metadata": {},
   "source": [
    "### Solving systems of equations"
   ]
  },
  {
   "cell_type": "markdown",
   "id": "d8bcfcc5",
   "metadata": {},
   "source": [
    "#### Two linear equations"
   ]
  },
  {
   "cell_type": "code",
   "execution_count": 103,
   "id": "42d2b9fd",
   "metadata": {},
   "outputs": [
    {
     "data": {
      "image/png": "[encoded data removed]",
      "text/latex": [
       "$\\displaystyle y = 3 x + 2$"
      ],
      "text/plain": [
       "y = 3⋅x + 2"
      ]
     },
     "execution_count": 103,
     "metadata": {},
     "output_type": "execute_result"
    }
   ],
   "source": [
    "x, y = sp.symbols('x y')\n",
    "eq1 = sp.Eq(y, 3 * x + 2) # an equation\n",
    "eq1"
   ]
  },
  {
   "cell_type": "code",
   "execution_count": 104,
   "id": "81e01777",
   "metadata": {},
   "outputs": [
    {
     "data": {
      "image/png": "[encoded data removed]",
      "text/latex": [
       "$\\displaystyle y = - 2 x - 1$"
      ],
      "text/plain": [
       "y = -2⋅x - 1"
      ]
     },
     "execution_count": 104,
     "metadata": {},
     "output_type": "execute_result"
    }
   ],
   "source": [
    "eq2 = sp.Eq(y, -2 * x - 1)\n",
    "eq2"
   ]
  },
  {
   "cell_type": "code",
   "execution_count": 105,
   "id": "7877ca80",
   "metadata": {},
   "outputs": [
    {
     "data": {
      "image/png": "[encoded data removed]",
      "text/latex": [
       "$\\displaystyle \\left\\{ x : - \\frac{3}{5}, \\  y : \\frac{1}{5}\\right\\}$"
      ],
      "text/plain": [
       "{x: -3/5, y: 1/5}"
      ]
     },
     "execution_count": 105,
     "metadata": {},
     "output_type": "execute_result"
    }
   ],
   "source": [
    "sp.solve([eq1, eq2], [x, y])"
   ]
  },
  {
   "cell_type": "markdown",
   "id": "a802d8bd",
   "metadata": {},
   "source": [
    "#### A linear and cubic system with three point-solutions"
   ]
  },
  {
   "cell_type": "code",
   "execution_count": 106,
   "id": "b7dd80ba",
   "metadata": {},
   "outputs": [
    {
     "data": {
      "image/png": "[encoded data removed]",
      "text/latex": [
       "$\\displaystyle \\left[ \\left( 0, \\  0\\right), \\  \\left( - \\sqrt{10}, \\  - \\sqrt{10}\\right), \\  \\left( \\sqrt{10}, \\  \\sqrt{10}\\right)\\right]$"
      ],
      "text/plain": [
       "[(0, 0), (-√10, -√10), (√10, √10)]"
      ]
     },
     "execution_count": 106,
     "metadata": {},
     "output_type": "execute_result"
    }
   ],
   "source": [
    "eq1 = sp.Eq(y, x)\n",
    "eq2 = sp.Eq(y, sp.Rational(1, 10) * x ** 3)\n",
    "sp.solve([eq1, eq2], [x, y]) "
   ]
  },
  {
   "cell_type": "markdown",
   "id": "c8a30933",
   "metadata": {},
   "source": [
    "#### A system of equations with no solutions"
   ]
  },
  {
   "cell_type": "code",
   "execution_count": 107,
   "id": "476c7fe2",
   "metadata": {},
   "outputs": [
    {
     "data": {
      "image/png": "[encoded data removed]",
      "text/latex": [
       "$\\displaystyle \\left[ \\right]$"
      ],
      "text/plain": [
       "[]"
      ]
     },
     "execution_count": 107,
     "metadata": {},
     "output_type": "execute_result"
    }
   ],
   "source": [
    "eq1 = sp.Eq(y, x)\n",
    "eq2 = sp.Eq(y, x + 1)\n",
    "sp.solve([eq1, eq2], [x, y]) "
   ]
  },
  {
   "cell_type": "markdown",
   "id": "bb73c52f",
   "metadata": {},
   "source": [
    "## Limits"
   ]
  },
  {
   "cell_type": "markdown",
   "id": "22569c60",
   "metadata": {},
   "source": [
    "### Simple example"
   ]
  },
  {
   "cell_type": "code",
   "execution_count": 108,
   "id": "1e366824",
   "metadata": {},
   "outputs": [
    {
     "data": {
      "image/png": "[encoded data removed]",
      "text/latex": [
       "$\\displaystyle \\frac{x^{2} - 1}{x - 1}$"
      ],
      "text/plain": [
       " 2    \n",
       "x  - 1\n",
       "──────\n",
       "x - 1 "
      ]
     },
     "execution_count": 108,
     "metadata": {},
     "output_type": "execute_result"
    }
   ],
   "source": [
    "x = sp.Symbol('x')\n",
    "expr = (x * x  - 1)/(x - 1)\n",
    "expr"
   ]
  },
  {
   "cell_type": "code",
   "execution_count": 109,
   "id": "5b5a7c5e",
   "metadata": {},
   "outputs": [
    {
     "data": {
      "image/png": "[encoded data removed]",
      "text/plain": [
       "<Figure size 432x288 with 1 Axes>"
      ]
     },
     "metadata": {
      "needs_background": "light"
     },
     "output_type": "display_data"
    },
    {
     "data": {
      "text/plain": [
       "<sympy.plotting.plot.Plot at 0x187ffdf10>"
      ]
     },
     "execution_count": 109,
     "metadata": {},
     "output_type": "execute_result"
    }
   ],
   "source": [
    "# the function of this expression is mostly a straight line\n",
    "sp.plot(expr, xlim=(-4,4), ylim=(-2,6))"
   ]
  },
  {
   "cell_type": "code",
   "execution_count": 110,
   "id": "f1e476cf",
   "metadata": {},
   "outputs": [
    {
     "data": {
      "image/png": "[encoded data removed]",
      "text/latex": [
       "$\\displaystyle \\text{NaN}$"
      ],
      "text/plain": [
       "nan"
      ]
     },
     "execution_count": 110,
     "metadata": {},
     "output_type": "execute_result"
    }
   ],
   "source": [
    "# But Our expression is not defined when x is 1\n",
    "# as it evaluates to zero divided by zero\n",
    "expr.subs(x, 1)"
   ]
  },
  {
   "cell_type": "code",
   "execution_count": 111,
   "id": "674785b5",
   "metadata": {},
   "outputs": [
    {
     "data": {
      "image/png": "[encoded data removed]",
      "text/latex": [
       "$\\displaystyle 2.00001000000083$"
      ],
      "text/plain": [
       "2.00001000000083"
      ]
     },
     "execution_count": 111,
     "metadata": {},
     "output_type": "execute_result"
    }
   ],
   "source": [
    "# let's test just above x is 1\n",
    "# but this approximation is also affected \n",
    "# by binary number representation issues\n",
    "expr.subs(x, 1.00001)"
   ]
  },
  {
   "cell_type": "code",
   "execution_count": 112,
   "id": "e503d8f9",
   "metadata": {},
   "outputs": [
    {
     "data": {
      "image/png": "[encoded data removed]",
      "text/latex": [
       "$\\displaystyle 1.99998999999917$"
      ],
      "text/plain": [
       "1.99998999999917"
      ]
     },
     "execution_count": 112,
     "metadata": {},
     "output_type": "execute_result"
    }
   ],
   "source": [
    "# let's test just below x is 1\n",
    "expr.subs(x, 0.99999)"
   ]
  },
  {
   "cell_type": "code",
   "execution_count": 113,
   "id": "606084b3",
   "metadata": {},
   "outputs": [
    {
     "data": {
      "image/png": "[encoded data removed]",
      "text/latex": [
       "$\\displaystyle 2$"
      ],
      "text/plain": [
       "2"
      ]
     },
     "execution_count": 113,
     "metadata": {},
     "output_type": "execute_result"
    }
   ],
   "source": [
    "# The limit as x approaches 1\n",
    "sp.limit(expr, x, 1) # using the global limit() function"
   ]
  },
  {
   "cell_type": "code",
   "execution_count": 114,
   "id": "d7598b6a",
   "metadata": {},
   "outputs": [
    {
     "data": {
      "image/png": "[encoded data removed]",
      "text/latex": [
       "$\\displaystyle 2$"
      ],
      "text/plain": [
       "2"
      ]
     },
     "execution_count": 114,
     "metadata": {},
     "output_type": "execute_result"
    }
   ],
   "source": [
    "expr.limit(x, 1) # using the .limit() method"
   ]
  },
  {
   "cell_type": "markdown",
   "id": "228a7ff5",
   "metadata": {},
   "source": [
    "### Limits, where the direction in which we approach the limit is important"
   ]
  },
  {
   "cell_type": "code",
   "execution_count": 115,
   "id": "ad7d764f",
   "metadata": {},
   "outputs": [
    {
     "data": {
      "image/png": "[encoded data removed]",
      "text/latex": [
       "$\\displaystyle \\frac{1}{x}$"
      ],
      "text/plain": [
       "1\n",
       "─\n",
       "x"
      ]
     },
     "execution_count": 115,
     "metadata": {},
     "output_type": "execute_result"
    }
   ],
   "source": [
    "x = sp.Symbol('x')\n",
    "expr = 1 / x\n",
    "expr"
   ]
  },
  {
   "cell_type": "code",
   "execution_count": 116,
   "id": "d1dd1b6d",
   "metadata": {},
   "outputs": [
    {
     "data": {
      "image/png": "[encoded data removed]",
      "text/plain": [
       "<Figure size 432x288 with 1 Axes>"
      ]
     },
     "metadata": {
      "needs_background": "light"
     },
     "output_type": "display_data"
    },
    {
     "data": {
      "text/plain": [
       "<sympy.plotting.plot.Plot at 0x188065ee0>"
      ]
     },
     "execution_count": 116,
     "metadata": {},
     "output_type": "execute_result"
    }
   ],
   "source": [
    "sp.plot(expr, xlim=(-8, 8), ylim=(-8, 8))"
   ]
  },
  {
   "cell_type": "code",
   "execution_count": 117,
   "id": "d6185fda",
   "metadata": {},
   "outputs": [
    {
     "data": {
      "image/png": "[encoded data removed]",
      "text/latex": [
       "$\\displaystyle \\infty$"
      ],
      "text/plain": [
       "∞"
      ]
     },
     "execution_count": 117,
     "metadata": {},
     "output_type": "execute_result"
    }
   ],
   "source": [
    "expr.limit(x, 0, dir='+') # from the positve direction"
   ]
  },
  {
   "cell_type": "code",
   "execution_count": 118,
   "id": "1d773b14",
   "metadata": {},
   "outputs": [
    {
     "data": {
      "image/png": "[encoded data removed]",
      "text/latex": [
       "$\\displaystyle -\\infty$"
      ],
      "text/plain": [
       "-∞"
      ]
     },
     "execution_count": 118,
     "metadata": {},
     "output_type": "execute_result"
    }
   ],
   "source": [
    "expr.limit(x, 0, dir='-') # from the negative direction"
   ]
  },
  {
   "cell_type": "markdown",
   "id": "395fa472",
   "metadata": {},
   "source": [
    "## Derivatives"
   ]
  },
  {
   "cell_type": "markdown",
   "id": "7c1e6218",
   "metadata": {},
   "source": [
    "### First, second and subsequent derivatives\n",
    "\n",
    "For one-variable expressions ... sympy has multiple ways to get the ordinary derivative\n",
    "* using the `.diff()` method on an expression\n",
    "* using the `diff()` function on an expression\n",
    "* using the combined `Derivative().doit()` function/method on an expression"
   ]
  },
  {
   "cell_type": "code",
   "execution_count": 119,
   "id": "afb2e249",
   "metadata": {},
   "outputs": [
    {
     "data": {
      "image/png": "[encoded data removed]",
      "text/latex": [
       "$\\displaystyle 3 x^{4} + 2 x^{2} - x - 1$"
      ],
      "text/plain": [
       "   4      2        \n",
       "3⋅x  + 2⋅x  - x - 1"
      ]
     },
     "execution_count": 119,
     "metadata": {},
     "output_type": "execute_result"
    }
   ],
   "source": [
    "# Let's generate a polynomial ...\n",
    "x = sp.Symbol('x')\n",
    "y = 3 * x ** 4 + 2 * x ** 2 - x - 1\n",
    "y"
   ]
  },
  {
   "cell_type": "code",
   "execution_count": 120,
   "id": "0c64312b",
   "metadata": {},
   "outputs": [
    {
     "data": {
      "image/png": "[encoded data removed]",
      "text/latex": [
       "$\\displaystyle \\frac{d}{d x} \\left(3 x^{4} + 2 x^{2} - x - 1\\right)$"
      ],
      "text/plain": [
       "d ⎛   4      2        ⎞\n",
       "──⎝3⋅x  + 2⋅x  - x - 1⎠\n",
       "dx                     "
      ]
     },
     "execution_count": 120,
     "metadata": {},
     "output_type": "execute_result"
    }
   ],
   "source": [
    "# provide the symbolic forumala for the first derivative\n",
    "y_dash = sp.Derivative(y, x)\n",
    "y_dash"
   ]
  },
  {
   "cell_type": "code",
   "execution_count": 121,
   "id": "5ede4251",
   "metadata": {},
   "outputs": [
    {
     "data": {
      "image/png": "[encoded data removed]",
      "text/latex": [
       "$\\displaystyle 12 x^{3} + 4 x - 1$"
      ],
      "text/plain": [
       "    3          \n",
       "12⋅x  + 4⋅x - 1"
      ]
     },
     "execution_count": 121,
     "metadata": {},
     "output_type": "execute_result"
    }
   ],
   "source": [
    "# And calculate the differential ...\n",
    "y_dash.doit()"
   ]
  },
  {
   "cell_type": "code",
   "execution_count": 122,
   "id": "74434404",
   "metadata": {},
   "outputs": [
    {
     "data": {
      "image/png": "[encoded data removed]",
      "text/latex": [
       "$\\displaystyle 12 x^{3} + 4 x - 1$"
      ],
      "text/plain": [
       "    3          \n",
       "12⋅x  + 4⋅x - 1"
      ]
     },
     "execution_count": 122,
     "metadata": {},
     "output_type": "execute_result"
    }
   ],
   "source": [
    "# Also ... using the .diff() method\n",
    "y.diff(x) # differentiate with respect to x"
   ]
  },
  {
   "cell_type": "code",
   "execution_count": 123,
   "id": "25a61361",
   "metadata": {},
   "outputs": [
    {
     "data": {
      "image/png": "[encoded data removed]",
      "text/latex": [
       "$\\displaystyle 12 x^{3} + 4 x - 1$"
      ],
      "text/plain": [
       "    3          \n",
       "12⋅x  + 4⋅x - 1"
      ]
     },
     "execution_count": 123,
     "metadata": {},
     "output_type": "execute_result"
    }
   ],
   "source": [
    "# Also using the diff() function\n",
    "sp.diff(y, x) # differentiate with respect to x"
   ]
  },
  {
   "cell_type": "code",
   "execution_count": 124,
   "id": "0d1bd8f6",
   "metadata": {},
   "outputs": [
    {
     "data": {
      "image/png": "[encoded data removed]",
      "text/latex": [
       "$\\displaystyle \\frac{d^{2}}{d x^{2}} \\left(3 x^{4} + 2 x^{2} - x - 1\\right)$"
      ],
      "text/plain": [
       "  2                     \n",
       " d ⎛   4      2        ⎞\n",
       "───⎝3⋅x  + 2⋅x  - x - 1⎠\n",
       "  2                     \n",
       "dx                      "
      ]
     },
     "execution_count": 124,
     "metadata": {},
     "output_type": "execute_result"
    }
   ],
   "source": [
    "# provide the symbolic formula for the second derivative\n",
    "y_2dash = sp.Derivative(y, x, 2)\n",
    "y_2dash"
   ]
  },
  {
   "cell_type": "code",
   "execution_count": 125,
   "id": "5550aaa9",
   "metadata": {},
   "outputs": [
    {
     "data": {
      "image/png": "[encoded data removed]",
      "text/latex": [
       "$\\displaystyle 4 \\left(9 x^{2} + 1\\right)$"
      ],
      "text/plain": [
       "  ⎛   2    ⎞\n",
       "4⋅⎝9⋅x  + 1⎠"
      ]
     },
     "execution_count": 125,
     "metadata": {},
     "output_type": "execute_result"
    }
   ],
   "source": [
    "# second derivative can also be done like this\n",
    "y_2dash.doit()"
   ]
  },
  {
   "cell_type": "code",
   "execution_count": 126,
   "id": "64053a18",
   "metadata": {},
   "outputs": [
    {
     "data": {
      "image/png": "[encoded data removed]",
      "text/latex": [
       "$\\displaystyle 4 \\left(9 x^{2} + 1\\right)$"
      ],
      "text/plain": [
       "  ⎛   2    ⎞\n",
       "4⋅⎝9⋅x  + 1⎠"
      ]
     },
     "execution_count": 126,
     "metadata": {},
     "output_type": "execute_result"
    }
   ],
   "source": [
    "# Also ...\n",
    "y.diff(x, x) # differentiate twice in respect of x"
   ]
  },
  {
   "cell_type": "code",
   "execution_count": 127,
   "id": "67c57c09",
   "metadata": {},
   "outputs": [
    {
     "data": {
      "image/png": "[encoded data removed]",
      "text/latex": [
       "$\\displaystyle 4 \\left(9 x^{2} + 1\\right)$"
      ],
      "text/plain": [
       "  ⎛   2    ⎞\n",
       "4⋅⎝9⋅x  + 1⎠"
      ]
     },
     "execution_count": 127,
     "metadata": {},
     "output_type": "execute_result"
    }
   ],
   "source": [
    "# Also ...\n",
    "y.diff(x, 2)"
   ]
  },
  {
   "cell_type": "code",
   "execution_count": 128,
   "id": "3d2675df",
   "metadata": {},
   "outputs": [
    {
     "data": {
      "image/png": "[encoded data removed]",
      "text/latex": [
       "$\\displaystyle \\frac{d^{3}}{d x^{3}} \\left(3 x^{4} + 2 x^{2} - x - 1\\right)$"
      ],
      "text/plain": [
       "  3                     \n",
       " d ⎛   4      2        ⎞\n",
       "───⎝3⋅x  + 2⋅x  - x - 1⎠\n",
       "  3                     \n",
       "dx                      "
      ]
     },
     "execution_count": 128,
     "metadata": {},
     "output_type": "execute_result"
    }
   ],
   "source": [
    "# And the formula for the third Derivative\n",
    "y_3dash = sp.Derivative(y, x, 3)\n",
    "y_3dash"
   ]
  },
  {
   "cell_type": "code",
   "execution_count": 129,
   "id": "14e3f4b6",
   "metadata": {},
   "outputs": [
    {
     "data": {
      "image/png": "[encoded data removed]",
      "text/latex": [
       "$\\displaystyle 72 x$"
      ],
      "text/plain": [
       "72⋅x"
      ]
     },
     "execution_count": 129,
     "metadata": {},
     "output_type": "execute_result"
    }
   ],
   "source": [
    "# third derivative (and so on ...)\n",
    "y_3dash.doit()"
   ]
  },
  {
   "cell_type": "code",
   "execution_count": 130,
   "id": "aa3e5aed",
   "metadata": {},
   "outputs": [
    {
     "data": {
      "image/png": "[encoded data removed]",
      "text/latex": [
       "$\\displaystyle 72 x$"
      ],
      "text/plain": [
       "72⋅x"
      ]
     },
     "execution_count": 130,
     "metadata": {},
     "output_type": "execute_result"
    }
   ],
   "source": [
    "# Also ...\n",
    "y.diff(x, 3)"
   ]
  },
  {
   "cell_type": "code",
   "execution_count": 131,
   "id": "0d33a8d1",
   "metadata": {},
   "outputs": [
    {
     "data": {
      "image/png": "[encoded data removed]",
      "text/latex": [
       "$\\displaystyle 72 x$"
      ],
      "text/plain": [
       "72⋅x"
      ]
     },
     "execution_count": 131,
     "metadata": {},
     "output_type": "execute_result"
    }
   ],
   "source": [
    "# Also ...\n",
    "y.diff(x, x, x)"
   ]
  },
  {
   "cell_type": "code",
   "execution_count": 132,
   "id": "6f13565d",
   "metadata": {},
   "outputs": [
    {
     "data": {
      "image/png": "[encoded data removed]",
      "text/latex": [
       "$\\displaystyle 72 x$"
      ],
      "text/plain": [
       "72⋅x"
      ]
     },
     "execution_count": 132,
     "metadata": {},
     "output_type": "execute_result"
    }
   ],
   "source": [
    "# Also ...\n",
    "sp.diff(y, x, 3) "
   ]
  },
  {
   "cell_type": "markdown",
   "id": "170d5cf9",
   "metadata": {},
   "source": [
    "### Partial derivatives\n",
    "\n",
    "As with the above differentials, there are multiple ways to do this ..."
   ]
  },
  {
   "cell_type": "code",
   "execution_count": 133,
   "id": "eea4d333",
   "metadata": {},
   "outputs": [
    {
     "data": {
      "image/png": "[encoded data removed]",
      "text/latex": [
       "$\\displaystyle x^{3} + x y^{2}$"
      ],
      "text/plain": [
       " 3      2\n",
       "x  + x⋅y "
      ]
     },
     "execution_count": 133,
     "metadata": {},
     "output_type": "execute_result"
    }
   ],
   "source": [
    "x, y = sp.symbols('x y')\n",
    "g = x* y ** 2 + x ** 3\n",
    "g"
   ]
  },
  {
   "cell_type": "code",
   "execution_count": 134,
   "id": "ca037588",
   "metadata": {},
   "outputs": [
    {
     "data": {
      "image/png": "[encoded data removed]",
      "text/latex": [
       "$\\displaystyle \\frac{\\partial}{\\partial x} \\left(x^{3} + x y^{2}\\right)$"
      ],
      "text/plain": [
       "∂ ⎛ 3      2⎞\n",
       "──⎝x  + x⋅y ⎠\n",
       "∂x           "
      ]
     },
     "execution_count": 134,
     "metadata": {},
     "output_type": "execute_result"
    }
   ],
   "source": [
    "# The first partial derivative of the expression with respect to x\n",
    "partial_x = sp.Derivative(g, x, 1)\n",
    "partial_x"
   ]
  },
  {
   "cell_type": "code",
   "execution_count": 135,
   "id": "fb1c044a",
   "metadata": {},
   "outputs": [
    {
     "data": {
      "image/png": "[encoded data removed]",
      "text/latex": [
       "$\\displaystyle 3 x^{2} + y^{2}$"
      ],
      "text/plain": [
       "   2    2\n",
       "3⋅x  + y "
      ]
     },
     "execution_count": 135,
     "metadata": {},
     "output_type": "execute_result"
    }
   ],
   "source": [
    "# Calculate ...\n",
    "partial_x.doit()"
   ]
  },
  {
   "cell_type": "code",
   "execution_count": 136,
   "id": "02c95059",
   "metadata": {},
   "outputs": [
    {
     "data": {
      "image/png": "[encoded data removed]",
      "text/latex": [
       "$\\displaystyle 2 x y$"
      ],
      "text/plain": [
       "2⋅x⋅y"
      ]
     },
     "execution_count": 136,
     "metadata": {},
     "output_type": "execute_result"
    }
   ],
   "source": [
    "# And the first order partial derivative in respect of y\n",
    "partial_y = sp.Derivative(g, y, 1)\n",
    "partial_y.doit()"
   ]
  },
  {
   "cell_type": "markdown",
   "id": "c67b1f13",
   "metadata": {},
   "source": [
    "## Integrals"
   ]
  },
  {
   "cell_type": "markdown",
   "id": "9076af70",
   "metadata": {},
   "source": [
    "### Definite Integrals"
   ]
  },
  {
   "cell_type": "code",
   "execution_count": 137,
   "id": "b880eef0",
   "metadata": {},
   "outputs": [
    {
     "data": {
      "image/png": "[encoded data removed]",
      "text/latex": [
       "$\\displaystyle \\int\\limits_{0}^{\\frac{\\pi}{2}} \\sin{\\left(x \\right)}\\, dx$"
      ],
      "text/plain": [
       "π          \n",
       "─          \n",
       "2          \n",
       "⌠          \n",
       "⎮ sin(x) dx\n",
       "⌡          \n",
       "0          "
      ]
     },
     "execution_count": 137,
     "metadata": {},
     "output_type": "execute_result"
    }
   ],
   "source": [
    "# Definite integral using the integrate() function\n",
    "# The tuple contains (with_respect_to, lower_limit, upper_limit)\n",
    "x = sp.Symbol('x')\n",
    "f = sp.sin(x)\n",
    "y = sp.Integral(f, (x, 0, sp.pi / 2))\n",
    "y"
   ]
  },
  {
   "cell_type": "code",
   "execution_count": 138,
   "id": "02a07d9c",
   "metadata": {},
   "outputs": [
    {
     "data": {
      "image/png": "[encoded data removed]",
      "text/latex": [
       "$\\displaystyle 1$"
      ],
      "text/plain": [
       "1"
      ]
     },
     "execution_count": 138,
     "metadata": {},
     "output_type": "execute_result"
    }
   ],
   "source": [
    "# we can then calculate it as follows\n",
    "y.doit()"
   ]
  },
  {
   "cell_type": "code",
   "execution_count": 139,
   "id": "353dd89c",
   "metadata": {},
   "outputs": [
    {
     "data": {
      "image/png": "[encoded data removed]",
      "text/latex": [
       "$\\displaystyle 1$"
      ],
      "text/plain": [
       "1"
      ]
     },
     "execution_count": 139,
     "metadata": {},
     "output_type": "execute_result"
    }
   ],
   "source": [
    "# We can calculate the definite interval using the .integrate() method\n",
    "x = sp.Symbol('x')\n",
    "f.integrate((x, 0, sp.pi / 2))"
   ]
  },
  {
   "cell_type": "code",
   "execution_count": 140,
   "id": "8fdae14f",
   "metadata": {},
   "outputs": [
    {
     "data": {
      "image/png": "[encoded data removed]",
      "text/latex": [
       "$\\displaystyle 1$"
      ],
      "text/plain": [
       "1"
      ]
     },
     "execution_count": 140,
     "metadata": {},
     "output_type": "execute_result"
    }
   ],
   "source": [
    "# We can calculate the definite interval using the integrate() function\n",
    "sp.integrate(f, (x, 0, sp.pi / 2))"
   ]
  },
  {
   "cell_type": "markdown",
   "id": "bc51fdba",
   "metadata": {},
   "source": [
    "### Indefinite integrals \n",
    "\n",
    "***Caution***: sympy does not give the constant of integration (the \"+ C\") that arises from the indefinite integral. So technically, we are getting the anti-derivative, rather than the indefinite integral. Note: the constant of integration is netted out when the definite integral is calculated. "
   ]
  },
  {
   "cell_type": "code",
   "execution_count": 141,
   "id": "72475ccc",
   "metadata": {},
   "outputs": [
    {
     "data": {
      "image/png": "[encoded data removed]",
      "text/latex": [
       "$\\displaystyle \\frac{x^{3}}{3} + x^{2}$"
      ],
      "text/plain": [
       " 3     \n",
       "x     2\n",
       "── + x \n",
       "3      "
      ]
     },
     "execution_count": 141,
     "metadata": {},
     "output_type": "execute_result"
    }
   ],
   "source": [
    "x = sp.Symbol('x')\n",
    "y = x ** 2 + 2 * x\n",
    "y.integrate(x) # integreate in respect of x"
   ]
  },
  {
   "cell_type": "code",
   "execution_count": 142,
   "id": "fca57e99",
   "metadata": {},
   "outputs": [
    {
     "data": {
      "image/png": "[encoded data removed]",
      "text/latex": [
       "$\\displaystyle x \\log{\\left(x \\right)} - x$"
      ],
      "text/plain": [
       "x⋅log(x) - x"
      ]
     },
     "execution_count": 142,
     "metadata": {},
     "output_type": "execute_result"
    }
   ],
   "source": [
    "x = sp.Symbol('x')\n",
    "sp.log(x).integrate(x)"
   ]
  },
  {
   "cell_type": "code",
   "execution_count": 143,
   "id": "2e20c2b8",
   "metadata": {},
   "outputs": [
    {
     "data": {
      "image/png": "[encoded data removed]",
      "text/latex": [
       "$\\displaystyle - \\cos{\\left(x \\right)}$"
      ],
      "text/plain": [
       "-cos(x)"
      ]
     },
     "execution_count": 143,
     "metadata": {},
     "output_type": "execute_result"
    }
   ],
   "source": [
    "x = sp.Symbol('x')\n",
    "sp.sin(x).integrate(x)"
   ]
  },
  {
   "cell_type": "markdown",
   "id": "0381156d",
   "metadata": {},
   "source": [
    "### sympy cannot evaluate some integrals \n",
    "\n",
    "If `integrate()` is unable to compute an integral, it returns an unevaluated Integral object."
   ]
  },
  {
   "cell_type": "code",
   "execution_count": 144,
   "id": "ba98366e",
   "metadata": {},
   "outputs": [
    {
     "data": {
      "image/png": "[encoded data removed]",
      "text/latex": [
       "$\\displaystyle \\int \\log{\\left(\\sin{\\left(x \\right)} \\right)}\\, dx$"
      ],
      "text/plain": [
       "⌠               \n",
       "⎮ log(sin(x)) dx\n",
       "⌡               "
      ]
     },
     "execution_count": 144,
     "metadata": {},
     "output_type": "execute_result"
    }
   ],
   "source": [
    "# for example ... sysmpy cannot calculate this integral\n",
    "sp.log(sp.sin(x)).integrate(x)"
   ]
  },
  {
   "cell_type": "markdown",
   "id": "fbeef782",
   "metadata": {},
   "source": [
    "## The End"
   ]
  },
  {
   "cell_type": "code",
   "execution_count": null,
   "id": "f9cacd2a",
   "metadata": {},
   "outputs": [],
   "source": []
  }
 ],
 "metadata": {
  "kernelspec": {
   "display_name": "Python 3 (ipykernel)",
   "language": "python",
   "name": "python3"
  },
  "language_info": {
   "codemirror_mode": {
    "name": "ipython",
    "version": 3
   },
   "file_extension": ".py",
   "mimetype": "text/x-python",
   "name": "python",
   "nbconvert_exporter": "python",
   "pygments_lexer": "ipython3",
   "version": "3.9.7"
  },
  "toc": {
   "base_numbering": 1,
   "nav_menu": {},
   "number_sections": true,
   "sideBar": true,
   "skip_h1_title": true,
   "title_cell": "Table of Contents",
   "title_sidebar": "Contents",
   "toc_cell": true,
   "toc_position": {
    "height": "calc(100% - 180px)",
    "left": "10px",
    "top": "150px",
    "width": "256px"
   },
   "toc_section_display": true,
   "toc_window_display": true
  },
  "varInspector": {
   "cols": {
    "lenName": 16,
    "lenType": 16,
    "lenVar": 40
   },
   "kernels_config": {
    "python": {
     "delete_cmd_postfix": "",
     "delete_cmd_prefix": "del ",
     "library": "var_list.py",
     "varRefreshCmd": "print(var_dic_list())"
    },
    "r": {
     "delete_cmd_postfix": ") ",
     "delete_cmd_prefix": "rm(",
     "library": "var_list.r",
     "varRefreshCmd": "cat(var_dic_list()) "
    }
   },
   "types_to_exclude": [
    "module",
    "function",
    "builtin_function_or_method",
    "instance",
    "_Feature"
   ],
   "window_display": false
  }
 },
 "nbformat": 4,
 "nbformat_minor": 5
}
