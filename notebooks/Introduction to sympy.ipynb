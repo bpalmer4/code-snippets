{
 "cells": [
  {
   "cell_type": "markdown",
   "id": "81ae09ee",
   "metadata": {},
   "source": [
    "# Introduction to sympy\n",
    "\n",
    "A Python library for manipulating symbolic mathematical expressions"
   ]
  },
  {
   "cell_type": "markdown",
   "id": "aa606714",
   "metadata": {
    "toc": true
   },
   "source": [
    "<h1>Table of Contents<span class=\"tocSkip\"></span></h1>\n",
    "<div class=\"toc\"><ul class=\"toc-item\"><li><span><a href=\"#Python-set-up\" data-toc-modified-id=\"Python-set-up-1\"><span class=\"toc-item-num\">1&nbsp;&nbsp;</span>Python set-up</a></span></li><li><span><a href=\"#Numbers\" data-toc-modified-id=\"Numbers-2\"><span class=\"toc-item-num\">2&nbsp;&nbsp;</span>Numbers</a></span><ul class=\"toc-item\"><li><span><a href=\"#Integers\" data-toc-modified-id=\"Integers-2.1\"><span class=\"toc-item-num\">2.1&nbsp;&nbsp;</span>Integers</a></span></li><li><span><a href=\"#Floats-or-Reals\" data-toc-modified-id=\"Floats-or-Reals-2.2\"><span class=\"toc-item-num\">2.2&nbsp;&nbsp;</span>Floats or Reals</a></span></li><li><span><a href=\"#Rationals-or-Fractions\" data-toc-modified-id=\"Rationals-or-Fractions-2.3\"><span class=\"toc-item-num\">2.3&nbsp;&nbsp;</span>Rationals or Fractions</a></span></li><li><span><a href=\"#Surds\" data-toc-modified-id=\"Surds-2.4\"><span class=\"toc-item-num\">2.4&nbsp;&nbsp;</span>Surds</a></span></li><li><span><a href=\"#Useful-constants\" data-toc-modified-id=\"Useful-constants-2.5\"><span class=\"toc-item-num\">2.5&nbsp;&nbsp;</span>Useful constants</a></span></li><li><span><a href=\"#Complex-numbers\" data-toc-modified-id=\"Complex-numbers-2.6\"><span class=\"toc-item-num\">2.6&nbsp;&nbsp;</span>Complex numbers</a></span></li><li><span><a href=\"#Miscellaneous\" data-toc-modified-id=\"Miscellaneous-2.7\"><span class=\"toc-item-num\">2.7&nbsp;&nbsp;</span>Miscellaneous</a></span></li></ul></li><li><span><a href=\"#Define-symbolic-variables\" data-toc-modified-id=\"Define-symbolic-variables-3\"><span class=\"toc-item-num\">3&nbsp;&nbsp;</span>Define symbolic variables</a></span><ul class=\"toc-item\"><li><span><a href=\"#Import-symbols-from-sympy.abc\" data-toc-modified-id=\"Import-symbols-from-sympy.abc-3.1\"><span class=\"toc-item-num\">3.1&nbsp;&nbsp;</span>Import symbols from sympy.abc</a></span></li><li><span><a href=\"#Define--one-symbol-at-a-time\" data-toc-modified-id=\"Define--one-symbol-at-a-time-3.2\"><span class=\"toc-item-num\">3.2&nbsp;&nbsp;</span>Define  one symbol at a time</a></span></li><li><span><a href=\"#Define-multiple-symbols-at-a-time\" data-toc-modified-id=\"Define-multiple-symbols-at-a-time-3.3\"><span class=\"toc-item-num\">3.3&nbsp;&nbsp;</span>Define multiple symbols at a time</a></span></li><li><span><a href=\"#Set-the-attributes-of-a-symbol\" data-toc-modified-id=\"Set-the-attributes-of-a-symbol-3.4\"><span class=\"toc-item-num\">3.4&nbsp;&nbsp;</span>Set the attributes of a symbol</a></span></li></ul></li><li><span><a href=\"#Symbolic-functions\" data-toc-modified-id=\"Symbolic-functions-4\"><span class=\"toc-item-num\">4&nbsp;&nbsp;</span>Symbolic functions</a></span><ul class=\"toc-item\"><li><span><a href=\"#Trig-functions\" data-toc-modified-id=\"Trig-functions-4.1\"><span class=\"toc-item-num\">4.1&nbsp;&nbsp;</span>Trig functions</a></span></li><li><span><a href=\"#Exponential-and-logarithmic-functions\" data-toc-modified-id=\"Exponential-and-logarithmic-functions-4.2\"><span class=\"toc-item-num\">4.2&nbsp;&nbsp;</span>Exponential and logarithmic functions</a></span></li></ul></li><li><span><a href=\"#Manipulating-expressions\" data-toc-modified-id=\"Manipulating-expressions-5\"><span class=\"toc-item-num\">5&nbsp;&nbsp;</span>Manipulating expressions</a></span><ul class=\"toc-item\"><li><span><a href=\"#Creating-an-expression\" data-toc-modified-id=\"Creating-an-expression-5.1\"><span class=\"toc-item-num\">5.1&nbsp;&nbsp;</span>Creating an expression</a></span></li><li><span><a href=\"#Creating-expressions-from-strings\" data-toc-modified-id=\"Creating-expressions-from-strings-5.2\"><span class=\"toc-item-num\">5.2&nbsp;&nbsp;</span>Creating expressions from strings</a></span></li><li><span><a href=\"#Substituting-values-into-an-expression\" data-toc-modified-id=\"Substituting-values-into-an-expression-5.3\"><span class=\"toc-item-num\">5.3&nbsp;&nbsp;</span>Substituting values into an expression</a></span></li><li><span><a href=\"#Get-quadratic-factors\" data-toc-modified-id=\"Get-quadratic-factors-5.4\"><span class=\"toc-item-num\">5.4&nbsp;&nbsp;</span>Get quadratic factors</a></span></li><li><span><a href=\"#Simplifying-expressions\" data-toc-modified-id=\"Simplifying-expressions-5.5\"><span class=\"toc-item-num\">5.5&nbsp;&nbsp;</span>Simplifying expressions</a></span><ul class=\"toc-item\"><li><span><a href=\"#Expanding-out\" data-toc-modified-id=\"Expanding-out-5.5.1\"><span class=\"toc-item-num\">5.5.1&nbsp;&nbsp;</span>Expanding out</a></span></li><li><span><a href=\"#Collecting-terms\" data-toc-modified-id=\"Collecting-terms-5.5.2\"><span class=\"toc-item-num\">5.5.2&nbsp;&nbsp;</span>Collecting terms</a></span></li><li><span><a href=\"#Canceling-common-factors\" data-toc-modified-id=\"Canceling-common-factors-5.5.3\"><span class=\"toc-item-num\">5.5.3&nbsp;&nbsp;</span>Canceling common factors</a></span></li><li><span><a href=\"#Trig-simplification\" data-toc-modified-id=\"Trig-simplification-5.5.4\"><span class=\"toc-item-num\">5.5.4&nbsp;&nbsp;</span>Trig simplification</a></span></li><li><span><a href=\"#Trig-expansions\" data-toc-modified-id=\"Trig-expansions-5.5.5\"><span class=\"toc-item-num\">5.5.5&nbsp;&nbsp;</span>Trig expansions</a></span></li><li><span><a href=\"#Power-simplifications\" data-toc-modified-id=\"Power-simplifications-5.5.6\"><span class=\"toc-item-num\">5.5.6&nbsp;&nbsp;</span>Power simplifications</a></span></li><li><span><a href=\"#Log-simplifications\" data-toc-modified-id=\"Log-simplifications-5.5.7\"><span class=\"toc-item-num\">5.5.7&nbsp;&nbsp;</span>Log simplifications</a></span></li></ul></li></ul></li><li><span><a href=\"#Solving-symbolic-expressions\" data-toc-modified-id=\"Solving-symbolic-expressions-6\"><span class=\"toc-item-num\">6&nbsp;&nbsp;</span>Solving symbolic expressions</a></span><ul class=\"toc-item\"><li><span><a href=\"#Example-quadratic-solution\" data-toc-modified-id=\"Example-quadratic-solution-6.1\"><span class=\"toc-item-num\">6.1&nbsp;&nbsp;</span>Example quadratic solution</a></span></li><li><span><a href=\"#Generalised-quadratic-solution\" data-toc-modified-id=\"Generalised-quadratic-solution-6.2\"><span class=\"toc-item-num\">6.2&nbsp;&nbsp;</span>Generalised quadratic solution</a></span></li><li><span><a href=\"#Quadratic-with-a-complex-solution\" data-toc-modified-id=\"Quadratic-with-a-complex-solution-6.3\"><span class=\"toc-item-num\">6.3&nbsp;&nbsp;</span>Quadratic with a complex solution</a></span></li><li><span><a href=\"#Manipulating-expressions-to-re-arrange-terms\" data-toc-modified-id=\"Manipulating-expressions-to-re-arrange-terms-6.4\"><span class=\"toc-item-num\">6.4&nbsp;&nbsp;</span>Manipulating expressions to re-arrange terms</a></span></li></ul></li><li><span><a href=\"#Solving-equations\" data-toc-modified-id=\"Solving-equations-7\"><span class=\"toc-item-num\">7&nbsp;&nbsp;</span>Solving equations</a></span><ul class=\"toc-item\"><li><span><a href=\"#Rearranging-terms\" data-toc-modified-id=\"Rearranging-terms-7.1\"><span class=\"toc-item-num\">7.1&nbsp;&nbsp;</span>Rearranging terms</a></span></li><li><span><a href=\"#Exponential-example\" data-toc-modified-id=\"Exponential-example-7.2\"><span class=\"toc-item-num\">7.2&nbsp;&nbsp;</span>Exponential example</a></span></li></ul></li><li><span><a href=\"#Solving-systems-of-equations\" data-toc-modified-id=\"Solving-systems-of-equations-8\"><span class=\"toc-item-num\">8&nbsp;&nbsp;</span>Solving systems of equations</a></span><ul class=\"toc-item\"><li><span><a href=\"#Two-linear-equations\" data-toc-modified-id=\"Two-linear-equations-8.1\"><span class=\"toc-item-num\">8.1&nbsp;&nbsp;</span>Two linear equations</a></span></li><li><span><a href=\"#A-linear-and-cubic-system-with-three-point-solutions\" data-toc-modified-id=\"A-linear-and-cubic-system-with-three-point-solutions-8.2\"><span class=\"toc-item-num\">8.2&nbsp;&nbsp;</span>A linear and cubic system with three point-solutions</a></span></li><li><span><a href=\"#A-system-of-equations-with-no-solutions\" data-toc-modified-id=\"A-system-of-equations-with-no-solutions-8.3\"><span class=\"toc-item-num\">8.3&nbsp;&nbsp;</span>A system of equations with no solutions</a></span></li></ul></li><li><span><a href=\"#Limits\" data-toc-modified-id=\"Limits-9\"><span class=\"toc-item-num\">9&nbsp;&nbsp;</span>Limits</a></span><ul class=\"toc-item\"><li><span><a href=\"#Simple-example\" data-toc-modified-id=\"Simple-example-9.1\"><span class=\"toc-item-num\">9.1&nbsp;&nbsp;</span>Simple example</a></span></li><li><span><a href=\"#Limits,-where-the-direction-is-important\" data-toc-modified-id=\"Limits,-where-the-direction-is-important-9.2\"><span class=\"toc-item-num\">9.2&nbsp;&nbsp;</span>Limits, where the direction is important</a></span></li></ul></li><li><span><a href=\"#Calculus\" data-toc-modified-id=\"Calculus-10\"><span class=\"toc-item-num\">10&nbsp;&nbsp;</span>Calculus</a></span><ul class=\"toc-item\"><li><span><a href=\"#Derivatives\" data-toc-modified-id=\"Derivatives-10.1\"><span class=\"toc-item-num\">10.1&nbsp;&nbsp;</span>Derivatives</a></span></li><li><span><a href=\"#Partial-derivatives\" data-toc-modified-id=\"Partial-derivatives-10.2\"><span class=\"toc-item-num\">10.2&nbsp;&nbsp;</span>Partial derivatives</a></span></li><li><span><a href=\"#Integrals\" data-toc-modified-id=\"Integrals-10.3\"><span class=\"toc-item-num\">10.3&nbsp;&nbsp;</span>Integrals</a></span></li><li><span><a href=\"#x-=-sp.Symbol('x')\" data-toc-modified-id=\"x-=-sp.Symbol('x')-10.4\"><span class=\"toc-item-num\">10.4&nbsp;&nbsp;</span>x = sp.Symbol('x')</a></span></li></ul></li></ul></div>"
   ]
  },
  {
   "cell_type": "markdown",
   "id": "fdec8562",
   "metadata": {},
   "source": [
    "## Python set-up\n",
    "\n",
    "Install with pip or conda (as appropriate to your system)"
   ]
  },
  {
   "cell_type": "code",
   "execution_count": 1,
   "id": "02367c29",
   "metadata": {},
   "outputs": [],
   "source": [
    "import sympy as sp"
   ]
  },
  {
   "cell_type": "code",
   "execution_count": 2,
   "id": "d9110a22",
   "metadata": {},
   "outputs": [
    {
     "name": "stdout",
     "output_type": "stream",
     "text": [
      "Sympy version: 1.9\n"
     ]
    }
   ],
   "source": [
    "print('Sympy version:', sp.__version__)"
   ]
  },
  {
   "cell_type": "markdown",
   "id": "6c138908",
   "metadata": {},
   "source": [
    "## Numbers"
   ]
  },
  {
   "cell_type": "markdown",
   "id": "a213d78a",
   "metadata": {},
   "source": [
    "### Integers"
   ]
  },
  {
   "cell_type": "code",
   "execution_count": 3,
   "id": "49d0042d",
   "metadata": {},
   "outputs": [
    {
     "name": "stdout",
     "output_type": "stream",
     "text": [
      "5 <class 'sympy.core.numbers.Integer'>\n"
     ]
    }
   ],
   "source": [
    "y = sp.Integer(5) # this is a sympy integer\n",
    "print(y, type(y)) "
   ]
  },
  {
   "cell_type": "markdown",
   "id": "766ca599",
   "metadata": {},
   "source": [
    "### Floats or Reals"
   ]
  },
  {
   "cell_type": "code",
   "execution_count": 4,
   "id": "f312a5a6",
   "metadata": {},
   "outputs": [
    {
     "name": "stdout",
     "output_type": "stream",
     "text": [
      "0.500000000000000 <class 'sympy.core.numbers.Float'>\n"
     ]
    }
   ],
   "source": [
    "y = sp.Float(1 / 2)\n",
    "print(y, type(y)) # this is a sympy float"
   ]
  },
  {
   "cell_type": "markdown",
   "id": "db13fcd9",
   "metadata": {},
   "source": [
    "### Rationals or Fractions\n",
    "\n",
    "Hint: using Rationals in calculus should be preferred over using floats, as it will yield easire to understand symbolic answers."
   ]
  },
  {
   "cell_type": "code",
   "execution_count": 5,
   "id": "cf96e906",
   "metadata": {},
   "outputs": [
    {
     "data": {
      "text/latex": [
       "$\\displaystyle \\frac{1}{3}$"
      ],
      "text/plain": [
       "1/3"
      ]
     },
     "metadata": {},
     "output_type": "display_data"
    },
    {
     "data": {
      "text/plain": [
       "sympy.core.numbers.Rational"
      ]
     },
     "metadata": {},
     "output_type": "display_data"
    }
   ],
   "source": [
    "y = sp.Rational(1, 3) # this is a sympy Rational\n",
    "display(y, type(y))"
   ]
  },
  {
   "cell_type": "code",
   "execution_count": 6,
   "id": "f999fc06",
   "metadata": {},
   "outputs": [
    {
     "data": {
      "text/latex": [
       "$\\displaystyle 0.3333333333333333333333$"
      ],
      "text/plain": [
       "0.3333333333333333333333"
      ]
     },
     "execution_count": 6,
     "metadata": {},
     "output_type": "execute_result"
    }
   ],
   "source": [
    "# get the numeric value for an expression to n decimal places\n",
    "y.n(22)"
   ]
  },
  {
   "cell_type": "code",
   "execution_count": 7,
   "id": "5b708fec",
   "metadata": {},
   "outputs": [
    {
     "data": {
      "text/latex": [
       "$\\displaystyle \\frac{13}{12}$"
      ],
      "text/plain": [
       "13/12"
      ]
     },
     "execution_count": 7,
     "metadata": {},
     "output_type": "execute_result"
    }
   ],
   "source": [
    "# we can do the usual maths with Rationals\n",
    "sp.Rational(3, 4) + sp.Rational(1, 3)"
   ]
  },
  {
   "cell_type": "markdown",
   "id": "e6cec1be",
   "metadata": {},
   "source": [
    "### Surds"
   ]
  },
  {
   "cell_type": "code",
   "execution_count": 8,
   "id": "e5def4c7",
   "metadata": {},
   "outputs": [
    {
     "data": {
      "text/latex": [
       "$\\displaystyle 2 \\sqrt{2}$"
      ],
      "text/plain": [
       "2*sqrt(2)"
      ]
     },
     "execution_count": 8,
     "metadata": {},
     "output_type": "execute_result"
    }
   ],
   "source": [
    "sp.sqrt(8)"
   ]
  },
  {
   "cell_type": "code",
   "execution_count": 9,
   "id": "7a2c58db",
   "metadata": {},
   "outputs": [
    {
     "data": {
      "text/latex": [
       "$\\displaystyle 2 \\sqrt{2}$"
      ],
      "text/plain": [
       "2*sqrt(2)"
      ]
     },
     "execution_count": 9,
     "metadata": {},
     "output_type": "execute_result"
    }
   ],
   "source": [
    "sp.sqrt(8)"
   ]
  },
  {
   "cell_type": "code",
   "execution_count": 10,
   "id": "f8d9c326",
   "metadata": {},
   "outputs": [
    {
     "data": {
      "text/latex": [
       "$\\displaystyle 2.82842712474619$"
      ],
      "text/plain": [
       "2.82842712474619"
      ]
     },
     "execution_count": 10,
     "metadata": {},
     "output_type": "execute_result"
    }
   ],
   "source": [
    "sp.N(_) # numberic value for the last calculation"
   ]
  },
  {
   "cell_type": "code",
   "execution_count": 11,
   "id": "9e83e685",
   "metadata": {},
   "outputs": [
    {
     "data": {
      "text/latex": [
       "$\\displaystyle \\sqrt[3]{3}$"
      ],
      "text/plain": [
       "3**(1/3)"
      ]
     },
     "execution_count": 11,
     "metadata": {},
     "output_type": "execute_result"
    }
   ],
   "source": [
    "sp.cbrt(3) # cube roots"
   ]
  },
  {
   "cell_type": "code",
   "execution_count": 12,
   "id": "582efeae",
   "metadata": {},
   "outputs": [
    {
     "data": {
      "text/latex": [
       "$\\displaystyle \\sqrt[3]{2}$"
      ],
      "text/plain": [
       "2**(1/3)"
      ]
     },
     "execution_count": 12,
     "metadata": {},
     "output_type": "execute_result"
    }
   ],
   "source": [
    "sp.real_root(4, 6) # nth real root"
   ]
  },
  {
   "cell_type": "code",
   "execution_count": 13,
   "id": "4d45081c",
   "metadata": {},
   "outputs": [
    {
     "data": {
      "text/latex": [
       "$\\displaystyle - \\frac{\\sqrt{2} i}{2}$"
      ],
      "text/plain": [
       "-sqrt(2)*I/2"
      ]
     },
     "execution_count": 13,
     "metadata": {},
     "output_type": "execute_result"
    }
   ],
   "source": [
    "sp.Integer(-2) ** sp.Rational(-1, 2)"
   ]
  },
  {
   "cell_type": "markdown",
   "id": "355cfedb",
   "metadata": {},
   "source": [
    "### Useful constants"
   ]
  },
  {
   "cell_type": "code",
   "execution_count": 14,
   "id": "f37ef42e",
   "metadata": {},
   "outputs": [
    {
     "data": {
      "text/latex": [
       "$\\displaystyle \\pi$"
      ],
      "text/plain": [
       "pi"
      ]
     },
     "execution_count": 14,
     "metadata": {},
     "output_type": "execute_result"
    }
   ],
   "source": [
    "sp.pi # pi for 𝜋"
   ]
  },
  {
   "cell_type": "code",
   "execution_count": 15,
   "id": "fd936376",
   "metadata": {},
   "outputs": [
    {
     "data": {
      "text/latex": [
       "$\\displaystyle e$"
      ],
      "text/plain": [
       "E"
      ]
     },
     "execution_count": 15,
     "metadata": {},
     "output_type": "execute_result"
    }
   ],
   "source": [
    "sp.E # capital E for the base of the natural logarithm"
   ]
  },
  {
   "cell_type": "code",
   "execution_count": 16,
   "id": "7ae2e894",
   "metadata": {},
   "outputs": [
    {
     "data": {
      "text/latex": [
       "$\\displaystyle i$"
      ],
      "text/plain": [
       "I"
      ]
     },
     "execution_count": 16,
     "metadata": {},
     "output_type": "execute_result"
    }
   ],
   "source": [
    "sp.I # capital I for the square root of -1"
   ]
  },
  {
   "cell_type": "code",
   "execution_count": 17,
   "id": "1f673442",
   "metadata": {},
   "outputs": [
    {
     "data": {
      "text/latex": [
       "$\\displaystyle -1$"
      ],
      "text/plain": [
       "-1"
      ]
     },
     "execution_count": 17,
     "metadata": {},
     "output_type": "execute_result"
    }
   ],
   "source": [
    "sp.I ** 2"
   ]
  },
  {
   "cell_type": "code",
   "execution_count": 18,
   "id": "7f05c6fc",
   "metadata": {},
   "outputs": [
    {
     "data": {
      "text/latex": [
       "$\\displaystyle 0$"
      ],
      "text/plain": [
       "0"
      ]
     },
     "execution_count": 18,
     "metadata": {},
     "output_type": "execute_result"
    }
   ],
   "source": [
    "sp.E ** (sp.I * sp.pi) + 1 # Thank you Euler"
   ]
  },
  {
   "cell_type": "code",
   "execution_count": 19,
   "id": "f0d50157",
   "metadata": {},
   "outputs": [
    {
     "data": {
      "text/latex": [
       "$\\displaystyle \\infty$"
      ],
      "text/plain": [
       "oo"
      ]
     },
     "execution_count": 19,
     "metadata": {},
     "output_type": "execute_result"
    }
   ],
   "source": [
    "sp.oo # oo (two lower-case letters o) for infinity"
   ]
  },
  {
   "cell_type": "code",
   "execution_count": 20,
   "id": "dfa01dac",
   "metadata": {},
   "outputs": [
    {
     "data": {
      "text/latex": [
       "$\\displaystyle -\\infty$"
      ],
      "text/plain": [
       "-oo"
      ]
     },
     "execution_count": 20,
     "metadata": {},
     "output_type": "execute_result"
    }
   ],
   "source": [
    "-sp.oo # negative infinity"
   ]
  },
  {
   "cell_type": "markdown",
   "id": "048decd4",
   "metadata": {},
   "source": [
    "### Complex numbers"
   ]
  },
  {
   "cell_type": "code",
   "execution_count": 21,
   "id": "5aafcbec",
   "metadata": {},
   "outputs": [
    {
     "data": {
      "text/latex": [
       "$\\displaystyle 3 + 4 i$"
      ],
      "text/plain": [
       "3 + 4*I"
      ]
     },
     "execution_count": 21,
     "metadata": {},
     "output_type": "execute_result"
    }
   ],
   "source": [
    "z = 3 + 4 * sp.I # complex numbers\n",
    "z"
   ]
  },
  {
   "cell_type": "code",
   "execution_count": 22,
   "id": "d2a333cf",
   "metadata": {},
   "outputs": [
    {
     "data": {
      "text/plain": [
       "(3, 4)"
      ]
     },
     "execution_count": 22,
     "metadata": {},
     "output_type": "execute_result"
    }
   ],
   "source": [
    "sp.re(z), sp.im(z) # get the real and imaginary parts of z"
   ]
  },
  {
   "cell_type": "code",
   "execution_count": 23,
   "id": "9604a4ea",
   "metadata": {},
   "outputs": [
    {
     "data": {
      "text/latex": [
       "$\\displaystyle 5$"
      ],
      "text/plain": [
       "5"
      ]
     },
     "execution_count": 23,
     "metadata": {},
     "output_type": "execute_result"
    }
   ],
   "source": [
    "sp.Abs(z) # the Absolute value of a complex number"
   ]
  },
  {
   "cell_type": "markdown",
   "id": "95cbcfc9",
   "metadata": {},
   "source": [
    "### Miscellaneous "
   ]
  },
  {
   "cell_type": "code",
   "execution_count": 24,
   "id": "edee88b8",
   "metadata": {},
   "outputs": [
    {
     "data": {
      "text/plain": [
       "11"
      ]
     },
     "execution_count": 24,
     "metadata": {},
     "output_type": "execute_result"
    }
   ],
   "source": [
    "sp.prime(5) # get the nth prime number"
   ]
  },
  {
   "cell_type": "code",
   "execution_count": 25,
   "id": "cd6317f4",
   "metadata": {},
   "outputs": [
    {
     "data": {
      "text/latex": [
       "$\\displaystyle 3.1416$"
      ],
      "text/plain": [
       "3.1416"
      ]
     },
     "execution_count": 25,
     "metadata": {},
     "output_type": "execute_result"
    }
   ],
   "source": [
    "sp.pi.evalf(5) # evaluate to a python floating with n decimal places"
   ]
  },
  {
   "cell_type": "markdown",
   "id": "3c17f27b",
   "metadata": {},
   "source": [
    "## Define symbolic variables\n",
    "\n",
    "You must define symbols before using them with sympy (particularly on the right hand side of a python assignment, or in an argument to a sympy function). \n",
    "\n",
    "To avoid confusion, match the name of the symbol to the python variable name."
   ]
  },
  {
   "cell_type": "markdown",
   "id": "13b661f3",
   "metadata": {},
   "source": [
    "### Import symbols from sympy.abc"
   ]
  },
  {
   "cell_type": "code",
   "execution_count": 26,
   "id": "4e381dd1",
   "metadata": {},
   "outputs": [
    {
     "data": {
      "text/latex": [
       "$\\displaystyle a$"
      ],
      "text/plain": [
       "a"
      ]
     },
     "execution_count": 26,
     "metadata": {},
     "output_type": "execute_result"
    }
   ],
   "source": [
    "# The quick and easy way to get English and Greek letter names\n",
    "from sympy.abc import a, b, c, x, n, alpha, beta, gamma, delta\n",
    "a"
   ]
  },
  {
   "cell_type": "code",
   "execution_count": 27,
   "id": "7dc989f3",
   "metadata": {},
   "outputs": [
    {
     "data": {
      "text/latex": [
       "$\\displaystyle \\delta$"
      ],
      "text/plain": [
       "delta"
      ]
     },
     "execution_count": 27,
     "metadata": {},
     "output_type": "execute_result"
    }
   ],
   "source": [
    "delta"
   ]
  },
  {
   "cell_type": "markdown",
   "id": "37849006",
   "metadata": {},
   "source": [
    "### Define  one symbol at a time"
   ]
  },
  {
   "cell_type": "code",
   "execution_count": 28,
   "id": "58896f99",
   "metadata": {},
   "outputs": [],
   "source": [
    "a = sp.Symbol('a') # defining a symbol, one at a time"
   ]
  },
  {
   "cell_type": "markdown",
   "id": "0ba37e50",
   "metadata": {},
   "source": [
    "### Define multiple symbols at a time"
   ]
  },
  {
   "cell_type": "code",
   "execution_count": 29,
   "id": "5dff8c56",
   "metadata": {},
   "outputs": [],
   "source": [
    "x, y, z = sp.symbols('x y z') # define multiple symbols at a time"
   ]
  },
  {
   "cell_type": "markdown",
   "id": "16f799c8",
   "metadata": {},
   "source": [
    "### Set the attributes of a symbol"
   ]
  },
  {
   "cell_type": "code",
   "execution_count": 30,
   "id": "48e3c8f2",
   "metadata": {},
   "outputs": [
    {
     "data": {
      "text/plain": [
       "{'integer': True,\n",
       " 'algebraic': True,\n",
       " 'rational': True,\n",
       " 'finite': True,\n",
       " 'imaginary': False,\n",
       " 'extended_real': True,\n",
       " 'complex': True,\n",
       " 'transcendental': False,\n",
       " 'hermitian': True,\n",
       " 'commutative': True,\n",
       " 'noninteger': False,\n",
       " 'infinite': False,\n",
       " 'irrational': False,\n",
       " 'real': True,\n",
       " 'positive': True,\n",
       " 'nonzero': True,\n",
       " 'extended_positive': True,\n",
       " 'extended_nonzero': True,\n",
       " 'extended_nonpositive': False,\n",
       " 'nonnegative': True,\n",
       " 'zero': False,\n",
       " 'negative': False,\n",
       " 'nonpositive': False,\n",
       " 'extended_nonnegative': True,\n",
       " 'extended_negative': False}"
      ]
     },
     "execution_count": 30,
     "metadata": {},
     "output_type": "execute_result"
    }
   ],
   "source": [
    "# you can set attributes for a symbol\n",
    "i, j, k = sp.symbols('i, j, k', integer=True, positive=True)\n",
    "i.assumptions0"
   ]
  },
  {
   "cell_type": "code",
   "execution_count": 31,
   "id": "e03747f3",
   "metadata": {},
   "outputs": [
    {
     "data": {
      "text/plain": [
       "{'function': True, 'commutative': True}"
      ]
     },
     "execution_count": 31,
     "metadata": {},
     "output_type": "execute_result"
    }
   ],
   "source": [
    "# you can identify that a symbol is itself a function\n",
    "f, g, h = sp.symbols('f g h', function=True)\n",
    "f.assumptions0"
   ]
  },
  {
   "cell_type": "markdown",
   "id": "72340b76",
   "metadata": {},
   "source": [
    "## Symbolic functions"
   ]
  },
  {
   "cell_type": "markdown",
   "id": "d424298b",
   "metadata": {},
   "source": [
    "### Trig functions"
   ]
  },
  {
   "cell_type": "code",
   "execution_count": 32,
   "id": "e3b3037b",
   "metadata": {},
   "outputs": [
    {
     "data": {
      "text/latex": [
       "$\\displaystyle \\sin{\\left(\\theta \\right)}$"
      ],
      "text/plain": [
       "sin(theta)"
      ]
     },
     "execution_count": 32,
     "metadata": {},
     "output_type": "execute_result"
    }
   ],
   "source": [
    "from sympy.abc import theta\n",
    "sp.sin(theta) # also cos, tan, "
   ]
  },
  {
   "cell_type": "code",
   "execution_count": 33,
   "id": "84eb91e0",
   "metadata": {},
   "outputs": [
    {
     "data": {
      "text/latex": [
       "$\\displaystyle \\frac{\\pi}{2}$"
      ],
      "text/plain": [
       "pi/2"
      ]
     },
     "execution_count": 33,
     "metadata": {},
     "output_type": "execute_result"
    }
   ],
   "source": [
    "sp.asin(1) # also acos, atan"
   ]
  },
  {
   "cell_type": "code",
   "execution_count": 34,
   "id": "98ad66cd",
   "metadata": {},
   "outputs": [
    {
     "data": {
      "text/latex": [
       "$\\displaystyle \\sec{\\left(\\theta \\right)}$"
      ],
      "text/plain": [
       "sec(theta)"
      ]
     },
     "execution_count": 34,
     "metadata": {},
     "output_type": "execute_result"
    }
   ],
   "source": [
    "# secant example (which is the reciprocol of cos(𝜃))\n",
    "sp.sec(theta) # also csc and cot for cosecant and cotangent"
   ]
  },
  {
   "cell_type": "markdown",
   "id": "8e152fb1",
   "metadata": {},
   "source": [
    "### Exponential and logarithmic functions"
   ]
  },
  {
   "cell_type": "code",
   "execution_count": 35,
   "id": "034843c8",
   "metadata": {},
   "outputs": [
    {
     "data": {
      "text/latex": [
       "$\\displaystyle e^{x}$"
      ],
      "text/plain": [
       "exp(x)"
      ]
     },
     "execution_count": 35,
     "metadata": {},
     "output_type": "execute_result"
    }
   ],
   "source": [
    "sp.E ** x"
   ]
  },
  {
   "cell_type": "code",
   "execution_count": 36,
   "id": "bb37a2bc",
   "metadata": {},
   "outputs": [
    {
     "data": {
      "text/latex": [
       "$\\displaystyle \\log{\\left(x \\right)}$"
      ],
      "text/plain": [
       "log(x)"
      ]
     },
     "execution_count": 36,
     "metadata": {},
     "output_type": "execute_result"
    }
   ],
   "source": [
    "sp.log(x) # log to the base of e"
   ]
  },
  {
   "cell_type": "code",
   "execution_count": 37,
   "id": "20c45921",
   "metadata": {},
   "outputs": [
    {
     "data": {
      "text/latex": [
       "$\\displaystyle \\frac{\\log{\\left(x \\right)}}{\\log{\\left(10 \\right)}}$"
      ],
      "text/plain": [
       "log(x)/log(10)"
      ]
     },
     "execution_count": 37,
     "metadata": {},
     "output_type": "execute_result"
    }
   ],
   "source": [
    "sp.log(x, 10) # log to the base of 10"
   ]
  },
  {
   "cell_type": "markdown",
   "id": "0a449f26",
   "metadata": {},
   "source": [
    "## Manipulating expressions"
   ]
  },
  {
   "cell_type": "markdown",
   "id": "49ef0926",
   "metadata": {},
   "source": [
    "### Creating an expression"
   ]
  },
  {
   "cell_type": "code",
   "execution_count": 38,
   "id": "bc77f356",
   "metadata": {},
   "outputs": [
    {
     "data": {
      "text/latex": [
       "$\\displaystyle x^{2} + 2 x$"
      ],
      "text/plain": [
       "x**2 + 2*x"
      ]
     },
     "execution_count": 38,
     "metadata": {},
     "output_type": "execute_result"
    }
   ],
   "source": [
    "# sympy will collect simple terms automatically\n",
    "x = sp.Symbol('x')# We start by defining the symbols used in the expression\n",
    "\n",
    "y = x + x + x * x # Note: this assigns a sympy expression to the python variable y\n",
    "                  #       This does not create an equation.\n",
    "\n",
    "y"
   ]
  },
  {
   "cell_type": "markdown",
   "id": "dd61d38a",
   "metadata": {},
   "source": [
    "### Creating expressions from strings\n",
    "\n",
    "Note: the string should be a valid python string"
   ]
  },
  {
   "cell_type": "code",
   "execution_count": 39,
   "id": "17ef103a",
   "metadata": {},
   "outputs": [
    {
     "data": {
      "text/latex": [
       "$\\displaystyle m^{2} + 2 m - 8$"
      ],
      "text/plain": [
       "m**2 + 2*m - 8"
      ]
     },
     "execution_count": 39,
     "metadata": {},
     "output_type": "execute_result"
    }
   ],
   "source": [
    "y = sp.simplify('m ** 2 + 2 * m - 8') \n",
    "y"
   ]
  },
  {
   "cell_type": "markdown",
   "id": "a186af2a",
   "metadata": {},
   "source": [
    "### Substituting values into an expression"
   ]
  },
  {
   "cell_type": "code",
   "execution_count": 40,
   "id": "44046e5e",
   "metadata": {},
   "outputs": [
    {
     "data": {
      "text/latex": [
       "$\\displaystyle x^{2} + y$"
      ],
      "text/plain": [
       "x**2 + y"
      ]
     },
     "execution_count": 40,
     "metadata": {},
     "output_type": "execute_result"
    }
   ],
   "source": [
    "x, y = sp.symbols('x y')\n",
    "f = x ** 2 + y\n",
    "f"
   ]
  },
  {
   "cell_type": "code",
   "execution_count": 41,
   "id": "69e55c4d",
   "metadata": {},
   "outputs": [
    {
     "data": {
      "text/latex": [
       "$\\displaystyle y + 16$"
      ],
      "text/plain": [
       "y + 16"
      ]
     },
     "execution_count": 41,
     "metadata": {},
     "output_type": "execute_result"
    }
   ],
   "source": [
    "f.subs(x, 4)"
   ]
  },
  {
   "cell_type": "code",
   "execution_count": 42,
   "id": "ade478dd",
   "metadata": {},
   "outputs": [
    {
     "data": {
      "text/latex": [
       "$\\displaystyle 0$"
      ],
      "text/plain": [
       "0"
      ]
     },
     "execution_count": 42,
     "metadata": {},
     "output_type": "execute_result"
    }
   ],
   "source": [
    "y = sp.simplify('m ** 2 + 2 * m - 8') \n",
    "# Note: we have not defined 'm' in our\n",
    "# python environment. So we need to use \n",
    "# quotes to do the substiution.\n",
    "y.subs('m', 2)"
   ]
  },
  {
   "cell_type": "markdown",
   "id": "b1584ba0",
   "metadata": {},
   "source": [
    "### Get quadratic factors"
   ]
  },
  {
   "cell_type": "code",
   "execution_count": 43,
   "id": "b25589e3",
   "metadata": {},
   "outputs": [
    {
     "data": {
      "text/latex": [
       "$\\displaystyle x^{2} - 1$"
      ],
      "text/plain": [
       "x**2 - 1"
      ]
     },
     "execution_count": 43,
     "metadata": {},
     "output_type": "execute_result"
    }
   ],
   "source": [
    "x = sp.Symbol('x')\n",
    "y = x ** 2 - 1\n",
    "y"
   ]
  },
  {
   "cell_type": "code",
   "execution_count": 44,
   "id": "9f49a236",
   "metadata": {},
   "outputs": [
    {
     "data": {
      "text/latex": [
       "$\\displaystyle \\left(x - 1\\right) \\left(x + 1\\right)$"
      ],
      "text/plain": [
       "(x - 1)*(x + 1)"
      ]
     },
     "execution_count": 44,
     "metadata": {},
     "output_type": "execute_result"
    }
   ],
   "source": [
    "y = y.factor()\n",
    "y"
   ]
  },
  {
   "cell_type": "markdown",
   "id": "041b3771",
   "metadata": {},
   "source": [
    "### Simplifying expressions\n",
    "\n",
    "Note: Often the .simplify() method is all you need. However, simplifying with the .simplify() method is not well defined. You may need to call a specific simplification method that is well defined to achieve a desired result. \n",
    "\n",
    "Note: beyond some minimal simplification, sympy does not automatically simplify your expressions. \n",
    "\n",
    "Note: this is not a complete list of simplification functions"
   ]
  },
  {
   "cell_type": "code",
   "execution_count": 45,
   "id": "c8685eb9",
   "metadata": {},
   "outputs": [
    {
     "data": {
      "text/latex": [
       "$\\displaystyle x^{2} - 4$"
      ],
      "text/plain": [
       "x**2 - 4"
      ]
     },
     "execution_count": 45,
     "metadata": {},
     "output_type": "execute_result"
    }
   ],
   "source": [
    "# Often the .simplify() method is all you need ...\n",
    "x = sp.Symbol('x')\n",
    "((x + 2) * (x - 2)).simplify()"
   ]
  },
  {
   "cell_type": "markdown",
   "id": "e7d0f901",
   "metadata": {},
   "source": [
    "#### Expanding out"
   ]
  },
  {
   "cell_type": "code",
   "execution_count": 46,
   "id": "0150ac56",
   "metadata": {},
   "outputs": [
    {
     "data": {
      "text/latex": [
       "$\\displaystyle \\left(x - 1\\right) \\left(x + 1\\right)$"
      ],
      "text/plain": [
       "(x - 1)*(x + 1)"
      ]
     },
     "execution_count": 46,
     "metadata": {},
     "output_type": "execute_result"
    }
   ],
   "source": [
    "x = sp.Symbol('x')\n",
    "y = (x + 1) * (x - 1)\n",
    "y"
   ]
  },
  {
   "cell_type": "code",
   "execution_count": 47,
   "id": "c3b5ae2e",
   "metadata": {},
   "outputs": [
    {
     "data": {
      "text/latex": [
       "$\\displaystyle x^{2} - 1$"
      ],
      "text/plain": [
       "x**2 - 1"
      ]
     },
     "execution_count": 47,
     "metadata": {},
     "output_type": "execute_result"
    }
   ],
   "source": [
    "y.expand() # for polynomials, this is the opposite to .factor()"
   ]
  },
  {
   "cell_type": "markdown",
   "id": "a16424f9",
   "metadata": {},
   "source": [
    "#### Collecting terms"
   ]
  },
  {
   "cell_type": "code",
   "execution_count": 48,
   "id": "360b2c1c",
   "metadata": {},
   "outputs": [
    {
     "data": {
      "text/latex": [
       "$\\displaystyle 2 x^{3} + x^{2} z + 3 x^{2} + x y$"
      ],
      "text/plain": [
       "2*x**3 + x**2*z + 3*x**2 + x*y"
      ]
     },
     "execution_count": 48,
     "metadata": {},
     "output_type": "execute_result"
    }
   ],
   "source": [
    "x, y, z = sp.symbols('x y z')\n",
    "expr = x * y + 3 * x ** 2 + 2 * x ** 3 + z * x ** 2\n",
    "expr"
   ]
  },
  {
   "cell_type": "code",
   "execution_count": 49,
   "id": "522978b5",
   "metadata": {},
   "outputs": [
    {
     "data": {
      "text/latex": [
       "$\\displaystyle 2 x^{3} + x^{2} \\left(z + 3\\right) + x y$"
      ],
      "text/plain": [
       "2*x**3 + x**2*(z + 3) + x*y"
      ]
     },
     "execution_count": 49,
     "metadata": {},
     "output_type": "execute_result"
    }
   ],
   "source": [
    "expr.collect(x)"
   ]
  },
  {
   "cell_type": "markdown",
   "id": "539a8235",
   "metadata": {},
   "source": [
    "#### Canceling common factors"
   ]
  },
  {
   "cell_type": "code",
   "execution_count": 50,
   "id": "3889694c",
   "metadata": {},
   "outputs": [
    {
     "data": {
      "text/latex": [
       "$\\displaystyle \\frac{x^{2} - 1}{x - 1}$"
      ],
      "text/plain": [
       "(x**2 - 1)/(x - 1)"
      ]
     },
     "execution_count": 50,
     "metadata": {},
     "output_type": "execute_result"
    }
   ],
   "source": [
    "x = sp.Symbol('x')\n",
    "y = (x**2 - 1) / (x - 1)\n",
    "y"
   ]
  },
  {
   "cell_type": "code",
   "execution_count": 51,
   "id": "039ff317",
   "metadata": {},
   "outputs": [
    {
     "data": {
      "text/latex": [
       "$\\displaystyle x + 1$"
      ],
      "text/plain": [
       "x + 1"
      ]
     },
     "execution_count": 51,
     "metadata": {},
     "output_type": "execute_result"
    }
   ],
   "source": [
    "y.cancel()"
   ]
  },
  {
   "cell_type": "markdown",
   "id": "603cbf0d",
   "metadata": {},
   "source": [
    "#### Trig simplification"
   ]
  },
  {
   "cell_type": "code",
   "execution_count": 52,
   "id": "b6125769",
   "metadata": {},
   "outputs": [
    {
     "data": {
      "text/latex": [
       "$\\displaystyle \\frac{\\tan^{2}{\\left(x \\right)}}{\\sec^{2}{\\left(x \\right)}}$"
      ],
      "text/plain": [
       "tan(x)**2/sec(x)**2"
      ]
     },
     "execution_count": 52,
     "metadata": {},
     "output_type": "execute_result"
    }
   ],
   "source": [
    "x = sp.Symbol('x')\n",
    "y = (sp.tan(x) ** 2) / ( sp.sec(x) ** 2 )\n",
    "y"
   ]
  },
  {
   "cell_type": "code",
   "execution_count": 53,
   "id": "624f5130",
   "metadata": {},
   "outputs": [
    {
     "data": {
      "text/latex": [
       "$\\displaystyle \\sin^{2}{\\left(x \\right)}$"
      ],
      "text/plain": [
       "sin(x)**2"
      ]
     },
     "execution_count": 53,
     "metadata": {},
     "output_type": "execute_result"
    }
   ],
   "source": [
    "y.trigsimp()"
   ]
  },
  {
   "cell_type": "markdown",
   "id": "c3b29899",
   "metadata": {},
   "source": [
    "#### Trig expansions"
   ]
  },
  {
   "cell_type": "code",
   "execution_count": 54,
   "id": "8601bbc6",
   "metadata": {},
   "outputs": [
    {
     "data": {
      "text/latex": [
       "$\\displaystyle \\sin{\\left(x + y \\right)}$"
      ],
      "text/plain": [
       "sin(x + y)"
      ]
     },
     "execution_count": 54,
     "metadata": {},
     "output_type": "execute_result"
    }
   ],
   "source": [
    "x, y = sp.symbols('x y')\n",
    "f = sp.sin(x + y)\n",
    "f"
   ]
  },
  {
   "cell_type": "code",
   "execution_count": 55,
   "id": "7ebbf615",
   "metadata": {},
   "outputs": [
    {
     "data": {
      "text/latex": [
       "$\\displaystyle \\sin{\\left(x \\right)} \\cos{\\left(y \\right)} + \\sin{\\left(y \\right)} \\cos{\\left(x \\right)}$"
      ],
      "text/plain": [
       "sin(x)*cos(y) + sin(y)*cos(x)"
      ]
     },
     "execution_count": 55,
     "metadata": {},
     "output_type": "execute_result"
    }
   ],
   "source": [
    "sp.expand_trig(f)"
   ]
  },
  {
   "cell_type": "markdown",
   "id": "8b0e81a5",
   "metadata": {},
   "source": [
    "#### Power simplifications"
   ]
  },
  {
   "cell_type": "code",
   "execution_count": 56,
   "id": "1f9b7076",
   "metadata": {},
   "outputs": [
    {
     "data": {
      "text/latex": [
       "$\\displaystyle x^{a} x^{b}$"
      ],
      "text/plain": [
       "x**a*x**b"
      ]
     },
     "execution_count": 56,
     "metadata": {},
     "output_type": "execute_result"
    }
   ],
   "source": [
    "x, a, b = sp.symbols('x a b')\n",
    "y = x ** a * x ** b\n",
    "y"
   ]
  },
  {
   "cell_type": "code",
   "execution_count": 57,
   "id": "8d942d6a",
   "metadata": {},
   "outputs": [
    {
     "data": {
      "text/latex": [
       "$\\displaystyle x^{a + b}$"
      ],
      "text/plain": [
       "x**(a + b)"
      ]
     },
     "execution_count": 57,
     "metadata": {},
     "output_type": "execute_result"
    }
   ],
   "source": [
    "y.powsimp()"
   ]
  },
  {
   "cell_type": "markdown",
   "id": "4c26750f",
   "metadata": {},
   "source": [
    "#### Log simplifications"
   ]
  },
  {
   "cell_type": "code",
   "execution_count": 58,
   "id": "6732fcc7",
   "metadata": {},
   "outputs": [
    {
     "data": {
      "text/latex": [
       "$\\displaystyle \\log{\\left(a b \\right)}$"
      ],
      "text/plain": [
       "log(a*b)"
      ]
     },
     "execution_count": 58,
     "metadata": {},
     "output_type": "execute_result"
    }
   ],
   "source": [
    "# Note: positive constraint in the next line ...\n",
    "a, b = sp.symbols('a b', positive=True)\n",
    "y = sp.log(a * b)\n",
    "y"
   ]
  },
  {
   "cell_type": "code",
   "execution_count": 59,
   "id": "4c14ae86",
   "metadata": {},
   "outputs": [
    {
     "data": {
      "text/latex": [
       "$\\displaystyle \\log{\\left(a \\right)} + \\log{\\left(b \\right)}$"
      ],
      "text/plain": [
       "log(a) + log(b)"
      ]
     },
     "execution_count": 59,
     "metadata": {},
     "output_type": "execute_result"
    }
   ],
   "source": [
    "sp.expand_log(y)"
   ]
  },
  {
   "cell_type": "code",
   "execution_count": 60,
   "id": "9dc6702b",
   "metadata": {},
   "outputs": [
    {
     "data": {
      "text/latex": [
       "$\\displaystyle \\log{\\left(\\frac{a}{b} \\right)}$"
      ],
      "text/plain": [
       "log(a/b)"
      ]
     },
     "execution_count": 60,
     "metadata": {},
     "output_type": "execute_result"
    }
   ],
   "source": [
    "y = sp.log(a / b)\n",
    "y"
   ]
  },
  {
   "cell_type": "code",
   "execution_count": 61,
   "id": "ef7849f2",
   "metadata": {},
   "outputs": [
    {
     "data": {
      "text/latex": [
       "$\\displaystyle \\log{\\left(a \\right)} - \\log{\\left(b \\right)}$"
      ],
      "text/plain": [
       "log(a) - log(b)"
      ]
     },
     "execution_count": 61,
     "metadata": {},
     "output_type": "execute_result"
    }
   ],
   "source": [
    "sp.expand_log(y)"
   ]
  },
  {
   "cell_type": "markdown",
   "id": "e892f5e9",
   "metadata": {},
   "source": [
    "## Solving symbolic expressions\n",
    "\n",
    "Solving these expressions assumes they are equations that are equal to zero. "
   ]
  },
  {
   "cell_type": "markdown",
   "id": "64dfc549",
   "metadata": {},
   "source": [
    "### Example quadratic solution"
   ]
  },
  {
   "cell_type": "code",
   "execution_count": 62,
   "id": "400d5493",
   "metadata": {},
   "outputs": [
    {
     "data": {
      "text/plain": [
       "[-1, 1]"
      ]
     },
     "execution_count": 62,
     "metadata": {},
     "output_type": "execute_result"
    }
   ],
   "source": [
    "# solve a quadratic equation\n",
    "x = sp.Symbol('x')\n",
    "sp.solve(x ** 2 - 1, x) # solve expression in nrespect of x\n",
    "                        # yields two possible solutions"
   ]
  },
  {
   "cell_type": "markdown",
   "id": "a65d3fe3",
   "metadata": {},
   "source": [
    "### Generalised quadratic solution"
   ]
  },
  {
   "cell_type": "code",
   "execution_count": 63,
   "id": "541e4042",
   "metadata": {},
   "outputs": [],
   "source": [
    "# More generally ...\n",
    "a, b, c, x = sp.symbols('a b c x')\n",
    "y = a * x ** 2 + b * x + c # standard quadratic equation\n",
    "solution = sp.solve(y, x) # yields a list of two possible solutions"
   ]
  },
  {
   "cell_type": "code",
   "execution_count": 64,
   "id": "fb743bc5",
   "metadata": {},
   "outputs": [
    {
     "data": {
      "text/latex": [
       "$\\displaystyle \\frac{- b + \\sqrt{- 4 a c + b^{2}}}{2 a}$"
      ],
      "text/plain": [
       "(-b + sqrt(-4*a*c + b**2))/(2*a)"
      ]
     },
     "execution_count": 64,
     "metadata": {},
     "output_type": "execute_result"
    }
   ],
   "source": [
    "solution[0]"
   ]
  },
  {
   "cell_type": "code",
   "execution_count": 65,
   "id": "32942076",
   "metadata": {},
   "outputs": [
    {
     "data": {
      "text/latex": [
       "$\\displaystyle - \\frac{b + \\sqrt{- 4 a c + b^{2}}}{2 a}$"
      ],
      "text/plain": [
       "-(b + sqrt(-4*a*c + b**2))/(2*a)"
      ]
     },
     "execution_count": 65,
     "metadata": {},
     "output_type": "execute_result"
    }
   ],
   "source": [
    "solution[1]"
   ]
  },
  {
   "cell_type": "markdown",
   "id": "67beafd0",
   "metadata": {},
   "source": [
    "### Quadratic with a complex solution"
   ]
  },
  {
   "cell_type": "code",
   "execution_count": 66,
   "id": "b743db4b",
   "metadata": {},
   "outputs": [
    {
     "data": {
      "text/plain": [
       "[-1 - 3*I, -1 + 3*I]"
      ]
     },
     "execution_count": 66,
     "metadata": {},
     "output_type": "execute_result"
    }
   ],
   "source": [
    "# and if the only solutions are complex ...\n",
    "solution = sp.solve(x ** 2 + 2 * x + 10, x) \n",
    "solution # yields a list of two possible solutions"
   ]
  },
  {
   "cell_type": "code",
   "execution_count": 67,
   "id": "112a0ca9",
   "metadata": {},
   "outputs": [
    {
     "data": {
      "text/latex": [
       "$\\displaystyle -1 - 3 i$"
      ],
      "text/plain": [
       "-1 - 3*I"
      ]
     },
     "execution_count": 67,
     "metadata": {},
     "output_type": "execute_result"
    }
   ],
   "source": [
    "solution[0]"
   ]
  },
  {
   "cell_type": "code",
   "execution_count": 68,
   "id": "f308a091",
   "metadata": {},
   "outputs": [
    {
     "data": {
      "text/latex": [
       "$\\displaystyle -1 + 3 i$"
      ],
      "text/plain": [
       "-1 + 3*I"
      ]
     },
     "execution_count": 68,
     "metadata": {},
     "output_type": "execute_result"
    }
   ],
   "source": [
    "solution[1]"
   ]
  },
  {
   "cell_type": "markdown",
   "id": "bf94ffed",
   "metadata": {},
   "source": [
    "### Manipulating expressions to re-arrange terms"
   ]
  },
  {
   "cell_type": "code",
   "execution_count": 69,
   "id": "cd7920d8",
   "metadata": {},
   "outputs": [
    {
     "data": {
      "text/latex": [
       "$\\displaystyle \\frac{x^{2} + 3}{2 x}$"
      ],
      "text/plain": [
       "(x**2 + 3)/(2*x)"
      ]
     },
     "execution_count": 69,
     "metadata": {},
     "output_type": "execute_result"
    }
   ],
   "source": [
    "# rearrange terms ...\n",
    "x, y = sp.symbols('x y')\n",
    "f = x ** 2 - 2 * x * y + 3\n",
    "sp.solve(f, y)[0] # solve for y = ...; yeilds one possible solution"
   ]
  },
  {
   "cell_type": "markdown",
   "id": "4c173fa6",
   "metadata": {},
   "source": [
    "## Solving equations\n",
    "\n",
    "Note: we use `sp.Eq(left_expr, right_expr)` to create an equation in sympy"
   ]
  },
  {
   "cell_type": "markdown",
   "id": "b2644a7b",
   "metadata": {},
   "source": [
    "### Rearranging terms"
   ]
  },
  {
   "cell_type": "code",
   "execution_count": 70,
   "id": "c976cf61",
   "metadata": {},
   "outputs": [
    {
     "data": {
      "text/latex": [
       "$\\displaystyle x^{2} + 2 x y - 1 = 0$"
      ],
      "text/plain": [
       "Eq(x**2 + 2*x*y - 1, 0)"
      ]
     },
     "execution_count": 70,
     "metadata": {},
     "output_type": "execute_result"
    }
   ],
   "source": [
    "x, y = sp.symbols('x y')\n",
    "eq = sp.Eq(x ** 2 + 2 * x * y - 1, 0)\n",
    "eq # this is out equation"
   ]
  },
  {
   "cell_type": "code",
   "execution_count": 71,
   "id": "99092414",
   "metadata": {},
   "outputs": [
    {
     "data": {
      "text/plain": [
       "[(1 - x**2)/(2*x)]"
      ]
     },
     "execution_count": 71,
     "metadata": {},
     "output_type": "execute_result"
    }
   ],
   "source": [
    "solution = sp.solve(eq, y)\n",
    "solution # yields a list of solutions, \n",
    "# in this case a list of 1 ..."
   ]
  },
  {
   "cell_type": "code",
   "execution_count": 72,
   "id": "5e044048",
   "metadata": {},
   "outputs": [
    {
     "data": {
      "text/latex": [
       "$\\displaystyle y = \\frac{1 - x^{2}}{2 x}$"
      ],
      "text/plain": [
       "Eq(y, (1 - x**2)/(2*x))"
      ]
     },
     "execution_count": 72,
     "metadata": {},
     "output_type": "execute_result"
    }
   ],
   "source": [
    "# Which we can turn back into an equation\n",
    "sp.Eq(y, solution[0])"
   ]
  },
  {
   "cell_type": "markdown",
   "id": "d8f4f018",
   "metadata": {},
   "source": [
    "### Exponential example"
   ]
  },
  {
   "cell_type": "code",
   "execution_count": 73,
   "id": "0add0239",
   "metadata": {},
   "outputs": [
    {
     "data": {
      "text/latex": [
       "$\\displaystyle a^{b} = e^{x}$"
      ],
      "text/plain": [
       "Eq(a**b, exp(x))"
      ]
     },
     "execution_count": 73,
     "metadata": {},
     "output_type": "execute_result"
    }
   ],
   "source": [
    "a, b, x = sp.symbols('a b x')\n",
    "eq = sp.Eq(a ** b, sp.E ** x)\n",
    "eq"
   ]
  },
  {
   "cell_type": "code",
   "execution_count": 74,
   "id": "1f224ad7",
   "metadata": {},
   "outputs": [
    {
     "data": {
      "text/latex": [
       "$\\displaystyle x = \\log{\\left(a^{b} \\right)}$"
      ],
      "text/plain": [
       "Eq(x, log(a**b))"
      ]
     },
     "execution_count": 74,
     "metadata": {},
     "output_type": "execute_result"
    }
   ],
   "source": [
    "sp.Eq(x, sp.solve(eq, x)[0])"
   ]
  },
  {
   "cell_type": "markdown",
   "id": "dd5c45be",
   "metadata": {},
   "source": [
    "## Solving systems of equations"
   ]
  },
  {
   "cell_type": "markdown",
   "id": "d8bcfcc5",
   "metadata": {},
   "source": [
    "### Two linear equations"
   ]
  },
  {
   "cell_type": "code",
   "execution_count": 75,
   "id": "42d2b9fd",
   "metadata": {},
   "outputs": [
    {
     "data": {
      "text/latex": [
       "$\\displaystyle y = 3 x + 2$"
      ],
      "text/plain": [
       "Eq(y, 3*x + 2)"
      ]
     },
     "execution_count": 75,
     "metadata": {},
     "output_type": "execute_result"
    }
   ],
   "source": [
    "x, y = sp.symbols('x y')\n",
    "eq1 = sp.Eq(y, 3 * x + 2) # an equation\n",
    "eq1"
   ]
  },
  {
   "cell_type": "code",
   "execution_count": 76,
   "id": "81e01777",
   "metadata": {},
   "outputs": [
    {
     "data": {
      "text/latex": [
       "$\\displaystyle y = - 2 x - 1$"
      ],
      "text/plain": [
       "Eq(y, -2*x - 1)"
      ]
     },
     "execution_count": 76,
     "metadata": {},
     "output_type": "execute_result"
    }
   ],
   "source": [
    "eq2 = sp.Eq(y, -2 * x - 1)\n",
    "eq2"
   ]
  },
  {
   "cell_type": "code",
   "execution_count": 77,
   "id": "7877ca80",
   "metadata": {},
   "outputs": [
    {
     "data": {
      "text/plain": [
       "{x: -3/5, y: 1/5}"
      ]
     },
     "execution_count": 77,
     "metadata": {},
     "output_type": "execute_result"
    }
   ],
   "source": [
    "sp.solve([eq1, eq2], [x, y])"
   ]
  },
  {
   "cell_type": "markdown",
   "id": "a802d8bd",
   "metadata": {},
   "source": [
    "### A linear and cubic system with three point-solutions"
   ]
  },
  {
   "cell_type": "code",
   "execution_count": 78,
   "id": "b7dd80ba",
   "metadata": {},
   "outputs": [
    {
     "data": {
      "text/plain": [
       "[(0, 0), (-sqrt(10), -sqrt(10)), (sqrt(10), sqrt(10))]"
      ]
     },
     "execution_count": 78,
     "metadata": {},
     "output_type": "execute_result"
    }
   ],
   "source": [
    "eq1 = sp.Eq(y, x)\n",
    "eq2 = sp.Eq(y, sp.Rational(1, 10) * x ** 3)\n",
    "sp.solve([eq1, eq2], [x, y]) "
   ]
  },
  {
   "cell_type": "markdown",
   "id": "c8a30933",
   "metadata": {},
   "source": [
    "### A system of equations with no solutions"
   ]
  },
  {
   "cell_type": "code",
   "execution_count": 79,
   "id": "476c7fe2",
   "metadata": {},
   "outputs": [
    {
     "data": {
      "text/plain": [
       "[]"
      ]
     },
     "execution_count": 79,
     "metadata": {},
     "output_type": "execute_result"
    }
   ],
   "source": [
    "eq1 = sp.Eq(y, x)\n",
    "eq2 = sp.Eq(y, x + 1)\n",
    "sp.solve([eq1, eq2], [x, y]) "
   ]
  },
  {
   "cell_type": "markdown",
   "id": "bb73c52f",
   "metadata": {},
   "source": [
    "## Limits"
   ]
  },
  {
   "cell_type": "markdown",
   "id": "22569c60",
   "metadata": {},
   "source": [
    "### Simple example"
   ]
  },
  {
   "cell_type": "code",
   "execution_count": 80,
   "id": "1bad9c22",
   "metadata": {},
   "outputs": [
    {
     "data": {
      "text/latex": [
       "$\\displaystyle \\sin{\\left(\\frac{x}{2} + \\sin{\\left(x \\right)} \\right)}$"
      ],
      "text/plain": [
       "sin(x/2 + sin(x))"
      ]
     },
     "execution_count": 80,
     "metadata": {},
     "output_type": "execute_result"
    }
   ],
   "source": [
    "x = sp.Symbol('x')\n",
    "expr = sp.sin(x/2 + sp.sin(x))\n",
    "expr"
   ]
  },
  {
   "cell_type": "code",
   "execution_count": 81,
   "id": "606084b3",
   "metadata": {},
   "outputs": [
    {
     "data": {
      "text/latex": [
       "$\\displaystyle 1$"
      ],
      "text/plain": [
       "1"
      ]
     },
     "execution_count": 81,
     "metadata": {},
     "output_type": "execute_result"
    }
   ],
   "source": [
    "sp.limit(expr, x, sp.pi) # using the global limit() function"
   ]
  },
  {
   "cell_type": "code",
   "execution_count": 82,
   "id": "d7598b6a",
   "metadata": {},
   "outputs": [
    {
     "data": {
      "text/latex": [
       "$\\displaystyle 1$"
      ],
      "text/plain": [
       "1"
      ]
     },
     "execution_count": 82,
     "metadata": {},
     "output_type": "execute_result"
    }
   ],
   "source": [
    "expr.limit(x, sp.pi) # using the .limit() method"
   ]
  },
  {
   "cell_type": "markdown",
   "id": "228a7ff5",
   "metadata": {},
   "source": [
    "### Limits, where the direction is important"
   ]
  },
  {
   "cell_type": "code",
   "execution_count": 83,
   "id": "ad7d764f",
   "metadata": {},
   "outputs": [
    {
     "data": {
      "text/latex": [
       "$\\displaystyle \\frac{1}{x}$"
      ],
      "text/plain": [
       "1/x"
      ]
     },
     "execution_count": 83,
     "metadata": {},
     "output_type": "execute_result"
    }
   ],
   "source": [
    "x = sp.Symbol('x')\n",
    "expr = 1 / x\n",
    "expr"
   ]
  },
  {
   "cell_type": "code",
   "execution_count": 84,
   "id": "d6185fda",
   "metadata": {},
   "outputs": [
    {
     "data": {
      "text/latex": [
       "$\\displaystyle \\infty$"
      ],
      "text/plain": [
       "oo"
      ]
     },
     "execution_count": 84,
     "metadata": {},
     "output_type": "execute_result"
    }
   ],
   "source": [
    "expr.limit(x, 0, dir='+') # from the positve direction"
   ]
  },
  {
   "cell_type": "code",
   "execution_count": 85,
   "id": "1d773b14",
   "metadata": {},
   "outputs": [
    {
     "data": {
      "text/latex": [
       "$\\displaystyle -\\infty$"
      ],
      "text/plain": [
       "-oo"
      ]
     },
     "execution_count": 85,
     "metadata": {},
     "output_type": "execute_result"
    }
   ],
   "source": [
    "expr.limit(x, 0, dir='-') # from the negative direction"
   ]
  },
  {
   "cell_type": "markdown",
   "id": "395fa472",
   "metadata": {},
   "source": [
    "## Calculus"
   ]
  },
  {
   "cell_type": "markdown",
   "id": "dc52c6c4",
   "metadata": {},
   "source": [
    "### Derivatives"
   ]
  },
  {
   "cell_type": "code",
   "execution_count": 86,
   "id": "3123816b",
   "metadata": {},
   "outputs": [
    {
     "data": {
      "text/latex": [
       "$\\displaystyle 2 x + 2$"
      ],
      "text/plain": [
       "2*x + 2"
      ]
     },
     "execution_count": 86,
     "metadata": {},
     "output_type": "execute_result"
    }
   ],
   "source": [
    "x = sp.Symbol('x')\n",
    "(x ** 2 + 2 * x).diff(x) # differentiate with respect to x"
   ]
  },
  {
   "cell_type": "code",
   "execution_count": 87,
   "id": "bf9e3eb9",
   "metadata": {},
   "outputs": [
    {
     "data": {
      "text/latex": [
       "$\\displaystyle \\cos{\\left(\\theta \\right)}$"
      ],
      "text/plain": [
       "cos(theta)"
      ]
     },
     "execution_count": 87,
     "metadata": {},
     "output_type": "execute_result"
    }
   ],
   "source": [
    "from sympy.abc import theta\n",
    "sp.sin(theta).diff(theta) # derivative of sin(𝜃)"
   ]
  },
  {
   "cell_type": "code",
   "execution_count": 88,
   "id": "3c085d7d",
   "metadata": {},
   "outputs": [
    {
     "data": {
      "text/latex": [
       "$\\displaystyle \\sin^{2}{\\left(\\theta \\right)} - \\cos^{2}{\\left(\\theta \\right)}$"
      ],
      "text/plain": [
       "sin(theta)**2 - cos(theta)**2"
      ]
     },
     "execution_count": 88,
     "metadata": {},
     "output_type": "execute_result"
    }
   ],
   "source": [
    "expr = sp.sin(theta) ** 2 - sp.cos(theta) ** 2\n",
    "expr"
   ]
  },
  {
   "cell_type": "code",
   "execution_count": 89,
   "id": "01c3dbf7",
   "metadata": {},
   "outputs": [
    {
     "data": {
      "text/latex": [
       "$\\displaystyle 4 \\sin{\\left(\\theta \\right)} \\cos{\\left(\\theta \\right)}$"
      ],
      "text/plain": [
       "4*sin(theta)*cos(theta)"
      ]
     },
     "execution_count": 89,
     "metadata": {},
     "output_type": "execute_result"
    }
   ],
   "source": [
    "expr.diff(theta)"
   ]
  },
  {
   "cell_type": "markdown",
   "id": "170d5cf9",
   "metadata": {},
   "source": [
    "### Partial derivatives"
   ]
  },
  {
   "cell_type": "code",
   "execution_count": 90,
   "id": "eea4d333",
   "metadata": {},
   "outputs": [
    {
     "data": {
      "text/latex": [
       "$\\displaystyle x^{2} + 3 x y$"
      ],
      "text/plain": [
       "x**2 + 3*x*y"
      ]
     },
     "execution_count": 90,
     "metadata": {},
     "output_type": "execute_result"
    }
   ],
   "source": [
    "x, y = sp.symbols('x y')\n",
    "g = x ** 2 + 3 * x * y\n",
    "g"
   ]
  },
  {
   "cell_type": "code",
   "execution_count": 91,
   "id": "a68b30c6",
   "metadata": {},
   "outputs": [
    {
     "data": {
      "text/latex": [
       "$\\displaystyle 2 x + 3 y$"
      ],
      "text/plain": [
       "2*x + 3*y"
      ]
     },
     "execution_count": 91,
     "metadata": {},
     "output_type": "execute_result"
    }
   ],
   "source": [
    "g.diff(x) # partial - dg/dx"
   ]
  },
  {
   "cell_type": "code",
   "execution_count": 92,
   "id": "ca037588",
   "metadata": {},
   "outputs": [
    {
     "data": {
      "text/latex": [
       "$\\displaystyle 3 x$"
      ],
      "text/plain": [
       "3*x"
      ]
     },
     "execution_count": 92,
     "metadata": {},
     "output_type": "execute_result"
    }
   ],
   "source": [
    "g.diff(y) # partial - dg/dy"
   ]
  },
  {
   "cell_type": "markdown",
   "id": "c67b1f13",
   "metadata": {},
   "source": [
    "### Integrals\n",
    "\n",
    "Caution: sympy does not give the \"+ c\" for the anti-derivatives."
   ]
  },
  {
   "cell_type": "code",
   "execution_count": 94,
   "id": "72475ccc",
   "metadata": {},
   "outputs": [
    {
     "data": {
      "text/latex": [
       "$\\displaystyle \\frac{x^{3}}{3} + x^{2}$"
      ],
      "text/plain": [
       "x**3/3 + x**2"
      ]
     },
     "execution_count": 94,
     "metadata": {},
     "output_type": "execute_result"
    }
   ],
   "source": [
    "x = sp.Symbol('x')\n",
    "y = x ** 2 + 2 * x\n",
    "y.integrate(x) # integreate in respect of x"
   ]
  },
  {
   "cell_type": "code",
   "execution_count": null,
   "id": "2e20c2b8",
   "metadata": {},
   "outputs": [],
   "source": []
  }
 ],
 "metadata": {
  "kernelspec": {
   "display_name": "Python 3 (ipykernel)",
   "language": "python",
   "name": "python3"
  },
  "language_info": {
   "codemirror_mode": {
    "name": "ipython",
    "version": 3
   },
   "file_extension": ".py",
   "mimetype": "text/x-python",
   "name": "python",
   "nbconvert_exporter": "python",
   "pygments_lexer": "ipython3",
   "version": "3.9.7"
  },
  "toc": {
   "base_numbering": 1,
   "nav_menu": {},
   "number_sections": true,
   "sideBar": true,
   "skip_h1_title": true,
   "title_cell": "Table of Contents",
   "title_sidebar": "Contents",
   "toc_cell": true,
   "toc_position": {},
   "toc_section_display": true,
   "toc_window_display": true
  },
  "varInspector": {
   "cols": {
    "lenName": 16,
    "lenType": 16,
    "lenVar": 40
   },
   "kernels_config": {
    "python": {
     "delete_cmd_postfix": "",
     "delete_cmd_prefix": "del ",
     "library": "var_list.py",
     "varRefreshCmd": "print(var_dic_list())"
    },
    "r": {
     "delete_cmd_postfix": ") ",
     "delete_cmd_prefix": "rm(",
     "library": "var_list.r",
     "varRefreshCmd": "cat(var_dic_list()) "
    }
   },
   "types_to_exclude": [
    "module",
    "function",
    "builtin_function_or_method",
    "instance",
    "_Feature"
   ],
   "window_display": false
  }
 },
 "nbformat": 4,
 "nbformat_minor": 5
}
