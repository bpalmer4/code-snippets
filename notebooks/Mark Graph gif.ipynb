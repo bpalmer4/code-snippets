{
 "cells": [
  {
   "cell_type": "markdown",
   "id": "1abf1d8e",
   "metadata": {},
   "source": [
    "# Animated GIF - Mark Graph\n",
    "Used for Mastodon account"
   ]
  },
  {
   "cell_type": "markdown",
   "id": "21d460e7",
   "metadata": {
    "toc": true
   },
   "source": [
    "<h1>Table of Contents<span class=\"tocSkip\"></span></h1>\n",
    "<div class=\"toc\"><ul class=\"toc-item\"><li><span><a href=\"#Python-set-up\" data-toc-modified-id=\"Python-set-up-1\"><span class=\"toc-item-num\">1&nbsp;&nbsp;</span>Python set-up</a></span><ul class=\"toc-item\"><li><span><a href=\"#Key-GIF-parameters\" data-toc-modified-id=\"Key-GIF-parameters-1.1\"><span class=\"toc-item-num\">1.1&nbsp;&nbsp;</span>Key GIF parameters</a></span></li></ul></li><li><span><a href=\"#Create-a-sequence-that-speeds-up-then-slows-down.\" data-toc-modified-id=\"Create-a-sequence-that-speeds-up-then-slows-down.-2\"><span class=\"toc-item-num\">2&nbsp;&nbsp;</span>Create a sequence that speeds up then slows down.</a></span></li><li><span><a href=\"#Plot-this-monstrosity\" data-toc-modified-id=\"Plot-this-monstrosity-3\"><span class=\"toc-item-num\">3&nbsp;&nbsp;</span>Plot this monstrosity</a></span></li><li><span><a href=\"#Finished\" data-toc-modified-id=\"Finished-4\"><span class=\"toc-item-num\">4&nbsp;&nbsp;</span>Finished</a></span></li></ul></div>"
   ]
  },
  {
   "cell_type": "markdown",
   "id": "0f78aff0",
   "metadata": {},
   "source": [
    "## Python set-up"
   ]
  },
  {
   "cell_type": "code",
   "execution_count": 1,
   "id": "6acaad48",
   "metadata": {},
   "outputs": [],
   "source": [
    "import numpy as np\n",
    "import pandas as pd\n",
    "import matplotlib.pyplot as plt\n",
    "from matplotlib.animation import PillowWriter\n",
    "from pathlib import Path"
   ]
  },
  {
   "cell_type": "markdown",
   "id": "4ea7436b",
   "metadata": {},
   "source": [
    "### Key GIF parameters"
   ]
  },
  {
   "cell_type": "code",
   "execution_count": 2,
   "id": "32fe78e2",
   "metadata": {},
   "outputs": [
    {
     "name": "stdout",
     "output_type": "stream",
     "text": [
      "Frame time in hundredths of seconds: 3\n"
     ]
    }
   ],
   "source": [
    "n_frames = 45\n",
    "fps = 30\n",
    "delay = 15 # seconds\n",
    "print(f'Frame time in hundredths of seconds: {100/fps:.0f}')"
   ]
  },
  {
   "cell_type": "code",
   "execution_count": 3,
   "id": "586dfced",
   "metadata": {},
   "outputs": [
    {
     "data": {
      "text/plain": [
       "PosixPath('images')"
      ]
     },
     "execution_count": 3,
     "metadata": {},
     "output_type": "execute_result"
    }
   ],
   "source": [
    "def make_path(path):\n",
    "    p = Path(path)\n",
    "    p.mkdir(parents=True, exist_ok=True)\n",
    "    return p \n",
    "    \n",
    "\n",
    "FRAME_DIR = './frames/'\n",
    "p = make_path(FRAME_DIR)\n",
    "for f in p.glob(\"*\"):\n",
    "    if f.is_file():\n",
    "        f.unlink()\n",
    "        \n",
    "IMAGE_DIR = './images/'\n",
    "make_path(IMAGE_DIR)"
   ]
  },
  {
   "cell_type": "markdown",
   "id": "a94ac553",
   "metadata": {},
   "source": [
    "## Create a sequence that speeds up then slows down. "
   ]
  },
  {
   "cell_type": "code",
   "execution_count": 4,
   "id": "ffdbc56b",
   "metadata": {},
   "outputs": [],
   "source": [
    "points = np.linspace(0.0, np.pi, n_frames, False)\n",
    "change = np.cumsum(np.sin(points))\n",
    "cycle = (change / change[-1] * np.pi) # radians\n",
    "#cycle"
   ]
  },
  {
   "cell_type": "code",
   "execution_count": 5,
   "id": "cb8ea19a",
   "metadata": {},
   "outputs": [],
   "source": [
    "# demonstrate the slow start - speed up - then slowing down\n",
    "#np.diff(cycle)"
   ]
  },
  {
   "cell_type": "code",
   "execution_count": 6,
   "id": "f463c050",
   "metadata": {},
   "outputs": [
    {
     "data": {
      "text/plain": [
       "array([0.22439948, 0.67319843, 1.12199738, 1.57079633])"
      ]
     },
     "execution_count": 6,
     "metadata": {},
     "output_type": "execute_result"
    }
   ],
   "source": [
    "n_colours = 4\n",
    "starting_points = np.linspace(np.pi/14.0, np.pi/2.0, n_colours, True)\n",
    "starting_points"
   ]
  },
  {
   "cell_type": "code",
   "execution_count": 7,
   "id": "2f86cbf8",
   "metadata": {},
   "outputs": [],
   "source": [
    "# Create a frame matrix - each row is a new frame in the animation\n",
    "frames = pd.DataFrame(np.array([cycle] * 4)).add(starting_points, axis=0)\n",
    "frames = np.sin(frames.sub(np.pi).where(frames > np.pi, other=frames).T)\n",
    "#frames"
   ]
  },
  {
   "cell_type": "markdown",
   "id": "d92a793d",
   "metadata": {},
   "source": [
    "## Plot this monstrosity"
   ]
  },
  {
   "cell_type": "code",
   "execution_count": 8,
   "id": "bae65eda",
   "metadata": {},
   "outputs": [],
   "source": [
    "dpi=100\n",
    "length = 4\n",
    "MAX_PIXELS = 400\n",
    "assert dpi * length == MAX_PIXELS\n",
    "colors = ['tomato', 'orange', 'mediumseagreen', 'dodgerblue']"
   ]
  },
  {
   "cell_type": "code",
   "execution_count": 9,
   "id": "5888bdb0",
   "metadata": {},
   "outputs": [],
   "source": [
    "def animate(i, ax, use_length=True):\n",
    "    data = frames.loc[i]\n",
    "    data.plot.bar(color=colors, width=0.85, ax=ax)\n",
    "    ax.xaxis.set_ticks_position('none') \n",
    "    ax.yaxis.set_ticks_position('none') \n",
    "    ax.set_ylim([0, 1.03])\n",
    "    ax.set_xticks([]) \n",
    "    ax.set_yticks([])\n",
    "    ax.spines[['right', 'top']].set_visible(False)\n",
    "    ax.spines[['left', 'bottom']].set_linewidth(4)\n",
    "    , forward=True\n",
    "    \n",
    "    if use_length:\n",
    "        ax.figure.set_size_inches(length, length)\n",
    "    ax.figure.tight_layout(pad=3)"
   ]
  },
  {
   "cell_type": "code",
   "execution_count": 10,
   "id": "412d4f9b",
   "metadata": {},
   "outputs": [],
   "source": [
    "with plt.xkcd():\n",
    "    fig,ax = plt.subplots()\n",
    "    fig.set_size_inches(1, 1, forward=True)\n",
    "    writer = PillowWriter(fps=fps)\n",
    "    with writer.saving(fig, f\"{IMAGE_DIR}mark_graph.gif\", dpi):\n",
    "    \n",
    "        # movement\n",
    "        for i in range(0, n_frames):\n",
    "            animate(i, ax)\n",
    "            writer.grab_frame()\n",
    "            ax.clear()\n",
    "        \n",
    "        # stationary - KLUDGE \n",
    "        for i in range(0, (fps * delay)):\n",
    "            animate(n_frames-1, ax)\n",
    "            writer.grab_frame()\n",
    "            ax.clear()\n",
    "        \n",
    "    plt.close()"
   ]
  },
  {
   "cell_type": "code",
   "execution_count": 11,
   "id": "65c2b5c5",
   "metadata": {},
   "outputs": [],
   "source": [
    "# create frames for an external app\n",
    "# such as https://ezgif.com/maker\n",
    "\n",
    "if False:\n",
    "\n",
    "    with plt.xkcd():\n",
    "        for i in range(0, n_frames):\n",
    "            fig,ax = plt.subplots()\n",
    "            animate(i, ax)\n",
    "            file_name = f'{FRAME_DIR}{i:05d}.png'\n",
    "            fig.savefig(file_name, dpi=dpi)\n",
    "            plt.close()\n",
    "    \n",
    "        fig, ax = plt.subplots()\n",
    "        animate(0, ax)\n",
    "        for i in range(n_frames, n_frames + (fps * delay)):\n",
    "            file_name = f'{FRAME_DIR}{i:05d}.png'\n",
    "            fig.savefig(file_name, dpi=dpi)\n",
    "        plt.close()"
   ]
  },
  {
   "cell_type": "code",
   "execution_count": 12,
   "id": "fdba0345",
   "metadata": {},
   "outputs": [
    {
     "name": "stderr",
     "output_type": "stream",
     "text": [
      "findfont: Font family 'xkcd Script' not found.\n",
      "findfont: Font family 'Humor Sans' not found.\n",
      "findfont: Font family 'Comic Neue' not found.\n",
      "findfont: Font family 'xkcd Script' not found.\n",
      "findfont: Font family 'Humor Sans' not found.\n",
      "findfont: Font family 'Comic Neue' not found.\n",
      "findfont: Font family 'xkcd Script' not found.\n",
      "findfont: Font family 'Humor Sans' not found.\n",
      "findfont: Font family 'Comic Neue' not found.\n",
      "findfont: Font family 'xkcd Script' not found.\n",
      "findfont: Font family 'Humor Sans' not found.\n",
      "findfont: Font family 'Comic Neue' not found.\n",
      "findfont: Font family 'xkcd Script' not found.\n",
      "findfont: Font family 'Humor Sans' not found.\n",
      "findfont: Font family 'Comic Neue' not found.\n"
     ]
    }
   ],
   "source": [
    "# Make a banner image\n",
    "\n",
    "with plt.xkcd():\n",
    "    n = 2\n",
    "    fig, ax = plt.subplots(1, n, figsize=(10,5), dpi=100)\n",
    "\n",
    "    for k in range(0, n-1):\n",
    "        ax[k].xaxis.set_ticks_position('none') \n",
    "        ax[k].yaxis.set_ticks_position('none') \n",
    "        ax[k].set_xticks([]) \n",
    "        ax[k].set_yticks([])\n",
    "        ax[k].spines[['left', 'right', 'top', 'bottom']].set_visible(False)\n",
    "        ax[k].set_xlim(0, 1)\n",
    "        ax[k].set_ylim(0, 1)\n",
    "\n",
    "    ax[0].text(x=1, y=0.5, s='mark', va='bottom', ha='right', size=80)\n",
    "    ax[0].text(x=1, y=0.5, s='graph', va='top', ha='right', size=80)\n",
    "\n",
    "    animate(1, ax[n-1], use_length=False)\n",
    "    ax[n-1].spines[['left', 'bottom']].set_linewidth(3)\n",
    "    fig.tight_layout(pad=7, h_pad=0, w_pad=1)\n",
    "    fig.savefig(f'{IMAGE_DIR}mark_graph.png')\n",
    "    plt.close()"
   ]
  },
  {
   "cell_type": "markdown",
   "id": "89bbd00c",
   "metadata": {},
   "source": [
    "## Finished"
   ]
  },
  {
   "cell_type": "code",
   "execution_count": 13,
   "id": "e6fcbe8c",
   "metadata": {},
   "outputs": [
    {
     "name": "stdout",
     "output_type": "stream",
     "text": [
      "Done\n"
     ]
    }
   ],
   "source": [
    "print('Done')"
   ]
  }
 ],
 "metadata": {
  "kernelspec": {
   "display_name": "Python 3 (ipykernel)",
   "language": "python",
   "name": "python3"
  },
  "language_info": {
   "codemirror_mode": {
    "name": "ipython",
    "version": 3
   },
   "file_extension": ".py",
   "mimetype": "text/x-python",
   "name": "python",
   "nbconvert_exporter": "python",
   "pygments_lexer": "ipython3",
   "version": "3.10.8"
  },
  "toc": {
   "base_numbering": 1,
   "nav_menu": {},
   "number_sections": true,
   "sideBar": true,
   "skip_h1_title": true,
   "title_cell": "Table of Contents",
   "title_sidebar": "Contents",
   "toc_cell": true,
   "toc_position": {},
   "toc_section_display": true,
   "toc_window_display": true
  }
 },
 "nbformat": 4,
 "nbformat_minor": 5
}
