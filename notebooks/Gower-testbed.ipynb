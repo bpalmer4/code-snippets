{
 "cells": [
  {
   "cell_type": "markdown",
   "id": "1caa7a37",
   "metadata": {},
   "source": [
    "# Augmented Gower Dissimilarity Matrix\n",
    "\n",
    "A notebook for development and testing\n",
    "\n",
    "http://citeseerx.ist.psu.edu/viewdoc/download?doi=10.1.1.412.4155&rep=rep1&type=pdf - noting that Gower's original paper was for a similarity matrix, whereas we are coding for a dissimilarity matrix. "
   ]
  },
  {
   "cell_type": "markdown",
   "id": "9f2e87c6",
   "metadata": {
    "toc": true
   },
   "source": [
    "<h1>Table of Contents<span class=\"tocSkip\"></span></h1>\n",
    "<div class=\"toc\"><ul class=\"toc-item\"><li><span><a href=\"#Usual-imports\" data-toc-modified-id=\"Usual-imports-1\"><span class=\"toc-item-num\">1&nbsp;&nbsp;</span>Usual imports</a></span></li><li><span><a href=\"#Functions-to-calculate-an-augmented-Gower-dissimilarity-matrix\" data-toc-modified-id=\"Functions-to-calculate-an-augmented-Gower-dissimilarity-matrix-2\"><span class=\"toc-item-num\">2&nbsp;&nbsp;</span>Functions to calculate an augmented Gower dissimilarity matrix</a></span></li><li><span><a href=\"#Test-my-version-against-the-official-version\" data-toc-modified-id=\"Test-my-version-against-the-official-version-3\"><span class=\"toc-item-num\">3&nbsp;&nbsp;</span>Test my version against the official version</a></span></li><li><span><a href=\"#Test-for-sets\" data-toc-modified-id=\"Test-for-sets-4\"><span class=\"toc-item-num\">4&nbsp;&nbsp;</span>Test for sets</a></span></li><li><span><a href=\"#Further-test:-numeric,-categorical-and-sets\" data-toc-modified-id=\"Further-test:-numeric,-categorical-and-sets-5\"><span class=\"toc-item-num\">5&nbsp;&nbsp;</span>Further test: numeric, categorical and sets</a></span></li><li><span><a href=\"#Test-specified-weights\" data-toc-modified-id=\"Test-specified-weights-6\"><span class=\"toc-item-num\">6&nbsp;&nbsp;</span>Test specified weights</a></span></li><li><span><a href=\"#A-failure-case---non-specified-set-column-treated-as-categorical\" data-toc-modified-id=\"A-failure-case---non-specified-set-column-treated-as-categorical-7\"><span class=\"toc-item-num\">7&nbsp;&nbsp;</span>A failure case - non-specified set column treated as categorical</a></span></li></ul></div>"
   ]
  },
  {
   "cell_type": "markdown",
   "id": "153fc12b",
   "metadata": {},
   "source": [
    "## Usual imports"
   ]
  },
  {
   "cell_type": "code",
   "execution_count": 1,
   "id": "f76fb715",
   "metadata": {
    "ExecuteTime": {
     "end_time": "2021-07-03T01:51:37.465038Z",
     "start_time": "2021-07-03T01:51:37.034331Z"
    }
   },
   "outputs": [],
   "source": [
    "import pandas as pd\n",
    "from pandas.api.types import is_numeric_dtype, is_string_dtype, is_categorical_dtype\n",
    "import numpy as np\n",
    "from typing import List, Dict, Optional, Union"
   ]
  },
  {
   "cell_type": "code",
   "execution_count": 2,
   "id": "d2de9f71",
   "metadata": {
    "ExecuteTime": {
     "end_time": "2021-07-03T01:51:37.495803Z",
     "start_time": "2021-07-03T01:51:37.466784Z"
    }
   },
   "outputs": [],
   "source": [
    "# for checking against the cannonical function\n",
    "import gower "
   ]
  },
  {
   "cell_type": "markdown",
   "id": "b87c29a5",
   "metadata": {},
   "source": [
    "## Functions to calculate an augmented Gower dissimilarity matrix\n",
    "\n",
    "In addition to the standard Gower dissimilarity matrix for numeric and categorical data, this function calculates a difference between python set data. Set data is useful for comparing bundles: how many in common versus those not in common. The other augmentation is that feature columns can be weighted as more important in terms of the overall difference between the observations. \n",
    "\n",
    "The approach is as follows:\n",
    "1. For every feature (or column) $k$ in our dataset, we calculate a dissimilatiy matrix $D_{i j k}$:\n",
    "    1.    ___for numeric features___: where the column in our dataset is numeric data,\n",
    "    We calculate: $$D_{i j k} = \\frac{\\lvert k_i - k_j \\rvert}{R_k} * weight_k$$ where $k_i$ is the ith value in feature $k$, and $k_j$ is the jth value in feature $k$. $R_k$ is the range of feature $k$. If a weight for $k$ is not specified, it is assumed to be 1.\n",
    "\n",
    "    1.    ___for categorical features___: \n",
    "        1.    We set $D_{i j k} = weight_k$ if the the two individuals (rows) at $i$, and $j$ __disagree__ in respect of feature $k$. If a weight for $k$ is not specified, it is assumed to be 1.\n",
    "        1.    Conversely, we set $D_{i j k} = 0$ if the the two individuals (rows) at $i$, and $j$ in respect of feature $k$ __agree__.\n",
    "\n",
    "    1.    ___for set features___: we use the cardinality of the intersection and union of the various sets as follows to calculate the dissimilarity matrix $$D_{i j k} = \\left[ 1 - \\left( \\frac{sizeof(k_i \\cap k_j)}{sizeof(k_i \\cup k_j)} \\right) \\right] * weight_k$$ If a weight for feature $k$ is not specified, it is assumed to be 1.\n",
    "\n",
    "\n",
    "2. We sum the $K$ dissimilarity matrices. Then we take the summed matrix and divide each matrix element by the total sum of the weights, which yields the weighted average dissimilarity across all features in our dataset.\n",
    "$$D_{i j} = \\frac{\\sum\\limits^{K}_{k=1} D_{i j k}}{\\sum\\limits^{K}_{k=1} weight_k}$$"
   ]
  },
  {
   "cell_type": "code",
   "execution_count": 3,
   "id": "f6a297a3",
   "metadata": {
    "ExecuteTime": {
     "end_time": "2021-07-03T01:51:37.507422Z",
     "start_time": "2021-07-03T01:51:37.498004Z"
    }
   },
   "outputs": [],
   "source": [
    "# --- private supporting functions\n",
    "\n",
    "def _update_dissimilarity_num(dissimilarity, col_series, comparator, d_col, weight):\n",
    "    # Note: col_series is a numpy array\n",
    "    dissimilarity[d_col] += (\n",
    "        abs(col_series - comparator) \n",
    "        / (col_series.max() - col_series.min())\n",
    "    ) * weight\n",
    "    return dissimilarity\n",
    "\n",
    "\n",
    "def _update_dissimilarity_cat(dissimilarity, col_series, comparator, d_col, weight):\n",
    "    # Note: col_series is a numpy array\n",
    "    dissimilarity[d_col] += (col_series != comparator).astype(int) * weight\n",
    "    return dissimilarity\n",
    "\n",
    "\n",
    "def _update_dissimilarity_set(dissimilarity, col_series, comparator, d_col, weight):\n",
    "    # Note: col_series is a pandas Series\n",
    "    similarity = (\n",
    "        col_series.apply(lambda x: len(x.intersection(comparator)) \n",
    "                                   / len(x.union(comparator)))\n",
    "        )\n",
    "    dissimilarity[d_col] += (1.0 - similarity) * weight\n",
    "    return dissimilarity\n",
    "\n",
    "\n",
    "def _select_approach_for_col(col, set_cols, col_series):\n",
    "    dist_func = None\n",
    "    if col in set_cols:\n",
    "        dist_func = _update_dissimilarity_set\n",
    "    elif is_numeric_dtype(col_series):\n",
    "        dist_func = _update_dissimilarity_num\n",
    "        col_series = col_series.to_numpy()\n",
    "    elif is_string_dtype(col_series) or is_categorical_dtype(col_series):\n",
    "        dist_func = _update_dissimilarity_cat\n",
    "        col_series = col_series.to_numpy()\n",
    "    else:\n",
    "        print('Error: Unknown column dtype')\n",
    "        assert(False) # we should never get here\n",
    "\n",
    "    return (dist_func, col_series)\n",
    "\n",
    "\n",
    "def _provide_feedback(col, dist_func, weight):\n",
    "    explanation = {\n",
    "        _update_dissimilarity_set: 'set',\n",
    "        _update_dissimilarity_num: 'number',\n",
    "        _update_dissimilarity_cat: 'category',\n",
    "    }\n",
    "    print(f'Treating column »{col}« as a {explanation[dist_func]}, '\n",
    "          f'with weight={weight}')\n",
    "    return None\n",
    "    \n",
    "    \n",
    "def _add_dissim_matrix_for_col(dissimilarity, col_series, dist_func, weight):\n",
    "    for d_col in range(len(col_series)):\n",
    "        comparator = col_series[d_col]\n",
    "        dissimilarity = dist_func(dissimilarity, col_series, comparator, d_col, weight)\n",
    "    return dissimilarity\n",
    "\n",
    "\n",
    "def _calculate_dissimilarity(df, set_cols, weights, verbose):\n",
    "    dissimilarity = np.zeros([len(df), len(df)]).astype('float32')\n",
    "    weighted_count = 0.0\n",
    "\n",
    "    for col in df.columns:\n",
    "        col_series = df[col]\n",
    "        weight = 1 if col not in weights else weights[col]\n",
    "        weighted_count += weight\n",
    "        dist_func, col_series = _select_approach_for_col(col, set_cols, col_series)\n",
    "        if verbose: _provide_feedback(col, dist_func, weight)\n",
    "        dissimilarity = _add_dissim_matrix_for_col(dissimilarity, col_series, dist_func, weight)\n",
    "            \n",
    "    return dissimilarity / weighted_count\n",
    "\n",
    "\n",
    "# --- public facing function\n",
    "FloatInt = Union[float, int]\n",
    "StringInt = Union[str, int]\n",
    "def gower_matrix(df: pd.DataFrame, \n",
    "                 set_cols: Optional[List[StringInt]]=None,\n",
    "                 weights: Optional[Dict[StringInt, FloatInt]]=None,\n",
    "                 verbose: bool=False) -> np.ndarray:\n",
    "    \n",
    "    \"\"\"Calculate a Gower Dissimilarity Matrix for a DataFrame.\n",
    "       Arguments:\n",
    "           df -       the pandas DataFrame\n",
    "           set_cols - an optional list of DataFrame columns that contain set data\n",
    "           weights -  an optional dictionary of column names and associated weights \n",
    "                      (default weight for every column is 1)\n",
    "           verbose -  a Boolean for additional feedback while running\n",
    "       Returns:\n",
    "           An Augmented Gower Dissimilarity Matrix of size n * n, where n\n",
    "           is the number of rows (or observsations) in the DataFrame. \"\"\"\n",
    "    \n",
    "    # some sanity checks (takes all of about 2ms)\n",
    "    assert(df.columns.is_unique)\n",
    "    assert(df.index.is_unique)\n",
    "    assert(df.notna().all().all())\n",
    "    \n",
    "    # set up default variables\n",
    "    if set_cols is None:\n",
    "        set_cols = []\n",
    "    if weights is None:\n",
    "        weights = {}\n",
    "    \n",
    "    # return results\n",
    "    return _calculate_dissimilarity(df, set_cols, weights, verbose)"
   ]
  },
  {
   "cell_type": "markdown",
   "id": "64bab3c9",
   "metadata": {},
   "source": [
    "## Test my version against the official version"
   ]
  },
  {
   "cell_type": "code",
   "execution_count": 4,
   "id": "de9de9d9",
   "metadata": {
    "ExecuteTime": {
     "end_time": "2021-07-03T01:51:37.524923Z",
     "start_time": "2021-07-03T01:51:37.509505Z"
    }
   },
   "outputs": [
    {
     "data": {
      "text/html": [
       "<div>\n",
       "<style scoped>\n",
       "    .dataframe tbody tr th:only-of-type {\n",
       "        vertical-align: middle;\n",
       "    }\n",
       "\n",
       "    .dataframe tbody tr th {\n",
       "        vertical-align: top;\n",
       "    }\n",
       "\n",
       "    .dataframe thead th {\n",
       "        text-align: right;\n",
       "    }\n",
       "</style>\n",
       "<table border=\"1\" class=\"dataframe\">\n",
       "  <thead>\n",
       "    <tr style=\"text-align: right;\">\n",
       "      <th></th>\n",
       "      <th>Age</th>\n",
       "      <th>Race</th>\n",
       "      <th>Height</th>\n",
       "      <th>Income</th>\n",
       "      <th>IsMale</th>\n",
       "      <th>Politics</th>\n",
       "    </tr>\n",
       "  </thead>\n",
       "  <tbody>\n",
       "    <tr>\n",
       "      <th>one</th>\n",
       "      <td>22</td>\n",
       "      <td>1</td>\n",
       "      <td>3</td>\n",
       "      <td>0.39</td>\n",
       "      <td>TRUE</td>\n",
       "      <td>moderate</td>\n",
       "    </tr>\n",
       "    <tr>\n",
       "      <th>two</th>\n",
       "      <td>33</td>\n",
       "      <td>3</td>\n",
       "      <td>1</td>\n",
       "      <td>0.34</td>\n",
       "      <td>TRUE</td>\n",
       "      <td>liberal</td>\n",
       "    </tr>\n",
       "    <tr>\n",
       "      <th>three</th>\n",
       "      <td>52</td>\n",
       "      <td>1</td>\n",
       "      <td>2</td>\n",
       "      <td>0.51</td>\n",
       "      <td>FALSE</td>\n",
       "      <td>moderate</td>\n",
       "    </tr>\n",
       "    <tr>\n",
       "      <th>four</th>\n",
       "      <td>46</td>\n",
       "      <td>6</td>\n",
       "      <td>3</td>\n",
       "      <td>0.63</td>\n",
       "      <td>TRUE</td>\n",
       "      <td>conservative</td>\n",
       "    </tr>\n",
       "  </tbody>\n",
       "</table>\n",
       "</div>"
      ],
      "text/plain": [
       "       Age Race  Height  Income IsMale      Politics\n",
       "one     22    1       3    0.39   TRUE      moderate\n",
       "two     33    3       1    0.34   TRUE       liberal\n",
       "three   52    1       2    0.51  FALSE      moderate\n",
       "four    46    6       3    0.63   TRUE  conservative"
      ]
     },
     "execution_count": 4,
     "metadata": {},
     "output_type": "execute_result"
    }
   ],
   "source": [
    "# https://jamesmccaffrey.wordpress.com/2020/04/21/example-of-calculating-the-gower-distance/\n",
    "\n",
    "fake = pd.DataFrame([[22,   '1',     3,     0.39,   'TRUE',   'moderate',],\n",
    "                     [33,   '3',     1,     0.34,   'TRUE',   'liberal',],\n",
    "                     [52,   '1',     2,     0.51,   'FALSE',  'moderate'],\n",
    "                     [46,   '6',     3,     0.63,   'TRUE',   'conservative'],],\n",
    "                   columns = ['Age', 'Race', 'Height', 'Income', 'IsMale', 'Politics'],\n",
    "                   index = ['one', 'two', 'three', 'four'])\n",
    "fake"
   ]
  },
  {
   "cell_type": "code",
   "execution_count": 5,
   "id": "11564d84",
   "metadata": {
    "ExecuteTime": {
     "end_time": "2021-07-03T01:51:37.530546Z",
     "start_time": "2021-07-03T01:51:37.526475Z"
    }
   },
   "outputs": [
    {
     "data": {
      "text/plain": [
       "array([[0.        , 0.58984673, 0.48563218, 0.6045977 ],\n",
       "       [0.58984673, 0.        , 0.78659004, 0.7388889 ],\n",
       "       [0.48563218, 0.78659004, 0.        , 0.68563217],\n",
       "       [0.6045977 , 0.7388889 , 0.68563217, 0.        ]], dtype=float32)"
      ]
     },
     "execution_count": 5,
     "metadata": {},
     "output_type": "execute_result"
    }
   ],
   "source": [
    "# Official Version\n",
    "official = gower.gower_matrix(fake)\n",
    "official"
   ]
  },
  {
   "cell_type": "code",
   "execution_count": 6,
   "id": "d745dcaa",
   "metadata": {
    "ExecuteTime": {
     "end_time": "2021-07-03T01:51:37.537468Z",
     "start_time": "2021-07-03T01:51:37.531761Z"
    }
   },
   "outputs": [
    {
     "name": "stdout",
     "output_type": "stream",
     "text": [
      "Treating column »Age« as a number, with weight=1\n",
      "Treating column »Race« as a category, with weight=1\n",
      "Treating column »Height« as a number, with weight=1\n",
      "Treating column »Income« as a number, with weight=1\n",
      "Treating column »IsMale« as a category, with weight=1\n",
      "Treating column »Politics« as a category, with weight=1\n"
     ]
    },
    {
     "data": {
      "text/plain": [
       "array([[0.        , 0.5898468 , 0.48563218, 0.6045977 ],\n",
       "       [0.5898468 , 0.        , 0.78659004, 0.7388889 ],\n",
       "       [0.48563218, 0.78659004, 0.        , 0.6856322 ],\n",
       "       [0.6045977 , 0.7388889 , 0.6856322 , 0.        ]], dtype=float32)"
      ]
     },
     "execution_count": 6,
     "metadata": {},
     "output_type": "execute_result"
    }
   ],
   "source": [
    "# my version\n",
    "mine = gower_matrix(fake, verbose=True)\n",
    "mine"
   ]
  },
  {
   "cell_type": "code",
   "execution_count": 7,
   "id": "2aca09bb",
   "metadata": {
    "ExecuteTime": {
     "end_time": "2021-07-03T01:51:37.541327Z",
     "start_time": "2021-07-03T01:51:37.538622Z"
    }
   },
   "outputs": [
    {
     "data": {
      "text/plain": [
       "array([[ 0.0000000e+00, -5.9604645e-08,  0.0000000e+00,  0.0000000e+00],\n",
       "       [-5.9604645e-08,  0.0000000e+00,  0.0000000e+00,  0.0000000e+00],\n",
       "       [ 0.0000000e+00,  0.0000000e+00,  0.0000000e+00, -5.9604645e-08],\n",
       "       [ 0.0000000e+00,  0.0000000e+00, -5.9604645e-08,  0.0000000e+00]],\n",
       "      dtype=float32)"
      ]
     },
     "execution_count": 7,
     "metadata": {},
     "output_type": "execute_result"
    }
   ],
   "source": [
    "# Note: differences look like rounding errors\n",
    "# the two matrices are the same to seven decimal places\n",
    "official -  mine"
   ]
  },
  {
   "cell_type": "code",
   "execution_count": 8,
   "id": "30f61a53",
   "metadata": {
    "ExecuteTime": {
     "end_time": "2021-07-03T01:51:37.547968Z",
     "start_time": "2021-07-03T01:51:37.544417Z"
    }
   },
   "outputs": [
    {
     "data": {
      "text/plain": [
       "array([[ True, False,  True,  True],\n",
       "       [False,  True,  True,  True],\n",
       "       [ True,  True,  True, False],\n",
       "       [ True,  True, False,  True]])"
      ]
     },
     "execution_count": 8,
     "metadata": {},
     "output_type": "execute_result"
    }
   ],
   "source": [
    "official == mine"
   ]
  },
  {
   "cell_type": "markdown",
   "id": "53b22cbb",
   "metadata": {},
   "source": [
    "## Test for sets"
   ]
  },
  {
   "cell_type": "code",
   "execution_count": 9,
   "id": "b53be284",
   "metadata": {
    "ExecuteTime": {
     "end_time": "2021-07-03T01:51:37.557449Z",
     "start_time": "2021-07-03T01:51:37.550020Z"
    }
   },
   "outputs": [
    {
     "data": {
      "text/html": [
       "<div>\n",
       "<style scoped>\n",
       "    .dataframe tbody tr th:only-of-type {\n",
       "        vertical-align: middle;\n",
       "    }\n",
       "\n",
       "    .dataframe tbody tr th {\n",
       "        vertical-align: top;\n",
       "    }\n",
       "\n",
       "    .dataframe thead th {\n",
       "        text-align: right;\n",
       "    }\n",
       "</style>\n",
       "<table border=\"1\" class=\"dataframe\">\n",
       "  <thead>\n",
       "    <tr style=\"text-align: right;\">\n",
       "      <th></th>\n",
       "      <th>data</th>\n",
       "    </tr>\n",
       "  </thead>\n",
       "  <tbody>\n",
       "    <tr>\n",
       "      <th>one</th>\n",
       "      <td>{fred}</td>\n",
       "    </tr>\n",
       "    <tr>\n",
       "      <th>two</th>\n",
       "      <td>{john}</td>\n",
       "    </tr>\n",
       "    <tr>\n",
       "      <th>three</th>\n",
       "      <td>{fred, john}</td>\n",
       "    </tr>\n",
       "    <tr>\n",
       "      <th>four</th>\n",
       "      <td>{bill, fred, john}</td>\n",
       "    </tr>\n",
       "  </tbody>\n",
       "</table>\n",
       "</div>"
      ],
      "text/plain": [
       "                     data\n",
       "one                {fred}\n",
       "two                {john}\n",
       "three        {fred, john}\n",
       "four   {bill, fred, john}"
      ]
     },
     "execution_count": 9,
     "metadata": {},
     "output_type": "execute_result"
    }
   ],
   "source": [
    "fake2 = pd.DataFrame([\n",
    "    [{'fred'}],\n",
    "    [{'john'}],\n",
    "    [{'fred', 'john'}],\n",
    "    [{'fred', 'john', 'bill'}]],\n",
    "    columns = ['data'],\n",
    "    index = ['one', 'two', 'three', 'four']\n",
    ")\n",
    "fake2"
   ]
  },
  {
   "cell_type": "code",
   "execution_count": 10,
   "id": "84fa922f",
   "metadata": {
    "ExecuteTime": {
     "end_time": "2021-07-03T01:51:37.571891Z",
     "start_time": "2021-07-03T01:51:37.558827Z"
    }
   },
   "outputs": [
    {
     "name": "stdout",
     "output_type": "stream",
     "text": [
      "Treating column »data« as a set, with weight=1\n"
     ]
    },
    {
     "data": {
      "text/plain": [
       "array([[0.        , 1.        , 0.5       , 0.6666667 ],\n",
       "       [1.        , 0.        , 0.5       , 0.6666667 ],\n",
       "       [0.5       , 0.5       , 0.        , 0.33333334],\n",
       "       [0.6666667 , 0.6666667 , 0.33333334, 0.        ]], dtype=float32)"
      ]
     },
     "execution_count": 10,
     "metadata": {},
     "output_type": "execute_result"
    }
   ],
   "source": [
    "gower_matrix(fake2, set_cols=['data'], verbose=True)"
   ]
  },
  {
   "cell_type": "markdown",
   "id": "39ff6f70",
   "metadata": {},
   "source": [
    "## Further test: numeric, categorical and sets"
   ]
  },
  {
   "cell_type": "code",
   "execution_count": 11,
   "id": "bf167e47",
   "metadata": {
    "ExecuteTime": {
     "end_time": "2021-07-03T01:51:37.584799Z",
     "start_time": "2021-07-03T01:51:37.574277Z"
    }
   },
   "outputs": [
    {
     "data": {
      "text/html": [
       "<div>\n",
       "<style scoped>\n",
       "    .dataframe tbody tr th:only-of-type {\n",
       "        vertical-align: middle;\n",
       "    }\n",
       "\n",
       "    .dataframe tbody tr th {\n",
       "        vertical-align: top;\n",
       "    }\n",
       "\n",
       "    .dataframe thead th {\n",
       "        text-align: right;\n",
       "    }\n",
       "</style>\n",
       "<table border=\"1\" class=\"dataframe\">\n",
       "  <thead>\n",
       "    <tr style=\"text-align: right;\">\n",
       "      <th></th>\n",
       "      <th>Age</th>\n",
       "      <th>Race</th>\n",
       "      <th>Height</th>\n",
       "      <th>Income</th>\n",
       "      <th>IsMale</th>\n",
       "      <th>Politics</th>\n",
       "      <th>sets</th>\n",
       "    </tr>\n",
       "  </thead>\n",
       "  <tbody>\n",
       "    <tr>\n",
       "      <th>one</th>\n",
       "      <td>22</td>\n",
       "      <td>1</td>\n",
       "      <td>3</td>\n",
       "      <td>0.39</td>\n",
       "      <td>TRUE</td>\n",
       "      <td>moderate</td>\n",
       "      <td>{fred}</td>\n",
       "    </tr>\n",
       "    <tr>\n",
       "      <th>two</th>\n",
       "      <td>33</td>\n",
       "      <td>3</td>\n",
       "      <td>1</td>\n",
       "      <td>0.34</td>\n",
       "      <td>TRUE</td>\n",
       "      <td>liberal</td>\n",
       "      <td>{john}</td>\n",
       "    </tr>\n",
       "    <tr>\n",
       "      <th>three</th>\n",
       "      <td>52</td>\n",
       "      <td>1</td>\n",
       "      <td>2</td>\n",
       "      <td>0.51</td>\n",
       "      <td>FALSE</td>\n",
       "      <td>moderate</td>\n",
       "      <td>{fred, john}</td>\n",
       "    </tr>\n",
       "    <tr>\n",
       "      <th>four</th>\n",
       "      <td>46</td>\n",
       "      <td>6</td>\n",
       "      <td>3</td>\n",
       "      <td>0.63</td>\n",
       "      <td>TRUE</td>\n",
       "      <td>conservative</td>\n",
       "      <td>{bill, fred, john}</td>\n",
       "    </tr>\n",
       "  </tbody>\n",
       "</table>\n",
       "</div>"
      ],
      "text/plain": [
       "       Age Race  Height  Income IsMale      Politics                sets\n",
       "one     22    1       3    0.39   TRUE      moderate              {fred}\n",
       "two     33    3       1    0.34   TRUE       liberal              {john}\n",
       "three   52    1       2    0.51  FALSE      moderate        {fred, john}\n",
       "four    46    6       3    0.63   TRUE  conservative  {bill, fred, john}"
      ]
     },
     "execution_count": 11,
     "metadata": {},
     "output_type": "execute_result"
    }
   ],
   "source": [
    "fake3 = fake.copy()\n",
    "fake3['sets'] = fake2\n",
    "fake3"
   ]
  },
  {
   "cell_type": "code",
   "execution_count": 12,
   "id": "363df0dc",
   "metadata": {
    "ExecuteTime": {
     "end_time": "2021-07-03T01:51:37.596189Z",
     "start_time": "2021-07-03T01:51:37.586954Z"
    }
   },
   "outputs": [
    {
     "name": "stdout",
     "output_type": "stream",
     "text": [
      "Treating column »Age« as a number, with weight=1\n",
      "Treating column »Race« as a category, with weight=1\n",
      "Treating column »Height« as a number, with weight=1\n",
      "Treating column »Income« as a number, with weight=1\n",
      "Treating column »IsMale« as a category, with weight=1\n",
      "Treating column »Politics« as a category, with weight=1\n",
      "Treating column »sets« as a set, with weight=1\n"
     ]
    },
    {
     "data": {
      "text/plain": [
       "array([[0.        , 0.64844006, 0.48768473, 0.6134647 ],\n",
       "       [0.64844006, 0.        , 0.74564856, 0.7285714 ],\n",
       "       [0.48768473, 0.74564856, 0.        , 0.63530385],\n",
       "       [0.6134647 , 0.7285714 , 0.63530385, 0.        ]], dtype=float32)"
      ]
     },
     "execution_count": 12,
     "metadata": {},
     "output_type": "execute_result"
    }
   ],
   "source": [
    "gower_matrix(fake3, set_cols=['sets'], verbose=True)"
   ]
  },
  {
   "cell_type": "markdown",
   "id": "ba3431b4",
   "metadata": {},
   "source": [
    "## Test specified weights"
   ]
  },
  {
   "cell_type": "code",
   "execution_count": 13,
   "id": "1cd802b1",
   "metadata": {
    "ExecuteTime": {
     "end_time": "2021-07-03T01:51:37.606864Z",
     "start_time": "2021-07-03T01:51:37.598067Z"
    }
   },
   "outputs": [
    {
     "name": "stdout",
     "output_type": "stream",
     "text": [
      "Treating column »Age« as a number, with weight=2\n",
      "Treating column »Race« as a category, with weight=1\n",
      "Treating column »Height« as a number, with weight=3\n",
      "Treating column »Income« as a number, with weight=1\n",
      "Treating column »IsMale« as a category, with weight=1\n",
      "Treating column »Politics« as a category, with weight=1\n",
      "Treating column »sets« as a set, with weight=1\n"
     ]
    },
    {
     "data": {
      "text/plain": [
       "array([[0.        , 0.69057477, 0.54137933, 0.5094253 ],\n",
       "       [0.69057477, 0.        , 0.68528736, 0.75333333],\n",
       "       [0.54137933, 0.68528736, 0.        , 0.56471264],\n",
       "       [0.5094253 , 0.75333333, 0.56471264, 0.        ]], dtype=float32)"
      ]
     },
     "execution_count": 13,
     "metadata": {},
     "output_type": "execute_result"
    }
   ],
   "source": [
    "gower_matrix(fake3, set_cols=['sets'], weights={'Age': 2, 'Height': 3}, verbose=True)"
   ]
  },
  {
   "cell_type": "markdown",
   "id": "eee3a72b",
   "metadata": {},
   "source": [
    "## A failure case - non-specified set column treated as categorical"
   ]
  },
  {
   "cell_type": "code",
   "execution_count": 14,
   "id": "cdc7c5ed",
   "metadata": {
    "ExecuteTime": {
     "end_time": "2021-07-03T01:51:37.613394Z",
     "start_time": "2021-07-03T01:51:37.608530Z"
    }
   },
   "outputs": [
    {
     "name": "stdout",
     "output_type": "stream",
     "text": [
      "Treating column »data« as a category, with weight=1\n"
     ]
    },
    {
     "data": {
      "text/plain": [
       "array([[0., 1., 1., 1.],\n",
       "       [1., 0., 1., 1.],\n",
       "       [1., 1., 0., 1.],\n",
       "       [1., 1., 1., 0.]], dtype=float32)"
      ]
     },
     "execution_count": 14,
     "metadata": {},
     "output_type": "execute_result"
    }
   ],
   "source": [
    "gower_matrix(fake2, verbose=True)"
   ]
  },
  {
   "cell_type": "code",
   "execution_count": 15,
   "id": "8b978260",
   "metadata": {
    "ExecuteTime": {
     "end_time": "2021-07-03T01:51:37.621624Z",
     "start_time": "2021-07-03T01:51:37.615043Z"
    }
   },
   "outputs": [
    {
     "name": "stdout",
     "output_type": "stream",
     "text": [
      "Treating column »Age« as a number, with weight=1\n",
      "Treating column »Race« as a category, with weight=1\n",
      "Treating column »Height« as a number, with weight=1\n",
      "Treating column »Income« as a number, with weight=1\n",
      "Treating column »IsMale« as a category, with weight=1\n",
      "Treating column »Politics« as a category, with weight=1\n",
      "Treating column »sets« as a category, with weight=1\n"
     ]
    },
    {
     "data": {
      "text/plain": [
       "array([[0.        , 0.64844006, 0.5591133 , 0.66108376],\n",
       "       [0.64844006, 0.        , 0.81707716, 0.77619046],\n",
       "       [0.5591133 , 0.81707716, 0.        , 0.7305419 ],\n",
       "       [0.66108376, 0.77619046, 0.7305419 , 0.        ]], dtype=float32)"
      ]
     },
     "execution_count": 15,
     "metadata": {},
     "output_type": "execute_result"
    }
   ],
   "source": [
    "gower_matrix(fake3, verbose=True)"
   ]
  },
  {
   "cell_type": "code",
   "execution_count": null,
   "id": "3a2e3fc4",
   "metadata": {},
   "outputs": [],
   "source": []
  }
 ],
 "metadata": {
  "kernelspec": {
   "display_name": "Python 3",
   "language": "python",
   "name": "python3"
  },
  "language_info": {
   "codemirror_mode": {
    "name": "ipython",
    "version": 3
   },
   "file_extension": ".py",
   "mimetype": "text/x-python",
   "name": "python",
   "nbconvert_exporter": "python",
   "pygments_lexer": "ipython3",
   "version": "3.8.8"
  },
  "toc": {
   "base_numbering": 1,
   "nav_menu": {},
   "number_sections": true,
   "sideBar": true,
   "skip_h1_title": true,
   "title_cell": "Table of Contents",
   "title_sidebar": "Contents",
   "toc_cell": true,
   "toc_position": {},
   "toc_section_display": true,
   "toc_window_display": true
  }
 },
 "nbformat": 4,
 "nbformat_minor": 5
}
